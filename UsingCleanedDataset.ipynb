{
  "nbformat": 4,
  "nbformat_minor": 0,
  "metadata": {
    "colab": {
      "provenance": [],
      "authorship_tag": "ABX9TyMgiwG4caj4F6HD54ZgxnLU",
      "include_colab_link": true
    },
    "kernelspec": {
      "name": "python3",
      "display_name": "Python 3"
    },
    "language_info": {
      "name": "python"
    }
  },
  "cells": [
    {
      "cell_type": "markdown",
      "metadata": {
        "id": "view-in-github",
        "colab_type": "text"
      },
      "source": [
        "<a href=\"https://colab.research.google.com/github/mpily/FPL_AI_PROJECT/blob/main/UsingCleanedDataset.ipynb\" target=\"_parent\"><img src=\"https://colab.research.google.com/assets/colab-badge.svg\" alt=\"Open In Colab\"/></a>"
      ]
    },
    {
      "cell_type": "code",
      "execution_count": 1,
      "metadata": {
        "colab": {
          "base_uri": "https://localhost:8080/"
        },
        "id": "QiKxC6aL8VY6",
        "outputId": "839b51f0-f966-4f66-ee15-0da411f6ee42"
      },
      "outputs": [
        {
          "output_type": "stream",
          "name": "stdout",
          "text": [
            "Mounted at /content/drive\n"
          ]
        }
      ],
      "source": [
        "from google.colab import drive\n",
        "drive.mount('/content/drive')"
      ]
    },
    {
      "cell_type": "code",
      "source": [
        "%cd /content/drive/MyDrive/Sun* AI Project/"
      ],
      "metadata": {
        "colab": {
          "base_uri": "https://localhost:8080/"
        },
        "id": "cuf06_ht8XbX",
        "outputId": "1f1bb67e-34e8-482f-cca4-4730d84efa7e"
      },
      "execution_count": 4,
      "outputs": [
        {
          "output_type": "stream",
          "name": "stdout",
          "text": [
            "/content/drive/MyDrive/Sun* AI Project\n"
          ]
        }
      ]
    },
    {
      "cell_type": "code",
      "source": [
        "%ls\n"
      ],
      "metadata": {
        "colab": {
          "base_uri": "https://localhost:8080/"
        },
        "id": "J2xrPmnI8j84",
        "outputId": "cb2288ac-b0a1-4ad6-b4ce-e78757fcc5ca"
      },
      "execution_count": 5,
      "outputs": [
        {
          "output_type": "stream",
          "name": "stdout",
          "text": [
            "\u001b[0m\u001b[01;34mcleaned_dataset\u001b[0m/  data_fpl.csv  data_fpl.gsheet  data_fpl.xlsx\n"
          ]
        }
      ]
    },
    {
      "cell_type": "code",
      "source": [
        "import pandas as pd\n",
        "import numpy as np"
      ],
      "metadata": {
        "id": "KPKKJlkO90dT"
      },
      "execution_count": 23,
      "outputs": []
    },
    {
      "cell_type": "code",
      "source": [
        "train_mid = pd.read_csv(\"cleaned_dataset/train_MID.csv\", index_col=0)\n",
        "test_mid = pd.read_csv(\"cleaned_dataset/test_MID.csv\", index_col=0)\n",
        "train_copy = train_mid.copy()\n",
        "test_copy = test_mid.copy()\n",
        "\n",
        "train_mid[\"index\"] = train_mid[\"name\"] + train_mid[\"kickoff_time\"].astype(\"str\")\n",
        "train_mid.drop_duplicates(\"index\", keep=\"last\", inplace=True)\n",
        "train_mid = train_mid.set_index(\"index\")\n",
        "train_mid.drop([\"kickoff_time\"], axis=1, inplace=True)\n",
        "\n",
        "test_mid[\"index\"] = test_mid[\"name\"] + test_mid[\"kickoff_time\"].astype(\"str\")\n",
        "\n",
        "test_mid = test_mid.set_index(\"index\")\n",
        "test_mid.drop([\"kickoff_time\"], axis=1, inplace=True)\n",
        "\n",
        "target = train_mid[[\"minutes\", \"GW\"]]\n",
        "train_mid.drop([\"total_points\", \"minutes\"], axis=1, inplace=True)\n",
        "test_mid.drop([\"total_points\", \"minutes\"], axis=1, inplace=True)\n",
        "\n",
        "\n",
        "for col in train_mid.columns:\n",
        "    if train_mid[col].dtype == \"object\":\n",
        "        if col not in [\"team_x\", \"name\"]:\n",
        "            train_mid[col] = pd.factorize(train_mid[col])[0]\n",
        "            test_mid[col] = pd.factorize(test_mid[col])[0]\n",
        "\n",
        "train_mid[\"was_home\"] = train_mid[\"was_home\"].replace({True: 0, False: 1})\n",
        "test_mid[\"was_home\"] = test_mid[\"was_home\"].replace({True: 0, False: 1})\n",
        "\n",
        "test_mid = test_mid[train_mid.columns]"
      ],
      "metadata": {
        "id": "lsoW7TVn9pzW"
      },
      "execution_count": 7,
      "outputs": []
    },
    {
      "cell_type": "code",
      "source": [
        "from sklearn.model_selection import train_test_split\n",
        "leak_columns=[\"name\", \"team_x\"]#columns that shouldnt be used in training fir fear of data leakage\n"
      ],
      "metadata": {
        "id": "m20pg7pn-i28"
      },
      "execution_count": 10,
      "outputs": []
    },
    {
      "cell_type": "code",
      "source": [
        "x, val, y, y_val = train_test_split(\n",
        "    train_mid.drop(leak_columns, axis=1), target[\"GW\"], test_size=0.1, random_state=0\n",
        ")\n",
        "\n",
        "y = target[\"minutes\"].loc[y.index]\n",
        "y_val = target[\"minutes\"].loc[y_val.index]\n"
      ],
      "metadata": {
        "id": "Mmbp7C1--mmh"
      },
      "execution_count": 11,
      "outputs": []
    },
    {
      "cell_type": "code",
      "source": [
        "#STEP 1: USE RANDOM FOREST CLASSIFIER TO PREDICT WHETHER PLAYER WILL PLAY OR NOT\n",
        "from sklearn.ensemble import RandomForestClassifier\n",
        "from sklearn.metrics import confusion_matrix\n",
        "from sklearn.preprocessing import StandardScaler, RobustScaler, MinMaxScaler\n",
        "from sklearn.impute import SimpleImputer\n",
        "from sklearn.pipeline import Pipeline\n",
        "random_forest = Pipeline(\n",
        "    [\n",
        "        (\"imp\", SimpleImputer()),\n",
        "        (\"scaler\", StandardScaler()),\n",
        "        (\n",
        "            \"model\",\n",
        "            RandomForestClassifier(n_estimators=1000, max_depth=10, random_state=1),\n",
        "        ),\n",
        "    ]\n",
        ")\n",
        "\n",
        "random_forest.fit(x,y)\n",
        "print(confusion_matrix(random_forest.predict(val), y_val))"
      ],
      "metadata": {
        "colab": {
          "base_uri": "https://localhost:8080/",
          "height": 393
        },
        "id": "SLTf7Hi7_YXj",
        "outputId": "76a881af-baf2-4f1e-f936-3cbb08779b6f"
      },
      "execution_count": 19,
      "outputs": [
        {
          "output_type": "error",
          "ename": "ImportError",
          "evalue": "ignored",
          "traceback": [
            "\u001b[0;31m---------------------------------------------------------------------------\u001b[0m",
            "\u001b[0;31mImportError\u001b[0m                               Traceback (most recent call last)",
            "\u001b[0;32m<ipython-input-19-292f9bcd4d4c>\u001b[0m in \u001b[0;36m<module>\u001b[0;34m\u001b[0m\n\u001b[1;32m      1\u001b[0m \u001b[0;31m#STEP 1: USE RANDOM FOREST CLASSIFIER TO PREDICT WHETHER PLAYER WILL PLAY OR NOT\u001b[0m\u001b[0;34m\u001b[0m\u001b[0;34m\u001b[0m\u001b[0;34m\u001b[0m\u001b[0m\n\u001b[1;32m      2\u001b[0m \u001b[0;32mfrom\u001b[0m \u001b[0msklearn\u001b[0m\u001b[0;34m.\u001b[0m\u001b[0mensemble\u001b[0m \u001b[0;32mimport\u001b[0m \u001b[0mRandomForestClassifier\u001b[0m\u001b[0;34m\u001b[0m\u001b[0;34m\u001b[0m\u001b[0m\n\u001b[0;32m----> 3\u001b[0;31m \u001b[0;32mfrom\u001b[0m \u001b[0msklearn\u001b[0m\u001b[0;34m.\u001b[0m\u001b[0mmetrics\u001b[0m \u001b[0;32mimport\u001b[0m \u001b[0mconfusion_matrix\u001b[0m\u001b[0;34m,\u001b[0m \u001b[0mmean_absolute_error\u001b[0m\u001b[0;34m,\u001b[0m \u001b[0mmean_square_error\u001b[0m\u001b[0;34m\u001b[0m\u001b[0;34m\u001b[0m\u001b[0m\n\u001b[0m\u001b[1;32m      4\u001b[0m \u001b[0;32mfrom\u001b[0m \u001b[0msklearn\u001b[0m\u001b[0;34m.\u001b[0m\u001b[0mpreprocessing\u001b[0m \u001b[0;32mimport\u001b[0m \u001b[0mStandardScaler\u001b[0m\u001b[0;34m,\u001b[0m \u001b[0mRobustScaler\u001b[0m\u001b[0;34m,\u001b[0m \u001b[0mMinMaxScaler\u001b[0m\u001b[0;34m\u001b[0m\u001b[0;34m\u001b[0m\u001b[0m\n\u001b[1;32m      5\u001b[0m \u001b[0;32mfrom\u001b[0m \u001b[0msklearn\u001b[0m\u001b[0;34m.\u001b[0m\u001b[0mimpute\u001b[0m \u001b[0;32mimport\u001b[0m \u001b[0mSimpleImputer\u001b[0m\u001b[0;34m\u001b[0m\u001b[0;34m\u001b[0m\u001b[0m\n",
            "\u001b[0;31mImportError\u001b[0m: cannot import name 'mean_square_error' from 'sklearn.metrics' (/usr/local/lib/python3.8/dist-packages/sklearn/metrics/__init__.py)",
            "",
            "\u001b[0;31m---------------------------------------------------------------------------\u001b[0;32m\nNOTE: If your import is failing due to a missing package, you can\nmanually install dependencies using either !pip or !apt.\n\nTo view examples of installing some common dependencies, click the\n\"Open Examples\" button below.\n\u001b[0;31m---------------------------------------------------------------------------\u001b[0m\n"
          ],
          "errorDetails": {
            "actions": [
              {
                "action": "open_url",
                "actionText": "Open Examples",
                "url": "/notebooks/snippets/importing_libraries.ipynb"
              }
            ]
          }
        }
      ]
    },
    {
      "cell_type": "code",
      "source": [
        "print(random_forest.score(val,y_val))"
      ],
      "metadata": {
        "colab": {
          "base_uri": "https://localhost:8080/"
        },
        "id": "0jXyZwwACrHk",
        "outputId": "15d8ff0f-bba6-4097-c657-3e9fe2f3adfc"
      },
      "execution_count": 17,
      "outputs": [
        {
          "output_type": "stream",
          "name": "stdout",
          "text": [
            "0.8229278794402584\n"
          ]
        }
      ]
    },
    {
      "cell_type": "code",
      "source": [
        "#Step 2: predicting points of starting players\n",
        "train_mid = train_copy[train_copy[\"minutes\"] > 0]\n",
        "test_mid = test_copy[test_copy[\"minutes\"] > 0]\n",
        "\n",
        "\n",
        "# predict points\n",
        "train_mid[\"index\"] = train_mid[\"name\"] + train_mid[\"kickoff_time\"].astype(\"str\")\n",
        "train_mid.drop_duplicates(\"index\", keep=\"last\", inplace=True)\n",
        "train_mid = train_mid.set_index(\"index\")\n",
        "train_mid.drop([\"kickoff_time\"], axis=1, inplace=True)\n",
        "\n",
        "test_mid[\"index\"] = test_mid[\"name\"] + test_mid[\"kickoff_time\"].astype(\"str\")\n",
        "test_mid = test_mid.set_index(\"index\")\n",
        "test_mid.drop([\"kickoff_time\"], axis=1, inplace=True)\n",
        "\n",
        "target = train_mid[[\"total_points\", \"GW\"]]\n",
        "train_mid.drop([\"total_points\", \"minutes\"], axis=1, inplace=True)\n",
        "test_mid.drop([\"total_points\", \"minutes\"], axis=1, inplace=True)\n",
        "\n",
        "for col in train_mid.columns:\n",
        "    if train_mid[col].dtype == \"object\":\n",
        "        if col not in [\"team_x\", \"name\"]:\n",
        "            train_mid[col] = pd.factorize(train_mid[col])[0]\n",
        "            test_mid[col] = pd.factorize(test_mid[col])[0]\n",
        "\n",
        "train_mid[\"was_home\"] = train_mid[\"was_home\"].replace({True: 0, False: 1})\n",
        "\n",
        "test_mid[\"was_home\"] = test_mid[\"was_home\"].replace({True: 0, False: 1})\n",
        "\n",
        "test_mid = test_mid[train_mid.columns]\n",
        "\n",
        "x, val, y, y_val = train_test_split(\n",
        "    train_mid.drop(leak_columns, axis=1), target[\"GW\"], test_size=0.1, random_state=0\n",
        ")\n"
      ],
      "metadata": {
        "colab": {
          "base_uri": "https://localhost:8080/"
        },
        "id": "4p6laKhWDK1E",
        "outputId": "54d55fe6-e1b5-4413-b6bc-c03268506aae"
      },
      "execution_count": 21,
      "outputs": [
        {
          "output_type": "stream",
          "name": "stderr",
          "text": [
            "<ipython-input-21-c52b53b3c62d>:7: SettingWithCopyWarning: \n",
            "A value is trying to be set on a copy of a slice from a DataFrame.\n",
            "Try using .loc[row_indexer,col_indexer] = value instead\n",
            "\n",
            "See the caveats in the documentation: https://pandas.pydata.org/pandas-docs/stable/user_guide/indexing.html#returning-a-view-versus-a-copy\n",
            "  train_mid[\"index\"] = train_mid[\"name\"] + train_mid[\"kickoff_time\"].astype(\"str\")\n",
            "/usr/local/lib/python3.8/dist-packages/pandas/util/_decorators.py:311: SettingWithCopyWarning: \n",
            "A value is trying to be set on a copy of a slice from a DataFrame\n",
            "\n",
            "See the caveats in the documentation: https://pandas.pydata.org/pandas-docs/stable/user_guide/indexing.html#returning-a-view-versus-a-copy\n",
            "  return func(*args, **kwargs)\n"
          ]
        }
      ]
    },
    {
      "cell_type": "code",
      "source": [
        "from sklearn.ensemble import RandomForestRegressor\n",
        "from sklearn.metrics import mean_squared_error, mean_absolute_error\n",
        "model = Pipeline(\n",
        "    [\n",
        "        (\"imp\", SimpleImputer()),\n",
        "        (\"scaler\", StandardScaler()),\n",
        "        (\n",
        "            \"model\",\n",
        "            RandomForestRegressor(random_state=0, max_depth=8, n_estimators=1000),\n",
        "        ),\n",
        "    ]\n",
        ")"
      ],
      "metadata": {
        "id": "L9h25XbNEIRv"
      },
      "execution_count": 22,
      "outputs": []
    },
    {
      "cell_type": "code",
      "source": [
        "y = target[\"total_points\"].loc[y.index]\n",
        "y_val = target[\"total_points\"].loc[y_val.index]\n",
        "\n",
        "model.fit(x, y)\n",
        "print(mean_absolute_error(model.predict(val), y_val))\n",
        "print(\n",
        "    f\"Root Mean Squared Error {np.sqrt(mean_squared_error(model.predict(val), y_val))}\"\n",
        ")"
      ],
      "metadata": {
        "colab": {
          "base_uri": "https://localhost:8080/"
        },
        "id": "N_Ze7yk0EEJ1",
        "outputId": "4e244eca-2558-4fcf-827b-a5b2dfd8fc29"
      },
      "execution_count": 24,
      "outputs": [
        {
          "output_type": "stream",
          "name": "stdout",
          "text": [
            "1.78188135881104\n",
            "Root Mean Squared Error 2.700333827684707\n"
          ]
        }
      ]
    },
    {
      "cell_type": "code",
      "source": [
        "print(model.score(val,y_val))"
      ],
      "metadata": {
        "colab": {
          "base_uri": "https://localhost:8080/"
        },
        "id": "5NqCysV8FLhH",
        "outputId": "751da7b1-94aa-40dc-a4cc-34a1f270ea3a"
      },
      "execution_count": 25,
      "outputs": [
        {
          "output_type": "stream",
          "name": "stdout",
          "text": [
            "0.12900481251957174\n"
          ]
        }
      ]
    }
  ]
}