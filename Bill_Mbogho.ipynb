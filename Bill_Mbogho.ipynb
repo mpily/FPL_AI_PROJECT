{
  "cells": [
    {
      "cell_type": "markdown",
      "metadata": {
        "id": "view-in-github",
        "colab_type": "text"
      },
      "source": [
        "<a href=\"https://colab.research.google.com/github/mpily/FPL_AI_PROJECT/blob/main/Bill_Mbogho.ipynb\" target=\"_parent\"><img src=\"https://colab.research.google.com/assets/colab-badge.svg\" alt=\"Open In Colab\"/></a>"
      ]
    },
    {
      "cell_type": "code",
      "execution_count": 9,
      "metadata": {
        "id": "gEybFvT2Ri8l",
        "colab": {
          "base_uri": "https://localhost:8080/"
        },
        "outputId": "cfc0c433-b93a-47ea-862f-fd73b24562a9"
      },
      "outputs": [
        {
          "output_type": "stream",
          "name": "stdout",
          "text": [
            "Drive already mounted at /content/drive; to attempt to forcibly remount, call drive.mount(\"/content/drive\", force_remount=True).\n"
          ]
        }
      ],
      "source": [
        "from google.colab import drive\n",
        "drive.mount('/content/drive')"
      ]
    },
    {
      "cell_type": "code",
      "execution_count": null,
      "metadata": {
        "colab": {
          "base_uri": "https://localhost:8080/"
        },
        "id": "VTT6FJGXcC8w",
        "outputId": "d3d496e7-0e16-47ee-a320-da17d0faa59a"
      },
      "outputs": [
        {
          "output_type": "stream",
          "name": "stdout",
          "text": [
            "/content/drive/MyDrive/Sun* AI Project\n"
          ]
        }
      ],
      "source": [
        "%cd /content/drive/MyDrive/Sun* AI Project/"
      ]
    },
    {
      "cell_type": "code",
      "execution_count": null,
      "metadata": {
        "colab": {
          "base_uri": "https://localhost:8080/"
        },
        "id": "3uQRGHsOcRYc",
        "outputId": "ccbc824d-eb26-4a78-9e7c-8ee4d3e77543"
      },
      "outputs": [
        {
          "output_type": "stream",
          "name": "stdout",
          "text": [
            "data_fpl.csv  data_fpl.gsheet  data_fpl.xlsx\n"
          ]
        }
      ],
      "source": [
        "%ls"
      ]
    },
    {
      "cell_type": "code",
      "execution_count": null,
      "metadata": {
        "id": "KJLIZl43d8TE"
      },
      "outputs": [],
      "source": [
        "import pandas as pd\n",
        "from sklearn.metrics import mean_squared_error, mean_absolute_error, r2_score\n"
      ]
    },
    {
      "cell_type": "code",
      "execution_count": 10,
      "metadata": {
        "id": "pyNjg8OxdA4q"
      },
      "outputs": [],
      "source": [
        "data_file = 'data_fpl.xlsx'\n",
        "train_data = pd.read_excel(data_file,sheet_name=0)"
      ]
    },
    {
      "cell_type": "code",
      "execution_count": 11,
      "metadata": {
        "colab": {
          "base_uri": "https://localhost:8080/",
          "height": 317
        },
        "id": "2tGItNIEfMhY",
        "outputId": "419769d1-87fc-4a22-bd6c-7ca2cd78f648"
      },
      "outputs": [
        {
          "output_type": "execute_result",
          "data": {
            "text/plain": [
              "   Unnamed: 0  chance_of_playing_next_round  chance_of_playing_this_round  \\\n",
              "0         0.0                         100.0                         100.0   \n",
              "1         1.0                         100.0                         100.0   \n",
              "2         2.0                         100.0                         100.0   \n",
              "3         3.0                         100.0                         100.0   \n",
              "4         4.0                         100.0                         100.0   \n",
              "\n",
              "   cost_change_event  cost_change_event_fall  cost_change_start  \\\n",
              "0                0.0                     0.0               -3.0   \n",
              "1                0.0                     0.0               -3.0   \n",
              "2                0.0                     0.0               -3.0   \n",
              "3                0.0                     0.0               -3.0   \n",
              "4                0.0                     0.0               -3.0   \n",
              "\n",
              "   cost_change_start_fall  dreamteam_count  element_type  ep_next  ...  \\\n",
              "0                     3.0              0.0           2.0      1.5  ...   \n",
              "1                     3.0              0.0           2.0      1.5  ...   \n",
              "2                     3.0              0.0           2.0      1.5  ...   \n",
              "3                     3.0              0.0           2.0      1.5  ...   \n",
              "4                     3.0              0.0           2.0      1.5  ...   \n",
              "\n",
              "   form_rank_type  points_per_game_rank  points_per_game_rank_type  \\\n",
              "0            50.0                 376.0                      141.0   \n",
              "1            50.0                 376.0                      141.0   \n",
              "2            50.0                 376.0                      141.0   \n",
              "3            50.0                 376.0                      141.0   \n",
              "4            50.0                 376.0                      141.0   \n",
              "\n",
              "   selected_rank  selected_rank_type starts_per_90 clean_sheets_per_90  \\\n",
              "0          402.0               148.0           0.0                 0.0   \n",
              "1          402.0               148.0           0.0                 0.0   \n",
              "2          402.0               148.0           0.0                 0.0   \n",
              "3          402.0               148.0           0.0                 0.0   \n",
              "4          402.0               148.0           0.0                 0.0   \n",
              "\n",
              "    opponent_team  opponent_team_difficulty  points  \n",
              "0  Crystal Palace                        10     0.0  \n",
              "1       Leicester                         8     0.0  \n",
              "2     Bournemouth                         7     0.0  \n",
              "3          Fulham                        12     0.0  \n",
              "4     Aston Villa                         9     0.0  \n",
              "\n",
              "[5 rows x 94 columns]"
            ],
            "text/html": [
              "\n",
              "  <div id=\"df-acf25a4c-7eff-4d8d-9f75-d3530e9e7831\">\n",
              "    <div class=\"colab-df-container\">\n",
              "      <div>\n",
              "<style scoped>\n",
              "    .dataframe tbody tr th:only-of-type {\n",
              "        vertical-align: middle;\n",
              "    }\n",
              "\n",
              "    .dataframe tbody tr th {\n",
              "        vertical-align: top;\n",
              "    }\n",
              "\n",
              "    .dataframe thead th {\n",
              "        text-align: right;\n",
              "    }\n",
              "</style>\n",
              "<table border=\"1\" class=\"dataframe\">\n",
              "  <thead>\n",
              "    <tr style=\"text-align: right;\">\n",
              "      <th></th>\n",
              "      <th>Unnamed: 0</th>\n",
              "      <th>chance_of_playing_next_round</th>\n",
              "      <th>chance_of_playing_this_round</th>\n",
              "      <th>cost_change_event</th>\n",
              "      <th>cost_change_event_fall</th>\n",
              "      <th>cost_change_start</th>\n",
              "      <th>cost_change_start_fall</th>\n",
              "      <th>dreamteam_count</th>\n",
              "      <th>element_type</th>\n",
              "      <th>ep_next</th>\n",
              "      <th>...</th>\n",
              "      <th>form_rank_type</th>\n",
              "      <th>points_per_game_rank</th>\n",
              "      <th>points_per_game_rank_type</th>\n",
              "      <th>selected_rank</th>\n",
              "      <th>selected_rank_type</th>\n",
              "      <th>starts_per_90</th>\n",
              "      <th>clean_sheets_per_90</th>\n",
              "      <th>opponent_team</th>\n",
              "      <th>opponent_team_difficulty</th>\n",
              "      <th>points</th>\n",
              "    </tr>\n",
              "  </thead>\n",
              "  <tbody>\n",
              "    <tr>\n",
              "      <th>0</th>\n",
              "      <td>0.0</td>\n",
              "      <td>100.0</td>\n",
              "      <td>100.0</td>\n",
              "      <td>0.0</td>\n",
              "      <td>0.0</td>\n",
              "      <td>-3.0</td>\n",
              "      <td>3.0</td>\n",
              "      <td>0.0</td>\n",
              "      <td>2.0</td>\n",
              "      <td>1.5</td>\n",
              "      <td>...</td>\n",
              "      <td>50.0</td>\n",
              "      <td>376.0</td>\n",
              "      <td>141.0</td>\n",
              "      <td>402.0</td>\n",
              "      <td>148.0</td>\n",
              "      <td>0.0</td>\n",
              "      <td>0.0</td>\n",
              "      <td>Crystal Palace</td>\n",
              "      <td>10</td>\n",
              "      <td>0.0</td>\n",
              "    </tr>\n",
              "    <tr>\n",
              "      <th>1</th>\n",
              "      <td>1.0</td>\n",
              "      <td>100.0</td>\n",
              "      <td>100.0</td>\n",
              "      <td>0.0</td>\n",
              "      <td>0.0</td>\n",
              "      <td>-3.0</td>\n",
              "      <td>3.0</td>\n",
              "      <td>0.0</td>\n",
              "      <td>2.0</td>\n",
              "      <td>1.5</td>\n",
              "      <td>...</td>\n",
              "      <td>50.0</td>\n",
              "      <td>376.0</td>\n",
              "      <td>141.0</td>\n",
              "      <td>402.0</td>\n",
              "      <td>148.0</td>\n",
              "      <td>0.0</td>\n",
              "      <td>0.0</td>\n",
              "      <td>Leicester</td>\n",
              "      <td>8</td>\n",
              "      <td>0.0</td>\n",
              "    </tr>\n",
              "    <tr>\n",
              "      <th>2</th>\n",
              "      <td>2.0</td>\n",
              "      <td>100.0</td>\n",
              "      <td>100.0</td>\n",
              "      <td>0.0</td>\n",
              "      <td>0.0</td>\n",
              "      <td>-3.0</td>\n",
              "      <td>3.0</td>\n",
              "      <td>0.0</td>\n",
              "      <td>2.0</td>\n",
              "      <td>1.5</td>\n",
              "      <td>...</td>\n",
              "      <td>50.0</td>\n",
              "      <td>376.0</td>\n",
              "      <td>141.0</td>\n",
              "      <td>402.0</td>\n",
              "      <td>148.0</td>\n",
              "      <td>0.0</td>\n",
              "      <td>0.0</td>\n",
              "      <td>Bournemouth</td>\n",
              "      <td>7</td>\n",
              "      <td>0.0</td>\n",
              "    </tr>\n",
              "    <tr>\n",
              "      <th>3</th>\n",
              "      <td>3.0</td>\n",
              "      <td>100.0</td>\n",
              "      <td>100.0</td>\n",
              "      <td>0.0</td>\n",
              "      <td>0.0</td>\n",
              "      <td>-3.0</td>\n",
              "      <td>3.0</td>\n",
              "      <td>0.0</td>\n",
              "      <td>2.0</td>\n",
              "      <td>1.5</td>\n",
              "      <td>...</td>\n",
              "      <td>50.0</td>\n",
              "      <td>376.0</td>\n",
              "      <td>141.0</td>\n",
              "      <td>402.0</td>\n",
              "      <td>148.0</td>\n",
              "      <td>0.0</td>\n",
              "      <td>0.0</td>\n",
              "      <td>Fulham</td>\n",
              "      <td>12</td>\n",
              "      <td>0.0</td>\n",
              "    </tr>\n",
              "    <tr>\n",
              "      <th>4</th>\n",
              "      <td>4.0</td>\n",
              "      <td>100.0</td>\n",
              "      <td>100.0</td>\n",
              "      <td>0.0</td>\n",
              "      <td>0.0</td>\n",
              "      <td>-3.0</td>\n",
              "      <td>3.0</td>\n",
              "      <td>0.0</td>\n",
              "      <td>2.0</td>\n",
              "      <td>1.5</td>\n",
              "      <td>...</td>\n",
              "      <td>50.0</td>\n",
              "      <td>376.0</td>\n",
              "      <td>141.0</td>\n",
              "      <td>402.0</td>\n",
              "      <td>148.0</td>\n",
              "      <td>0.0</td>\n",
              "      <td>0.0</td>\n",
              "      <td>Aston Villa</td>\n",
              "      <td>9</td>\n",
              "      <td>0.0</td>\n",
              "    </tr>\n",
              "  </tbody>\n",
              "</table>\n",
              "<p>5 rows × 94 columns</p>\n",
              "</div>\n",
              "      <button class=\"colab-df-convert\" onclick=\"convertToInteractive('df-acf25a4c-7eff-4d8d-9f75-d3530e9e7831')\"\n",
              "              title=\"Convert this dataframe to an interactive table.\"\n",
              "              style=\"display:none;\">\n",
              "        \n",
              "  <svg xmlns=\"http://www.w3.org/2000/svg\" height=\"24px\"viewBox=\"0 0 24 24\"\n",
              "       width=\"24px\">\n",
              "    <path d=\"M0 0h24v24H0V0z\" fill=\"none\"/>\n",
              "    <path d=\"M18.56 5.44l.94 2.06.94-2.06 2.06-.94-2.06-.94-.94-2.06-.94 2.06-2.06.94zm-11 1L8.5 8.5l.94-2.06 2.06-.94-2.06-.94L8.5 2.5l-.94 2.06-2.06.94zm10 10l.94 2.06.94-2.06 2.06-.94-2.06-.94-.94-2.06-.94 2.06-2.06.94z\"/><path d=\"M17.41 7.96l-1.37-1.37c-.4-.4-.92-.59-1.43-.59-.52 0-1.04.2-1.43.59L10.3 9.45l-7.72 7.72c-.78.78-.78 2.05 0 2.83L4 21.41c.39.39.9.59 1.41.59.51 0 1.02-.2 1.41-.59l7.78-7.78 2.81-2.81c.8-.78.8-2.07 0-2.86zM5.41 20L4 18.59l7.72-7.72 1.47 1.35L5.41 20z\"/>\n",
              "  </svg>\n",
              "      </button>\n",
              "      \n",
              "  <style>\n",
              "    .colab-df-container {\n",
              "      display:flex;\n",
              "      flex-wrap:wrap;\n",
              "      gap: 12px;\n",
              "    }\n",
              "\n",
              "    .colab-df-convert {\n",
              "      background-color: #E8F0FE;\n",
              "      border: none;\n",
              "      border-radius: 50%;\n",
              "      cursor: pointer;\n",
              "      display: none;\n",
              "      fill: #1967D2;\n",
              "      height: 32px;\n",
              "      padding: 0 0 0 0;\n",
              "      width: 32px;\n",
              "    }\n",
              "\n",
              "    .colab-df-convert:hover {\n",
              "      background-color: #E2EBFA;\n",
              "      box-shadow: 0px 1px 2px rgba(60, 64, 67, 0.3), 0px 1px 3px 1px rgba(60, 64, 67, 0.15);\n",
              "      fill: #174EA6;\n",
              "    }\n",
              "\n",
              "    [theme=dark] .colab-df-convert {\n",
              "      background-color: #3B4455;\n",
              "      fill: #D2E3FC;\n",
              "    }\n",
              "\n",
              "    [theme=dark] .colab-df-convert:hover {\n",
              "      background-color: #434B5C;\n",
              "      box-shadow: 0px 1px 3px 1px rgba(0, 0, 0, 0.15);\n",
              "      filter: drop-shadow(0px 1px 2px rgba(0, 0, 0, 0.3));\n",
              "      fill: #FFFFFF;\n",
              "    }\n",
              "  </style>\n",
              "\n",
              "      <script>\n",
              "        const buttonEl =\n",
              "          document.querySelector('#df-acf25a4c-7eff-4d8d-9f75-d3530e9e7831 button.colab-df-convert');\n",
              "        buttonEl.style.display =\n",
              "          google.colab.kernel.accessAllowed ? 'block' : 'none';\n",
              "\n",
              "        async function convertToInteractive(key) {\n",
              "          const element = document.querySelector('#df-acf25a4c-7eff-4d8d-9f75-d3530e9e7831');\n",
              "          const dataTable =\n",
              "            await google.colab.kernel.invokeFunction('convertToInteractive',\n",
              "                                                     [key], {});\n",
              "          if (!dataTable) return;\n",
              "\n",
              "          const docLinkHtml = 'Like what you see? Visit the ' +\n",
              "            '<a target=\"_blank\" href=https://colab.research.google.com/notebooks/data_table.ipynb>data table notebook</a>'\n",
              "            + ' to learn more about interactive tables.';\n",
              "          element.innerHTML = '';\n",
              "          dataTable['output_type'] = 'display_data';\n",
              "          await google.colab.output.renderOutput(dataTable, element);\n",
              "          const docLink = document.createElement('div');\n",
              "          docLink.innerHTML = docLinkHtml;\n",
              "          element.appendChild(docLink);\n",
              "        }\n",
              "      </script>\n",
              "    </div>\n",
              "  </div>\n",
              "  "
            ]
          },
          "metadata": {},
          "execution_count": 11
        }
      ],
      "source": [
        "train_data.head()"
      ]
    },
    {
      "cell_type": "code",
      "execution_count": 12,
      "metadata": {
        "colab": {
          "base_uri": "https://localhost:8080/"
        },
        "id": "hhhgeaHglLe-",
        "outputId": "babdc3d9-3705-4a09-85cc-2f94c550cd23"
      },
      "outputs": [
        {
          "output_type": "stream",
          "name": "stdout",
          "text": [
            "6670\n",
            "Unnamed: 0                                 0.0\n",
            "chance_of_playing_next_round             100.0\n",
            "chance_of_playing_this_round             100.0\n",
            "cost_change_event                          0.0\n",
            "cost_change_event_fall                     0.0\n",
            "                                     ...      \n",
            "starts_per_90                              0.0\n",
            "clean_sheets_per_90                        0.0\n",
            "opponent_team                   Crystal Palace\n",
            "opponent_team_difficulty                    10\n",
            "points                                     0.0\n",
            "Name: 0, Length: 94, dtype: object\n",
            "2452\n",
            "1\n",
            "Index(['chance_of_playing_next_round', 'chance_of_playing_this_round',\n",
            "       'cost_change_event', 'cost_change_event_fall', 'cost_change_start',\n",
            "       'cost_change_start_fall', 'dreamteam_count', 'element_type', 'ep_next',\n",
            "       'ep_this', 'event_points', 'form', 'in_dreamteam',\n",
            "       'News_added_days_Since_some_time', 'now_cost', 'points_per_game',\n",
            "       'selected_by_percent', 'status.1', 'team', 'team_code', 'transfers_in',\n",
            "       'transfers_in_event', 'transfers_out', 'transfers_out_event',\n",
            "       'value_form', 'value_season', 'minutes', 'goals_scored', 'assists',\n",
            "       'clean_sheets', 'goals_conceded', 'own_goals', 'penalties_saved',\n",
            "       'penalties_missed', 'yellow_cards', 'red_cards', 'saves', 'bonus',\n",
            "       'bps', 'influence', 'creativity', 'threat', 'ict_index', 'starts',\n",
            "       'expected_goals', 'expected_assists', 'expected_goal_involvements',\n",
            "       'expected_goals_conceded', 'influence_rank', 'influence_rank_type',\n",
            "       'creativity_rank', 'creativity_rank_type', 'threat_rank',\n",
            "       'threat_rank_type', 'ict_index_rank', 'ict_index_rank_type',\n",
            "       'corners_and_indirect_freekicks_order.1', 'direct_freekicks_order.1',\n",
            "       'penalties_order.1', 'expected_goals_per_90', 'saves_per_90',\n",
            "       'expected_assists_per_90', 'expected_goal_involvements_per_90',\n",
            "       'expected_goals_conceded_per_90', 'goals_conceded_per_90',\n",
            "       'now_cost_rank', 'now_cost_rank_type', 'form_rank', 'form_rank_type',\n",
            "       'points_per_game_rank', 'points_per_game_rank_type', 'selected_rank',\n",
            "       'selected_rank_type', 'starts_per_90', 'clean_sheets_per_90',\n",
            "       'opponent_team_difficulty'],\n",
            "      dtype='object')\n"
          ]
        }
      ],
      "source": [
        "#print(test_data.columns)\n",
        "#print(train_data.columns)\n",
        "next_week = next_week.fillna(0)\n",
        "print(len(train_data))\n",
        "bad_rows = []\n",
        "print(train_data.iloc[0])\n",
        "for i in range(len(train_data)):\n",
        "  if train_data.iloc[i]['points'] == 0:\n",
        "    bad_rows.append(i)\n",
        "train_data = train_data.drop(bad_rows,axis=0)\n",
        "print(len(train_data))\n",
        "#params = ['value_form','value_season','minutes','goals_scored','assists','clean_sheets','goals_conceded','own_goals','penalties_saved',\n",
        "#          'penalties_missed','yellow_cards','red_cards','saves','bonus','bps','dreamteam_count','element_type','ep_next','ep_this',\n",
        "#          'form','in_dreamteam','now_cost','points_per_game','selected_by_percent','team','influence','creativity','threat','ict_index',\n",
        "#          'starts','expected_goals','expected_assists','expected_goal_involvements','expected_goals_conceded','influence_rank_type','opponent_team_difficulty'\n",
        "#          ]\n",
        "bad_cols = ['Unnamed: 0', 'in_dreamteam_original','penalties_text', 'news', 'news_added','special','squad_number','status','corners_and_indirect_freekicks_order','corners_and_indirect_freekicks_text','corners_and_indirect_freekicks_text.1','direct_freekicks_order','direct_freekicks_text','direct_freekicks_text.1','penalties_order','penalties_text','web_name','opponent_team']\n",
        "train_data = train_data.drop(bad_cols,axis=1)\n",
        "train_data = train_data.dropna()\n",
        "train_data_results = train_data[['points']].copy()\n",
        "#train_data_X = train_data[params].copy()\n",
        "train_data_X = train_data.drop(['points'],axis=1)\n",
        "print(len(train_data_results.columns))\n",
        "print(train_data_X.columns)"
      ]
    },
    {
      "cell_type": "code",
      "execution_count": 16,
      "metadata": {
        "colab": {
          "base_uri": "https://localhost:8080/"
        },
        "id": "aAYEbbNJeql8",
        "outputId": "cb5f71c7-5a90-43ca-e572-8a06fe474937"
      },
      "outputs": [
        {
          "output_type": "stream",
          "name": "stdout",
          "text": [
            "2434\n",
            "1663\n"
          ]
        }
      ],
      "source": [
        "print(len(train_data))\n",
        "data_file = 'data_fpl.xlsx'\n",
        "test_data = pd.read_excel(data_file,sheet_name=1)\n",
        "bad_rows_test = []\n",
        "for i in range(len(test_data)):\n",
        "  if test_data.iloc[i]['points'] == 0:\n",
        "    bad_rows_test.append(i)\n",
        "\n",
        "test_data=test_data.drop(bad_rows_test,axis=0)\n",
        "print(len(test_data))"
      ]
    },
    {
      "cell_type": "code",
      "source": [
        "next_week = pd.read_excel(data_file,sheet_name=2)\n",
        "print(next_week.iloc[0]['opponent_team'])\n",
        "bad_rows_demo = []\n",
        "for i in range(len(next_week)):\n",
        "  if next_week.iloc[i]['points'] == 0:\n",
        "    bad_rows_demo.append(i)\n",
        "\n",
        "next_week = next_week.drop(bad_rows_demo,axis=0)\n",
        "print(len(next_week))"
      ],
      "metadata": {
        "colab": {
          "base_uri": "https://localhost:8080/"
        },
        "id": "x2_Z3zNoBvsU",
        "outputId": "4bb1de46-433c-4a86-c30a-95e3bd49f18c"
      },
      "execution_count": 52,
      "outputs": [
        {
          "output_type": "stream",
          "name": "stdout",
          "text": [
            "West Ham\n",
            "924\n"
          ]
        }
      ]
    },
    {
      "cell_type": "markdown",
      "metadata": {
        "id": "PyCwc__tf1XZ"
      },
      "source": [
        "print(test_data.columns)\n",
        "test_data.head()"
      ]
    },
    {
      "cell_type": "code",
      "execution_count": 18,
      "metadata": {
        "colab": {
          "base_uri": "https://localhost:8080/"
        },
        "id": "zrO6OHuDf7Vj",
        "outputId": "1599d175-e371-43d8-b8a6-9b004a0c18b5"
      },
      "outputs": [
        {
          "output_type": "stream",
          "name": "stdout",
          "text": [
            "Index(['Unnamed: 0', 'chance_of_playing_next_round',\n",
            "       'chance_of_playing_next_round.1', 'chance_of_playing_this_round',\n",
            "       'chance_of_playing_this_round.1', 'cost_change_event',\n",
            "       'cost_change_event_fall', 'cost_change_start', 'cost_change_start_fall',\n",
            "       'dreamteam_count', 'element_type', 'ep_next', 'ep_this', 'event_points',\n",
            "       'form', 'in_dreamteam', 'in_dreamteam.1', 'news', 'news.1',\n",
            "       'news_added', 'news_added.1', 'news_added_converted', 'now_cost',\n",
            "       'points_per_game', 'selected_by_percent', 'special', 'squad_number',\n",
            "       'status', 'status.1', 'team', 'team_code', 'transfers_in',\n",
            "       'transfers_in_event', 'transfers_out', 'transfers_out_event',\n",
            "       'value_form', 'value_season', 'web_name', 'minutes', 'goals_scored',\n",
            "       'assists', 'clean_sheets', 'goals_conceded', 'own_goals',\n",
            "       'penalties_saved', 'penalties_missed', 'yellow_cards', 'red_cards',\n",
            "       'saves', 'bonus', 'bps', 'influence', 'creativity', 'threat',\n",
            "       'ict_index', 'starts', 'expected_goals', 'expected_assists',\n",
            "       'expected_goal_involvements', 'expected_goals_conceded',\n",
            "       'influence_rank', 'influence_rank_type', 'creativity_rank',\n",
            "       'creativity_rank_type', 'threat_rank', 'threat_rank_type',\n",
            "       'ict_index_rank', 'ict_index_rank_type',\n",
            "       'corners_and_indirect_freekicks_order',\n",
            "       'corners_and_indirect_freekicks_order.1',\n",
            "       'corners_and_indirect_freekicks_text', 'direct_freekicks_order',\n",
            "       'direct_freekicks_order.1', 'direct_freekicks_text', 'penalties_order',\n",
            "       'penalties_order.1', 'penalties_text', 'expected_goals_per_90',\n",
            "       'saves_per_90', 'expected_assists_per_90',\n",
            "       'expected_goal_involvements_per_90', 'expected_goals_conceded_per_90',\n",
            "       'goals_conceded_per_90', 'now_cost_rank', 'now_cost_rank_type',\n",
            "       'form_rank', 'form_rank_type', 'points_per_game_rank',\n",
            "       'points_per_game_rank_type', 'selected_rank', 'selected_rank_type',\n",
            "       'starts_per_90', 'clean_sheets_per_90', 'opponent_team',\n",
            "       'opponent_team_difficulty', 'points'],\n",
            "      dtype='object')\n",
            "Index(['Unnamed: 0', 'chance_of_playing_next_round',\n",
            "       'chance_of_playing_next_round.1', 'chance_of_playing_this_round',\n",
            "       'chance_of_playing_this_round.1', 'cost_change_event',\n",
            "       'cost_change_event_fall', 'cost_change_start', 'cost_change_start_fall',\n",
            "       'dreamteam_count', 'element_type', 'ep_next', 'ep_this', 'event_points',\n",
            "       'form', 'in_dreamteam', 'in_dreamteam.1', 'news', 'news.1',\n",
            "       'news_added', 'news_added.1', 'news_added_converted', 'now_cost',\n",
            "       'points_per_game', 'selected_by_percent', 'special', 'squad_number',\n",
            "       'status', 'status.1', 'team', 'team_code', 'transfers_in',\n",
            "       'transfers_in_event', 'transfers_out', 'transfers_out_event',\n",
            "       'value_form', 'value_season', 'web_name', 'minutes', 'goals_scored',\n",
            "       'assists', 'clean_sheets', 'goals_conceded', 'own_goals',\n",
            "       'penalties_saved', 'penalties_missed', 'yellow_cards', 'red_cards',\n",
            "       'saves', 'bonus', 'bps', 'influence', 'creativity', 'threat',\n",
            "       'ict_index', 'starts', 'expected_goals', 'expected_assists',\n",
            "       'expected_goal_involvements', 'expected_goals_conceded',\n",
            "       'influence_rank', 'influence_rank_type', 'creativity_rank',\n",
            "       'creativity_rank_type', 'threat_rank', 'threat_rank_type',\n",
            "       'ict_index_rank', 'ict_index_rank_type',\n",
            "       'corners_and_indirect_freekicks_order',\n",
            "       'corners_and_indirect_freekicks_order.1',\n",
            "       'corners_and_indirect_freekicks_text', 'direct_freekicks_order',\n",
            "       'direct_freekicks_order.1', 'direct_freekicks_text', 'penalties_order',\n",
            "       'penalties_order.1', 'penalties_text', 'expected_goals_per_90',\n",
            "       'saves_per_90', 'expected_assists_per_90',\n",
            "       'expected_goal_involvements_per_90', 'expected_goals_conceded_per_90',\n",
            "       'goals_conceded_per_90', 'now_cost_rank', 'now_cost_rank_type',\n",
            "       'form_rank', 'form_rank_type', 'points_per_game_rank',\n",
            "       'points_per_game_rank_type', 'selected_rank', 'selected_rank_type',\n",
            "       'starts_per_90', 'clean_sheets_per_90', 'opponent_team',\n",
            "       'opponent_team_difficulty', 'points'],\n",
            "      dtype='object')\n",
            "1\n",
            "1\n",
            "test data X 76\n",
            "train data X 76\n"
          ]
        }
      ],
      "source": [
        "print(test_data.columns)\n",
        "test_data_results = test_data[['points']].copy()\n",
        "bad_columns = ['Unnamed: 0','chance_of_playing_next_round','chance_of_playing_this_round','special','status','in_dreamteam','squad_number','news','news.1','news_added','news_added.1','web_name','corners_and_indirect_freekicks_order','corners_and_indirect_freekicks_text','direct_freekicks_order','direct_freekicks_text','penalties_order','penalties_text','opponent_team','points']\n",
        "#test_data_X = test_data[params].copy()\n",
        "test_data_X = test_data.drop(bad_columns,axis=1)\n",
        "print(test_data.columns)\n",
        "print(len(test_data_results.columns))\n",
        "print(len(train_data_results.columns))\n",
        "print('test data X',len(test_data_X.columns))\n",
        "print('train data X', len(train_data_X.columns))\n",
        "assert len(test_data_X.columns) == len(train_data_X.columns)\n",
        "#print(train_data_X.columns)"
      ]
    },
    {
      "cell_type": "code",
      "source": [
        "from google.colab import files\n",
        "player_names = next_week['web_name']\n",
        "player_names.to_csv('player_names.csv')\n",
        "files.download('.csv')\n",
        "print(next_week.columns)\n",
        "next_week = next_week[test_data_X.columns]\n",
        "assert len(next_week.columns) == len(train_data_X.columns)"
      ],
      "metadata": {
        "colab": {
          "base_uri": "https://localhost:8080/",
          "height": 555
        },
        "id": "X3qlRdrZCenN",
        "outputId": "5d2830f3-ab76-4384-8fa8-caf8eb3a86a9"
      },
      "execution_count": 53,
      "outputs": [
        {
          "output_type": "display_data",
          "data": {
            "text/plain": [
              "<IPython.core.display.Javascript object>"
            ],
            "application/javascript": [
              "\n",
              "    async function download(id, filename, size) {\n",
              "      if (!google.colab.kernel.accessAllowed) {\n",
              "        return;\n",
              "      }\n",
              "      const div = document.createElement('div');\n",
              "      const label = document.createElement('label');\n",
              "      label.textContent = `Downloading \"${filename}\": `;\n",
              "      div.appendChild(label);\n",
              "      const progress = document.createElement('progress');\n",
              "      progress.max = size;\n",
              "      div.appendChild(progress);\n",
              "      document.body.appendChild(div);\n",
              "\n",
              "      const buffers = [];\n",
              "      let downloaded = 0;\n",
              "\n",
              "      const channel = await google.colab.kernel.comms.open(id);\n",
              "      // Send a message to notify the kernel that we're ready.\n",
              "      channel.send({})\n",
              "\n",
              "      for await (const message of channel.messages) {\n",
              "        // Send a message to notify the kernel that we're ready.\n",
              "        channel.send({})\n",
              "        if (message.buffers) {\n",
              "          for (const buffer of message.buffers) {\n",
              "            buffers.push(buffer);\n",
              "            downloaded += buffer.byteLength;\n",
              "            progress.value = downloaded;\n",
              "          }\n",
              "        }\n",
              "      }\n",
              "      const blob = new Blob(buffers, {type: 'application/binary'});\n",
              "      const a = document.createElement('a');\n",
              "      a.href = window.URL.createObjectURL(blob);\n",
              "      a.download = filename;\n",
              "      div.appendChild(a);\n",
              "      a.click();\n",
              "      div.remove();\n",
              "    }\n",
              "  "
            ]
          },
          "metadata": {}
        },
        {
          "output_type": "display_data",
          "data": {
            "text/plain": [
              "<IPython.core.display.Javascript object>"
            ],
            "application/javascript": [
              "download(\"download_a14042ac-7f0c-410a-8529-1c4051e2b082\", \"player_names.csv\", 11310)"
            ]
          },
          "metadata": {}
        },
        {
          "output_type": "stream",
          "name": "stdout",
          "text": [
            "Index(['Unnamed: 0', 'chance_of_playing_next_round',\n",
            "       'chance_of_playing_next_round.1', 'chance_of_playing_this_round',\n",
            "       'chance_of_playing_this_round.1', 'cost_change_event',\n",
            "       'cost_change_event_fall', 'cost_change_start', 'cost_change_start_fall',\n",
            "       'dreamteam_count', 'element_type', 'ep_next', 'ep_this', 'event_points',\n",
            "       'form', 'in_dreamteam', 'in_dreamteam.1', 'news', 'news.1',\n",
            "       'news_added', 'news_added_converted', 'now_cost', 'points_per_game',\n",
            "       'selected_by_percent', 'special', 'squad_number', 'status', 'status.1',\n",
            "       'team', 'team_code', 'transfers_in', 'transfers_in_event',\n",
            "       'transfers_out', 'transfers_out_event', 'value_form', 'value_season',\n",
            "       'web_name', 'minutes', 'goals_scored', 'assists', 'clean_sheets',\n",
            "       'goals_conceded', 'own_goals', 'penalties_saved', 'penalties_missed',\n",
            "       'yellow_cards', 'red_cards', 'saves', 'bonus', 'bps', 'influence',\n",
            "       'creativity', 'threat', 'ict_index', 'starts', 'expected_goals',\n",
            "       'expected_assists', 'expected_goal_involvements',\n",
            "       'expected_goals_conceded', 'influence_rank', 'influence_rank_type',\n",
            "       'creativity_rank', 'creativity_rank_type', 'threat_rank',\n",
            "       'threat_rank_type', 'ict_index_rank', 'ict_index_rank_type',\n",
            "       'corners_and_indirect_freekicks_order',\n",
            "       'corners_and_indirect_freekicks_order.1',\n",
            "       'corners_and_indirect_freekicks_text', 'direct_freekicks_order',\n",
            "       'direct_freekicks_order.1', 'direct_freekicks_text', 'penalties_order',\n",
            "       'penalties_order.1', 'penalties_text', 'expected_goals_per_90',\n",
            "       'saves_per_90', 'expected_assists_per_90',\n",
            "       'expected_goal_involvements_per_90', 'expected_goals_conceded_per_90',\n",
            "       'goals_conceded_per_90', 'now_cost_rank', 'now_cost_rank_type',\n",
            "       'form_rank', 'form_rank_type', 'points_per_game_rank',\n",
            "       'points_per_game_rank_type', 'selected_rank', 'selected_rank_type',\n",
            "       'starts_per_90', 'clean_sheets_per_90', 'opponent_team',\n",
            "       'opponent_team_difficulty', 'points'],\n",
            "      dtype='object')\n"
          ]
        }
      ]
    },
    {
      "cell_type": "code",
      "source": [],
      "metadata": {
        "id": "eKircaVqRWEd"
      },
      "execution_count": null,
      "outputs": []
    },
    {
      "cell_type": "code",
      "execution_count": null,
      "metadata": {
        "colab": {
          "base_uri": "https://localhost:8080/"
        },
        "id": "NhuwnT0egcvR",
        "outputId": "d98ddd4d-1740-44ba-fcb0-90cb1d7b99bf"
      },
      "outputs": [
        {
          "output_type": "stream",
          "name": "stdout",
          "text": [
            "chance_of_playing_next_round.1 chance_of_playing_next_round\n",
            "chance_of_playing_this_round.1 chance_of_playing_this_round\n",
            "cost_change_event cost_change_event\n",
            "cost_change_event_fall cost_change_event_fall\n",
            "cost_change_start cost_change_start\n",
            "cost_change_start_fall cost_change_start_fall\n",
            "dreamteam_count dreamteam_count\n",
            "element_type element_type\n",
            "ep_next ep_next\n",
            "ep_this ep_this\n",
            "event_points event_points\n",
            "form form\n",
            "in_dreamteam.1 in_dreamteam\n",
            "news_added_converted News_added_days_Since_some_time\n",
            "now_cost now_cost\n",
            "points_per_game points_per_game\n",
            "selected_by_percent selected_by_percent\n",
            "status.1 status.1\n",
            "team team\n",
            "team_code team_code\n",
            "transfers_in transfers_in\n",
            "transfers_in_event transfers_in_event\n",
            "transfers_out transfers_out\n",
            "transfers_out_event transfers_out_event\n",
            "value_form value_form\n",
            "value_season value_season\n",
            "minutes minutes\n",
            "goals_scored goals_scored\n",
            "assists assists\n",
            "clean_sheets clean_sheets\n",
            "goals_conceded goals_conceded\n",
            "own_goals own_goals\n",
            "penalties_saved penalties_saved\n",
            "penalties_missed penalties_missed\n",
            "yellow_cards yellow_cards\n",
            "red_cards red_cards\n",
            "saves saves\n",
            "bonus bonus\n",
            "bps bps\n",
            "influence influence\n",
            "creativity creativity\n",
            "threat threat\n",
            "ict_index ict_index\n",
            "starts starts\n",
            "expected_goals expected_goals\n",
            "expected_assists expected_assists\n",
            "expected_goal_involvements expected_goal_involvements\n",
            "expected_goals_conceded expected_goals_conceded\n",
            "influence_rank influence_rank\n",
            "influence_rank_type influence_rank_type\n",
            "creativity_rank creativity_rank\n",
            "creativity_rank_type creativity_rank_type\n",
            "threat_rank threat_rank\n",
            "threat_rank_type threat_rank_type\n",
            "ict_index_rank ict_index_rank\n",
            "ict_index_rank_type ict_index_rank_type\n",
            "corners_and_indirect_freekicks_order.1 corners_and_indirect_freekicks_order.1\n",
            "direct_freekicks_order.1 direct_freekicks_order.1\n",
            "penalties_order.1 penalties_order.1\n",
            "expected_goals_per_90 expected_goals_per_90\n",
            "saves_per_90 saves_per_90\n",
            "expected_assists_per_90 expected_assists_per_90\n",
            "expected_goal_involvements_per_90 expected_goal_involvements_per_90\n",
            "expected_goals_conceded_per_90 expected_goals_conceded_per_90\n",
            "goals_conceded_per_90 goals_conceded_per_90\n",
            "now_cost_rank now_cost_rank\n",
            "now_cost_rank_type now_cost_rank_type\n",
            "form_rank form_rank\n",
            "form_rank_type form_rank_type\n",
            "points_per_game_rank points_per_game_rank\n",
            "points_per_game_rank_type points_per_game_rank_type\n",
            "selected_rank selected_rank\n",
            "selected_rank_type selected_rank_type\n",
            "starts_per_90 starts_per_90\n",
            "clean_sheets_per_90 clean_sheets_per_90\n",
            "opponent_team_difficulty opponent_team_difficulty\n"
          ]
        }
      ],
      "source": [
        "for i in range(len(test_data_X.columns)):\n",
        "  print(test_data_X.columns[i], train_data_X.columns[i])"
      ]
    },
    {
      "cell_type": "code",
      "execution_count": 28,
      "metadata": {
        "id": "QkgjSWDRjxsJ"
      },
      "outputs": [],
      "source": [
        "import math\n",
        "def get_means(array):\n",
        "  elements_sum = sum(array)\n",
        "  return elements_sum/len(array)\n",
        "\n",
        "def std_dev(array, mean):\n",
        "  var  = 0\n",
        "  for element in array:\n",
        "    var += ((element - mean) ** 2)\n",
        "  var /= len(array)\n",
        "  std = math.sqrt(var)\n",
        "  return std\n",
        "\n",
        "def get_z_value(x,means,std_devs):\n",
        "  z = np.array([(x[i] - means[i])/std_devs[i] for i in range(len(x))])\n",
        "  return z"
      ]
    },
    {
      "cell_type": "code",
      "execution_count": 54,
      "metadata": {
        "id": "dqrdWZurn2pj",
        "colab": {
          "base_uri": "https://localhost:8080/"
        },
        "outputId": "2af0d6a5-374c-42d3-dcbc-44fe9144a98e"
      },
      "outputs": [
        {
          "output_type": "stream",
          "name": "stdout",
          "text": [
            "[[100.      100.        0.      ...   1.08062   0.46312  10.     ]\n",
            " [100.      100.        0.      ...   1.08062   0.46312   8.     ]\n",
            " [100.      100.        0.      ...   1.08062   0.46312   7.     ]\n",
            " ...\n",
            " [100.        0.        0.      ...   1.09223   0.21845  13.     ]\n",
            " [100.      100.        0.      ...   0.94737   0.       19.     ]\n",
            " [100.      100.        0.      ...   0.94737   0.        5.     ]]\n"
          ]
        }
      ],
      "source": [
        "#solution using library implementation\n",
        "import numpy as np\n",
        "from sklearn.linear_model import LinearRegression\n",
        "\n",
        "#print(train_data_X.applymap(np.isfinite))\n",
        "X = train_data_X.to_numpy()\n",
        "Y = train_data_results.to_numpy()\n",
        "X_test = test_data_X.to_numpy()\n",
        "Y_test = test_data_results.to_numpy()\n",
        "X_next_week = next_week.to_numpy()\n",
        "print(X)\n",
        "#empty_rows = [i for i in range(6670,7170)]\n",
        "#X = np.delete(X,empty_rows,axis=0)\n",
        "#Y = np.delete(Y,empty_rows,axis=0)\n",
        "#print(len(X), len(Y))\n",
        "#print(X)"
      ]
    },
    {
      "cell_type": "code",
      "execution_count": 55,
      "metadata": {
        "colab": {
          "base_uri": "https://localhost:8080/"
        },
        "id": "EBK3qmJAkHeD",
        "outputId": "0e3829bf-ea4b-4c40-bca1-cd0bacac10d2"
      },
      "outputs": [
        {
          "output_type": "stream",
          "name": "stdout",
          "text": [
            "[[ 0.61392011  0.67934955  0.09927173 ...  0.31429969  1.20039938\n",
            "  -0.04874793]\n",
            " [ 0.61392011  0.67934955  0.09927173 ...  0.31429969  1.20039938\n",
            "  -0.39266811]\n",
            " [ 0.61392011  0.67934955  0.09927173 ...  0.31429969  1.20039938\n",
            "  -0.5646282 ]\n",
            " ...\n",
            " [ 0.61392011 -2.340809    0.09927173 ...  0.34395653 -0.23631291\n",
            "   0.46713234]\n",
            " [ 0.61392011  0.67934955  0.09927173 ... -0.02607703 -1.51906028\n",
            "   1.49889288]\n",
            " [ 0.61392011  0.67934955  0.09927173 ... -0.02607703 -1.51906028\n",
            "  -0.90854838]]\n"
          ]
        }
      ],
      "source": [
        "x_means  = [get_means(X[:,i]) for i in range(len(X[0]))]\n",
        "x_stdevs = [std_dev(X[:,i],x_means[i]) for i in range(len(X[0]))]\n",
        "x_test_mean = [get_means(X_test[:,i]) for i in range(len(X_test[0]))]\n",
        "x_test_stdevs = [max(0.01,std_dev(X_test[:,i],x_test_mean[i])) for i in range(len(X_test[0]))]\n",
        "#print(sorted(x_test_stdevs))\n",
        "#print(x_test_mean,x_means)\n",
        "for i in range(len(X)):\n",
        "  X[i] = get_z_value(X[i],x_means,x_stdevs)\n",
        "\n",
        "print(X)\n",
        "for i in range(len(X_test)):\n",
        "  X_test[i] = get_z_value(X_test[i],x_test_mean,x_test_stdevs)\n",
        "\n",
        "for i in range(len(X_next_week)):\n",
        "  X_next_week[i] = get_z_value(X_next_week[i],x_test_mean,x_test_stdevs)"
      ]
    },
    {
      "cell_type": "code",
      "source": [
        "from sklearn.linear_model import LinearRegression\n",
        "from sklearn.feature_selection import SelectKBest, f_regression\n"
      ],
      "metadata": {
        "id": "Y7Q5d9XPH9Ld"
      },
      "execution_count": 48,
      "outputs": []
    },
    {
      "cell_type": "code",
      "execution_count": 56,
      "metadata": {
        "colab": {
          "base_uri": "https://localhost:8080/",
          "height": 1000
        },
        "id": "BhSN531IlHUF",
        "outputId": "6d328a0f-25c5-46c1-87ba-698c074be043"
      },
      "outputs": [
        {
          "output_type": "stream",
          "name": "stderr",
          "text": [
            "/usr/local/lib/python3.8/dist-packages/sklearn/utils/validation.py:993: DataConversionWarning: A column-vector y was passed when a 1d array was expected. Please change the shape of y to (n_samples, ), for example using ravel().\n",
            "  y = column_or_1d(y, warn=True)\n",
            "/usr/local/lib/python3.8/dist-packages/sklearn/utils/validation.py:993: DataConversionWarning: A column-vector y was passed when a 1d array was expected. Please change the shape of y to (n_samples, ), for example using ravel().\n",
            "  y = column_or_1d(y, warn=True)\n",
            "/usr/local/lib/python3.8/dist-packages/sklearn/utils/validation.py:993: DataConversionWarning: A column-vector y was passed when a 1d array was expected. Please change the shape of y to (n_samples, ), for example using ravel().\n",
            "  y = column_or_1d(y, warn=True)\n",
            "/usr/local/lib/python3.8/dist-packages/sklearn/utils/validation.py:993: DataConversionWarning: A column-vector y was passed when a 1d array was expected. Please change the shape of y to (n_samples, ), for example using ravel().\n",
            "  y = column_or_1d(y, warn=True)\n",
            "/usr/local/lib/python3.8/dist-packages/sklearn/utils/validation.py:993: DataConversionWarning: A column-vector y was passed when a 1d array was expected. Please change the shape of y to (n_samples, ), for example using ravel().\n",
            "  y = column_or_1d(y, warn=True)\n",
            "/usr/local/lib/python3.8/dist-packages/sklearn/utils/validation.py:993: DataConversionWarning: A column-vector y was passed when a 1d array was expected. Please change the shape of y to (n_samples, ), for example using ravel().\n",
            "  y = column_or_1d(y, warn=True)\n",
            "/usr/local/lib/python3.8/dist-packages/sklearn/utils/validation.py:993: DataConversionWarning: A column-vector y was passed when a 1d array was expected. Please change the shape of y to (n_samples, ), for example using ravel().\n",
            "  y = column_or_1d(y, warn=True)\n",
            "/usr/local/lib/python3.8/dist-packages/sklearn/utils/validation.py:993: DataConversionWarning: A column-vector y was passed when a 1d array was expected. Please change the shape of y to (n_samples, ), for example using ravel().\n",
            "  y = column_or_1d(y, warn=True)\n",
            "/usr/local/lib/python3.8/dist-packages/sklearn/utils/validation.py:993: DataConversionWarning: A column-vector y was passed when a 1d array was expected. Please change the shape of y to (n_samples, ), for example using ravel().\n",
            "  y = column_or_1d(y, warn=True)\n",
            "/usr/local/lib/python3.8/dist-packages/sklearn/utils/validation.py:993: DataConversionWarning: A column-vector y was passed when a 1d array was expected. Please change the shape of y to (n_samples, ), for example using ravel().\n",
            "  y = column_or_1d(y, warn=True)\n",
            "/usr/local/lib/python3.8/dist-packages/sklearn/utils/validation.py:993: DataConversionWarning: A column-vector y was passed when a 1d array was expected. Please change the shape of y to (n_samples, ), for example using ravel().\n",
            "  y = column_or_1d(y, warn=True)\n",
            "/usr/local/lib/python3.8/dist-packages/sklearn/utils/validation.py:993: DataConversionWarning: A column-vector y was passed when a 1d array was expected. Please change the shape of y to (n_samples, ), for example using ravel().\n",
            "  y = column_or_1d(y, warn=True)\n",
            "/usr/local/lib/python3.8/dist-packages/sklearn/utils/validation.py:993: DataConversionWarning: A column-vector y was passed when a 1d array was expected. Please change the shape of y to (n_samples, ), for example using ravel().\n",
            "  y = column_or_1d(y, warn=True)\n",
            "/usr/local/lib/python3.8/dist-packages/sklearn/utils/validation.py:993: DataConversionWarning: A column-vector y was passed when a 1d array was expected. Please change the shape of y to (n_samples, ), for example using ravel().\n",
            "  y = column_or_1d(y, warn=True)\n",
            "/usr/local/lib/python3.8/dist-packages/sklearn/utils/validation.py:993: DataConversionWarning: A column-vector y was passed when a 1d array was expected. Please change the shape of y to (n_samples, ), for example using ravel().\n",
            "  y = column_or_1d(y, warn=True)\n",
            "/usr/local/lib/python3.8/dist-packages/sklearn/utils/validation.py:993: DataConversionWarning: A column-vector y was passed when a 1d array was expected. Please change the shape of y to (n_samples, ), for example using ravel().\n",
            "  y = column_or_1d(y, warn=True)\n",
            "/usr/local/lib/python3.8/dist-packages/sklearn/utils/validation.py:993: DataConversionWarning: A column-vector y was passed when a 1d array was expected. Please change the shape of y to (n_samples, ), for example using ravel().\n",
            "  y = column_or_1d(y, warn=True)\n",
            "/usr/local/lib/python3.8/dist-packages/sklearn/utils/validation.py:993: DataConversionWarning: A column-vector y was passed when a 1d array was expected. Please change the shape of y to (n_samples, ), for example using ravel().\n",
            "  y = column_or_1d(y, warn=True)\n",
            "/usr/local/lib/python3.8/dist-packages/sklearn/utils/validation.py:993: DataConversionWarning: A column-vector y was passed when a 1d array was expected. Please change the shape of y to (n_samples, ), for example using ravel().\n",
            "  y = column_or_1d(y, warn=True)\n",
            "/usr/local/lib/python3.8/dist-packages/sklearn/utils/validation.py:993: DataConversionWarning: A column-vector y was passed when a 1d array was expected. Please change the shape of y to (n_samples, ), for example using ravel().\n",
            "  y = column_or_1d(y, warn=True)\n",
            "/usr/local/lib/python3.8/dist-packages/sklearn/utils/validation.py:993: DataConversionWarning: A column-vector y was passed when a 1d array was expected. Please change the shape of y to (n_samples, ), for example using ravel().\n",
            "  y = column_or_1d(y, warn=True)\n",
            "/usr/local/lib/python3.8/dist-packages/sklearn/utils/validation.py:993: DataConversionWarning: A column-vector y was passed when a 1d array was expected. Please change the shape of y to (n_samples, ), for example using ravel().\n",
            "  y = column_or_1d(y, warn=True)\n",
            "/usr/local/lib/python3.8/dist-packages/sklearn/utils/validation.py:993: DataConversionWarning: A column-vector y was passed when a 1d array was expected. Please change the shape of y to (n_samples, ), for example using ravel().\n",
            "  y = column_or_1d(y, warn=True)\n",
            "/usr/local/lib/python3.8/dist-packages/sklearn/utils/validation.py:993: DataConversionWarning: A column-vector y was passed when a 1d array was expected. Please change the shape of y to (n_samples, ), for example using ravel().\n",
            "  y = column_or_1d(y, warn=True)\n",
            "/usr/local/lib/python3.8/dist-packages/sklearn/utils/validation.py:993: DataConversionWarning: A column-vector y was passed when a 1d array was expected. Please change the shape of y to (n_samples, ), for example using ravel().\n",
            "  y = column_or_1d(y, warn=True)\n",
            "/usr/local/lib/python3.8/dist-packages/sklearn/utils/validation.py:993: DataConversionWarning: A column-vector y was passed when a 1d array was expected. Please change the shape of y to (n_samples, ), for example using ravel().\n",
            "  y = column_or_1d(y, warn=True)\n",
            "/usr/local/lib/python3.8/dist-packages/sklearn/utils/validation.py:993: DataConversionWarning: A column-vector y was passed when a 1d array was expected. Please change the shape of y to (n_samples, ), for example using ravel().\n",
            "  y = column_or_1d(y, warn=True)\n",
            "/usr/local/lib/python3.8/dist-packages/sklearn/utils/validation.py:993: DataConversionWarning: A column-vector y was passed when a 1d array was expected. Please change the shape of y to (n_samples, ), for example using ravel().\n",
            "  y = column_or_1d(y, warn=True)\n",
            "/usr/local/lib/python3.8/dist-packages/sklearn/utils/validation.py:993: DataConversionWarning: A column-vector y was passed when a 1d array was expected. Please change the shape of y to (n_samples, ), for example using ravel().\n",
            "  y = column_or_1d(y, warn=True)\n",
            "/usr/local/lib/python3.8/dist-packages/sklearn/utils/validation.py:993: DataConversionWarning: A column-vector y was passed when a 1d array was expected. Please change the shape of y to (n_samples, ), for example using ravel().\n",
            "  y = column_or_1d(y, warn=True)\n",
            "/usr/local/lib/python3.8/dist-packages/sklearn/utils/validation.py:993: DataConversionWarning: A column-vector y was passed when a 1d array was expected. Please change the shape of y to (n_samples, ), for example using ravel().\n",
            "  y = column_or_1d(y, warn=True)\n"
          ]
        },
        {
          "output_type": "stream",
          "name": "stdout",
          "text": [
            "[1.836831055227187, 1.837839995904934, 1.842251172537868, 1.8457155152896294, 1.8466976458058515, 1.8462208377337994, 1.8463396118782003, 1.845603543359826, 1.84697885246783, 1.8473300579223264, 1.8469422189200535, 1.8468010737680225, 1.8485790917190466, 1.848895727214192, 1.849098826607906, 1.8695114438955358, 1.8697802846592548, 1.8685361884692195, 1.8686891621715285, 1.870059351493661, 1.870995187688226, 1.8716343722247646, 1.8720270832006074, 1.8726375377295041, 1.8739351768289267, 1.8762955608809353, 1.8859287568988043, 1.8865082909357274, 1.8845585300776926, 1.8864618798722514, 1.8864972259135913, 1.8882197322683805, 1.8887805924521144, 1.8832544158527451, 1.9136730344197752, 1.9103810893508069, 1.9103302259333386]\n",
            "mse :  7.4191654206515505\n",
            "mae 1.9103302259333386\n",
            "r2 0.12208797747035927\n"
          ]
        },
        {
          "output_type": "stream",
          "name": "stderr",
          "text": [
            "/usr/local/lib/python3.8/dist-packages/sklearn/utils/validation.py:993: DataConversionWarning: A column-vector y was passed when a 1d array was expected. Please change the shape of y to (n_samples, ), for example using ravel().\n",
            "  y = column_or_1d(y, warn=True)\n",
            "/usr/local/lib/python3.8/dist-packages/sklearn/utils/validation.py:993: DataConversionWarning: A column-vector y was passed when a 1d array was expected. Please change the shape of y to (n_samples, ), for example using ravel().\n",
            "  y = column_or_1d(y, warn=True)\n",
            "/usr/local/lib/python3.8/dist-packages/sklearn/utils/validation.py:993: DataConversionWarning: A column-vector y was passed when a 1d array was expected. Please change the shape of y to (n_samples, ), for example using ravel().\n",
            "  y = column_or_1d(y, warn=True)\n",
            "/usr/local/lib/python3.8/dist-packages/sklearn/utils/validation.py:993: DataConversionWarning: A column-vector y was passed when a 1d array was expected. Please change the shape of y to (n_samples, ), for example using ravel().\n",
            "  y = column_or_1d(y, warn=True)\n",
            "/usr/local/lib/python3.8/dist-packages/sklearn/utils/validation.py:993: DataConversionWarning: A column-vector y was passed when a 1d array was expected. Please change the shape of y to (n_samples, ), for example using ravel().\n",
            "  y = column_or_1d(y, warn=True)\n",
            "/usr/local/lib/python3.8/dist-packages/sklearn/utils/validation.py:993: DataConversionWarning: A column-vector y was passed when a 1d array was expected. Please change the shape of y to (n_samples, ), for example using ravel().\n",
            "  y = column_or_1d(y, warn=True)\n",
            "/usr/local/lib/python3.8/dist-packages/sklearn/utils/validation.py:993: DataConversionWarning: A column-vector y was passed when a 1d array was expected. Please change the shape of y to (n_samples, ), for example using ravel().\n",
            "  y = column_or_1d(y, warn=True)\n"
          ]
        },
        {
          "output_type": "display_data",
          "data": {
            "text/plain": [
              "<IPython.core.display.Javascript object>"
            ],
            "application/javascript": [
              "\n",
              "    async function download(id, filename, size) {\n",
              "      if (!google.colab.kernel.accessAllowed) {\n",
              "        return;\n",
              "      }\n",
              "      const div = document.createElement('div');\n",
              "      const label = document.createElement('label');\n",
              "      label.textContent = `Downloading \"${filename}\": `;\n",
              "      div.appendChild(label);\n",
              "      const progress = document.createElement('progress');\n",
              "      progress.max = size;\n",
              "      div.appendChild(progress);\n",
              "      document.body.appendChild(div);\n",
              "\n",
              "      const buffers = [];\n",
              "      let downloaded = 0;\n",
              "\n",
              "      const channel = await google.colab.kernel.comms.open(id);\n",
              "      // Send a message to notify the kernel that we're ready.\n",
              "      channel.send({})\n",
              "\n",
              "      for await (const message of channel.messages) {\n",
              "        // Send a message to notify the kernel that we're ready.\n",
              "        channel.send({})\n",
              "        if (message.buffers) {\n",
              "          for (const buffer of message.buffers) {\n",
              "            buffers.push(buffer);\n",
              "            downloaded += buffer.byteLength;\n",
              "            progress.value = downloaded;\n",
              "          }\n",
              "        }\n",
              "      }\n",
              "      const blob = new Blob(buffers, {type: 'application/binary'});\n",
              "      const a = document.createElement('a');\n",
              "      a.href = window.URL.createObjectURL(blob);\n",
              "      a.download = filename;\n",
              "      div.appendChild(a);\n",
              "      a.click();\n",
              "      div.remove();\n",
              "    }\n",
              "  "
            ]
          },
          "metadata": {}
        },
        {
          "output_type": "display_data",
          "data": {
            "text/plain": [
              "<IPython.core.display.Javascript object>"
            ],
            "application/javascript": [
              "download(\"download_3caedd79-23ce-4ff8-8383-950ad2e9a8af\", \"player_names.csv\", 11310)"
            ]
          },
          "metadata": {}
        }
      ],
      "source": [
        "model = LinearRegression()\n",
        "errors = []\n",
        "for i in range (1,38):\n",
        "  selector = SelectKBest(f_regression,k=i)\n",
        "  selector.fit(X,Y)\n",
        "  selected_features = selector.transform(X)\n",
        "  selected_test     = selector.transform(X_test)\n",
        "  regressor = LinearRegression()\n",
        "  regressor.fit(selected_features,Y)\n",
        "  predictions = regressor.predict(selected_test)\n",
        "  mae = mean_absolute_error(Y_test,predictions)\n",
        "  errors.append(mae)\n",
        "print(errors)\n",
        "selector = SelectKBest(f_regression,k=i)\n",
        "selector.fit(X,Y)\n",
        "selected_features = selector.transform(X)\n",
        "selected_test     = selector.transform(X_test)\n",
        "next_week_features = selector.transform(X_next_week)\n",
        "regressor = LinearRegression()\n",
        "regressor.fit(selected_features,Y)\n",
        "prediction = regressor.predict(selected_test)\n",
        "mse = mean_squared_error(Y_test, prediction)\n",
        "mae = mean_absolute_error(Y_test, prediction)\n",
        "r2 = r2_score(Y_test, prediction)\n",
        "#print(sorted(prediction,reverse=True))\n",
        "print(\"mse : \", mse)\n",
        "print('mae',mae)\n",
        "print('r2',r2)\n",
        "next_week_prediction = regressor.predict(next_week_features)\n",
        "nwpdf = pd.DataFrame(next_week_prediction)\n",
        "nwpdf.to_csv('lrpred.csv')\n"
      ]
    },
    {
      "cell_type": "code",
      "source": [
        "\n",
        "files.download('lrpred.csv')"
      ],
      "metadata": {
        "colab": {
          "base_uri": "https://localhost:8080/",
          "height": 17
        },
        "id": "gCxo0NYUMsrL",
        "outputId": "2f3ae272-0fff-4c1a-dfcd-64e769e27b5b"
      },
      "execution_count": 57,
      "outputs": [
        {
          "output_type": "display_data",
          "data": {
            "text/plain": [
              "<IPython.core.display.Javascript object>"
            ],
            "application/javascript": [
              "\n",
              "    async function download(id, filename, size) {\n",
              "      if (!google.colab.kernel.accessAllowed) {\n",
              "        return;\n",
              "      }\n",
              "      const div = document.createElement('div');\n",
              "      const label = document.createElement('label');\n",
              "      label.textContent = `Downloading \"${filename}\": `;\n",
              "      div.appendChild(label);\n",
              "      const progress = document.createElement('progress');\n",
              "      progress.max = size;\n",
              "      div.appendChild(progress);\n",
              "      document.body.appendChild(div);\n",
              "\n",
              "      const buffers = [];\n",
              "      let downloaded = 0;\n",
              "\n",
              "      const channel = await google.colab.kernel.comms.open(id);\n",
              "      // Send a message to notify the kernel that we're ready.\n",
              "      channel.send({})\n",
              "\n",
              "      for await (const message of channel.messages) {\n",
              "        // Send a message to notify the kernel that we're ready.\n",
              "        channel.send({})\n",
              "        if (message.buffers) {\n",
              "          for (const buffer of message.buffers) {\n",
              "            buffers.push(buffer);\n",
              "            downloaded += buffer.byteLength;\n",
              "            progress.value = downloaded;\n",
              "          }\n",
              "        }\n",
              "      }\n",
              "      const blob = new Blob(buffers, {type: 'application/binary'});\n",
              "      const a = document.createElement('a');\n",
              "      a.href = window.URL.createObjectURL(blob);\n",
              "      a.download = filename;\n",
              "      div.appendChild(a);\n",
              "      a.click();\n",
              "      div.remove();\n",
              "    }\n",
              "  "
            ]
          },
          "metadata": {}
        },
        {
          "output_type": "display_data",
          "data": {
            "text/plain": [
              "<IPython.core.display.Javascript object>"
            ],
            "application/javascript": [
              "download(\"download_d7d431a6-2142-4a62-817d-58465b72e7ff\", \"lrpred.csv\", 20745)"
            ]
          },
          "metadata": {}
        }
      ]
    },
    {
      "cell_type": "code",
      "execution_count": 58,
      "metadata": {
        "id": "m1qA15GsdN4W"
      },
      "outputs": [],
      "source": [
        "from sklearn.ensemble import RandomForestRegressor"
      ]
    },
    {
      "cell_type": "code",
      "execution_count": 59,
      "metadata": {
        "colab": {
          "base_uri": "https://localhost:8080/",
          "height": 124
        },
        "id": "64XBDPbNsJM8",
        "outputId": "76530951-8e91-4e24-9282-e899dd2c40dd"
      },
      "outputs": [
        {
          "output_type": "stream",
          "name": "stdout",
          "text": [
            "mse :  7.437915530489459\n",
            "mae 1.9197216682570428\n",
            "r2 0.11986927146811388\n"
          ]
        },
        {
          "output_type": "stream",
          "name": "stderr",
          "text": [
            "<ipython-input-59-392ea97f5395>:2: DataConversionWarning: A column-vector y was passed when a 1d array was expected. Please change the shape of y to (n_samples,), for example using ravel().\n",
            "  random_forest.fit(X,Y)\n"
          ]
        },
        {
          "output_type": "display_data",
          "data": {
            "text/plain": [
              "<IPython.core.display.Javascript object>"
            ],
            "application/javascript": [
              "\n",
              "    async function download(id, filename, size) {\n",
              "      if (!google.colab.kernel.accessAllowed) {\n",
              "        return;\n",
              "      }\n",
              "      const div = document.createElement('div');\n",
              "      const label = document.createElement('label');\n",
              "      label.textContent = `Downloading \"${filename}\": `;\n",
              "      div.appendChild(label);\n",
              "      const progress = document.createElement('progress');\n",
              "      progress.max = size;\n",
              "      div.appendChild(progress);\n",
              "      document.body.appendChild(div);\n",
              "\n",
              "      const buffers = [];\n",
              "      let downloaded = 0;\n",
              "\n",
              "      const channel = await google.colab.kernel.comms.open(id);\n",
              "      // Send a message to notify the kernel that we're ready.\n",
              "      channel.send({})\n",
              "\n",
              "      for await (const message of channel.messages) {\n",
              "        // Send a message to notify the kernel that we're ready.\n",
              "        channel.send({})\n",
              "        if (message.buffers) {\n",
              "          for (const buffer of message.buffers) {\n",
              "            buffers.push(buffer);\n",
              "            downloaded += buffer.byteLength;\n",
              "            progress.value = downloaded;\n",
              "          }\n",
              "        }\n",
              "      }\n",
              "      const blob = new Blob(buffers, {type: 'application/binary'});\n",
              "      const a = document.createElement('a');\n",
              "      a.href = window.URL.createObjectURL(blob);\n",
              "      a.download = filename;\n",
              "      div.appendChild(a);\n",
              "      a.click();\n",
              "      div.remove();\n",
              "    }\n",
              "  "
            ]
          },
          "metadata": {}
        },
        {
          "output_type": "display_data",
          "data": {
            "text/plain": [
              "<IPython.core.display.Javascript object>"
            ],
            "application/javascript": [
              "download(\"download_921e6ec5-9572-410f-86ec-976ccfa056c1\", \"rfpred.csv\", 20705)"
            ]
          },
          "metadata": {}
        }
      ],
      "source": [
        "random_forest = RandomForestRegressor(n_estimators=15,max_depth=8,max_features=0.1,random_state=0,n_jobs=-1,min_samples_leaf=20)\n",
        "random_forest.fit(X,Y)\n",
        "prediction = random_forest.predict(X_test)\n",
        "mse = mean_squared_error(Y_test, prediction)\n",
        "mae = mean_absolute_error(Y_test, prediction)\n",
        "r2 = r2_score(Y_test, prediction)\n",
        "#print(sorted(prediction,reverse=True))\n",
        "print(\"mse : \", mse)\n",
        "print('mae',mae)\n",
        "print('r2',r2)\n",
        "next_week_prediction = random_forest.predict(X_next_week)\n",
        "nwpdf = pd.DataFrame(next_week_prediction)\n",
        "nwpdf.to_csv('rfpred.csv')\n",
        "files.download('rfpred.csv')"
      ]
    },
    {
      "cell_type": "code",
      "execution_count": null,
      "metadata": {
        "colab": {
          "base_uri": "https://localhost:8080/"
        },
        "id": "Usvfzb3Os0Uf",
        "outputId": "e4c9d442-5ed3-4a6f-acf7-b248ff434a70"
      },
      "outputs": [
        {
          "output_type": "stream",
          "name": "stdout",
          "text": [
            "17898.089444906822\n",
            "0.2568710852675363\n",
            "0.0865513119978848\n"
          ]
        }
      ],
      "source": [
        "from sklearn.tree import DecisionTreeRegressor, export_graphviz\n",
        "import graphviz\n",
        "tree = DecisionTreeRegressor(max_depth=5,random_state=0,criterion=\"squared_error\",min_samples_leaf=12)\n",
        "tree.fit(X,Y)\n",
        "graphviz.Source(export_graphviz(tree,\n",
        "                                feature_names=test_data_X.columns,\n",
        "                                ))\n",
        "prediction = tree.predict(X)\n",
        "mse = np.sum((prediction - Y_test) ** 2)\n",
        "mse /= len(prediction)\n",
        "print(mse)\n",
        "print(tree.score(X,Y))\n",
        "print(tree.score(X_test,Y_test))"
      ]
    },
    {
      "cell_type": "code",
      "execution_count": 61,
      "metadata": {
        "id": "bneMW1EaerlJ"
      },
      "outputs": [],
      "source": [
        "from sklearn.metrics import r2_score\n",
        "import torch\n",
        "import torch.nn as nn\n",
        "import torchvision\n",
        "from torchvision import transforms\n",
        "import matplotlib.pyplot as plt\n",
        "from tqdm import tqdm\n",
        "import torch.nn.functional as F"
      ]
    },
    {
      "cell_type": "code",
      "execution_count": 62,
      "metadata": {
        "id": "c4_i6SIdfRFw"
      },
      "outputs": [],
      "source": [
        "class Net(nn.Module):\n",
        "    def __init__(self):\n",
        "        super().__init__()\n",
        "        self.fc1 = nn.Linear(76, 84)  # first hidden layer\n",
        "        self.fc2 = nn.Linear(84, 84)     # second hidden layer\n",
        "        # your code here\n",
        "        self.additional_layer = nn.Linear(84,84)\n",
        "        self.fc3 = nn.Linear(84, 1)      # output layer\n",
        "\n",
        "    def forward(self, x):\n",
        "        #x = torch.flatten(x)   # flatten all dimensions except batch\n",
        "        x = F.relu(self.fc1(x))   # compute output of first hidden layer + activation function\n",
        "        x = F.relu(self.fc2(x))   # compute output of second hiddlen layer + activation function\n",
        "        # your code here\n",
        "        x = F.relu(self.additional_layer(x))\n",
        "        x = self.fc3(x)           # compute output\n",
        "        return x                  # return output\n",
        "\n",
        "model = Net()\n",
        "loss_function = nn.MSELoss()\n"
      ]
    },
    {
      "cell_type": "code",
      "execution_count": 63,
      "metadata": {
        "id": "STvD0NinhzN3"
      },
      "outputs": [],
      "source": [
        "optimizer = torch.optim.SGD(model.parameters(), lr=0.0001)"
      ]
    },
    {
      "cell_type": "code",
      "execution_count": 64,
      "metadata": {
        "colab": {
          "base_uri": "https://localhost:8080/"
        },
        "id": "UZRkaWC8jDsA",
        "outputId": "ae9c5d2b-bc4f-44b0-b505-1cd297b862a8"
      },
      "outputs": [
        {
          "output_type": "stream",
          "name": "stdout",
          "text": [
            "[[ 0.6992828   0.72394479  0.08259006 ... -3.40359667 -1.49734635\n",
            "  -1.27525771]\n",
            " [ 0.6992828   0.72394479  0.08259006 ... -3.40359667 -1.49734635\n",
            "  -1.62660854]\n",
            " [ 0.40028     0.46333989  0.08259006 ...  0.53198201  1.13021942\n",
            "  -0.74823148]\n",
            " ...\n",
            " [ 0.6992828   0.72394479  0.08259006 ...  0.04669037 -1.49734635\n",
            "   0.65717182]\n",
            " [ 0.6992828   0.72394479  0.08259006 ...  0.04669037 -1.49734635\n",
            "   1.7112243 ]\n",
            " [-1.94902766 -1.58427005  0.08259006 ... -3.40359667 -1.49734635\n",
            "   1.7112243 ]]\n",
            "(1663, 76)\n"
          ]
        }
      ],
      "source": [
        "X_test = np.asarray(X_test).astype('double')\n",
        "#X = np.asarray(X).astype('double')\n",
        "print(X_test)\n",
        "X_tensor = torch.from_numpy(X).float()\n",
        "X_test_tensor = torch.from_numpy(X_test).float()\n",
        "Y_tensor = torch.from_numpy(Y).float()\n",
        "Y_test_tensor = torch.from_numpy(Y_test).float()\n",
        "X_next_week_tensor = torch.from_numpy(X_next_week).float()\n",
        "print(X_test.shape)"
      ]
    },
    {
      "cell_type": "code",
      "execution_count": 65,
      "metadata": {
        "colab": {
          "base_uri": "https://localhost:8080/"
        },
        "id": "ywlBA18rgLlS",
        "outputId": "46dd9aca-46ab-4d4c-d191-83102c030c0b"
      },
      "outputs": [
        {
          "output_type": "stream",
          "name": "stdout",
          "text": [
            "Epoch 0- Training... \n"
          ]
        },
        {
          "output_type": "stream",
          "name": "stderr",
          "text": [
            "100%|██████████| 2434/2434 [00:01<00:00, 1371.46it/s]\n"
          ]
        },
        {
          "output_type": "stream",
          "name": "stdout",
          "text": [
            "Epoch 0- Evaluating... \n"
          ]
        },
        {
          "output_type": "stream",
          "name": "stderr",
          "text": [
            "100%|██████████| 1663/1663 [00:00<00:00, 6441.06it/s]\n"
          ]
        },
        {
          "output_type": "stream",
          "name": "stdout",
          "text": [
            "Scoretest:  0.08587620262702589\n",
            "Accuracytest:  11476.593123122582\n"
          ]
        },
        {
          "output_type": "stream",
          "name": "stderr",
          "text": [
            "100%|██████████| 2434/2434 [00:00<00:00, 6514.55it/s]\n"
          ]
        },
        {
          "output_type": "stream",
          "name": "stdout",
          "text": [
            "Scoretrain:  0.15285628665835682\n",
            "Accuracytrain:  25844.088092049456\n",
            "Epoch 1- Training... \n"
          ]
        },
        {
          "output_type": "stream",
          "name": "stderr",
          "text": [
            "100%|██████████| 2434/2434 [00:01<00:00, 1351.08it/s]\n"
          ]
        },
        {
          "output_type": "stream",
          "name": "stdout",
          "text": [
            "Epoch 1- Evaluating... \n"
          ]
        },
        {
          "output_type": "stream",
          "name": "stderr",
          "text": [
            "100%|██████████| 1663/1663 [00:00<00:00, 6275.80it/s]\n"
          ]
        },
        {
          "output_type": "stream",
          "name": "stdout",
          "text": [
            "Scoretest:  0.10402199397671696\n",
            "Accuracytest:  11410.612539125164\n"
          ]
        },
        {
          "output_type": "stream",
          "name": "stderr",
          "text": [
            "100%|██████████| 2434/2434 [00:00<00:00, 6937.79it/s]\n"
          ]
        },
        {
          "output_type": "stream",
          "name": "stdout",
          "text": [
            "Scoretrain:  0.182611281129199\n",
            "Accuracytrain:  25610.2455994031\n",
            "Epoch 2- Training... \n"
          ]
        },
        {
          "output_type": "stream",
          "name": "stderr",
          "text": [
            "100%|██████████| 2434/2434 [00:01<00:00, 1328.49it/s]\n"
          ]
        },
        {
          "output_type": "stream",
          "name": "stdout",
          "text": [
            "Epoch 2- Evaluating... \n"
          ]
        },
        {
          "output_type": "stream",
          "name": "stderr",
          "text": [
            "100%|██████████| 1663/1663 [00:00<00:00, 6346.04it/s]\n"
          ]
        },
        {
          "output_type": "stream",
          "name": "stdout",
          "text": [
            "Scoretest:  0.10834069985126038\n",
            "Accuracytest:  11495.346183361935\n"
          ]
        },
        {
          "output_type": "stream",
          "name": "stderr",
          "text": [
            "100%|██████████| 2434/2434 [00:00<00:00, 7334.79it/s]\n"
          ]
        },
        {
          "output_type": "stream",
          "name": "stdout",
          "text": [
            "Scoretrain:  0.19844612084714064\n",
            "Accuracytrain:  25722.599418483045\n",
            "Epoch 3- Training... \n"
          ]
        },
        {
          "output_type": "stream",
          "name": "stderr",
          "text": [
            "100%|██████████| 2434/2434 [00:01<00:00, 1337.09it/s]\n"
          ]
        },
        {
          "output_type": "stream",
          "name": "stdout",
          "text": [
            "Epoch 3- Evaluating... \n"
          ]
        },
        {
          "output_type": "stream",
          "name": "stderr",
          "text": [
            "100%|██████████| 1663/1663 [00:00<00:00, 6538.27it/s]\n"
          ]
        },
        {
          "output_type": "stream",
          "name": "stdout",
          "text": [
            "Scoretest:  0.11100926232399877\n",
            "Accuracytest:  11595.239559927615\n"
          ]
        },
        {
          "output_type": "stream",
          "name": "stderr",
          "text": [
            "100%|██████████| 2434/2434 [00:00<00:00, 6667.29it/s]\n"
          ]
        },
        {
          "output_type": "stream",
          "name": "stdout",
          "text": [
            "Scoretrain:  0.20955322294910173\n",
            "Accuracytrain:  25894.17135353432\n",
            "Epoch 4- Training... \n"
          ]
        },
        {
          "output_type": "stream",
          "name": "stderr",
          "text": [
            "100%|██████████| 2434/2434 [00:01<00:00, 1369.38it/s]\n"
          ]
        },
        {
          "output_type": "stream",
          "name": "stdout",
          "text": [
            "Epoch 4- Evaluating... \n"
          ]
        },
        {
          "output_type": "stream",
          "name": "stderr",
          "text": [
            "100%|██████████| 1663/1663 [00:00<00:00, 6036.93it/s]\n"
          ]
        },
        {
          "output_type": "stream",
          "name": "stdout",
          "text": [
            "Scoretest:  0.11317111956862913\n",
            "Accuracytest:  11697.25137992995\n"
          ]
        },
        {
          "output_type": "stream",
          "name": "stderr",
          "text": [
            "100%|██████████| 2434/2434 [00:00<00:00, 6915.31it/s]\n"
          ]
        },
        {
          "output_type": "stream",
          "name": "stdout",
          "text": [
            "Scoretrain:  0.21827456225631037\n",
            "Accuracytrain:  26079.33527940337\n",
            "Epoch 5- Training... \n"
          ]
        },
        {
          "output_type": "stream",
          "name": "stderr",
          "text": [
            "100%|██████████| 2434/2434 [00:01<00:00, 1272.21it/s]\n"
          ]
        },
        {
          "output_type": "stream",
          "name": "stdout",
          "text": [
            "Epoch 5- Evaluating... \n"
          ]
        },
        {
          "output_type": "stream",
          "name": "stderr",
          "text": [
            "100%|██████████| 1663/1663 [00:00<00:00, 6111.70it/s]\n"
          ]
        },
        {
          "output_type": "stream",
          "name": "stdout",
          "text": [
            "Scoretest:  0.11522482504892384\n",
            "Accuracytest:  11781.011203112157\n"
          ]
        },
        {
          "output_type": "stream",
          "name": "stderr",
          "text": [
            "100%|██████████| 2434/2434 [00:00<00:00, 6280.36it/s]\n"
          ]
        },
        {
          "output_type": "stream",
          "name": "stdout",
          "text": [
            "Scoretrain:  0.2251166899755015\n",
            "Accuracytrain:  26237.877885251633\n",
            "Epoch 6- Training... \n"
          ]
        },
        {
          "output_type": "stream",
          "name": "stderr",
          "text": [
            "100%|██████████| 2434/2434 [00:01<00:00, 1395.02it/s]\n"
          ]
        },
        {
          "output_type": "stream",
          "name": "stdout",
          "text": [
            "Epoch 6- Evaluating... \n"
          ]
        },
        {
          "output_type": "stream",
          "name": "stderr",
          "text": [
            "100%|██████████| 1663/1663 [00:00<00:00, 6923.88it/s]\n"
          ]
        },
        {
          "output_type": "stream",
          "name": "stdout",
          "text": [
            "Scoretest:  0.11643968106249025\n",
            "Accuracytest:  11857.882270867347\n"
          ]
        },
        {
          "output_type": "stream",
          "name": "stderr",
          "text": [
            "100%|██████████| 2434/2434 [00:00<00:00, 7561.84it/s]\n"
          ]
        },
        {
          "output_type": "stream",
          "name": "stdout",
          "text": [
            "Scoretrain:  0.23053790065599722\n",
            "Accuracytrain:  26379.399188307092\n",
            "Epoch 7- Training... \n"
          ]
        },
        {
          "output_type": "stream",
          "name": "stderr",
          "text": [
            "100%|██████████| 2434/2434 [00:01<00:00, 1339.91it/s]\n"
          ]
        },
        {
          "output_type": "stream",
          "name": "stdout",
          "text": [
            "Epoch 7- Evaluating... \n"
          ]
        },
        {
          "output_type": "stream",
          "name": "stderr",
          "text": [
            "100%|██████████| 1663/1663 [00:00<00:00, 7249.03it/s]\n"
          ]
        },
        {
          "output_type": "stream",
          "name": "stdout",
          "text": [
            "Scoretest:  0.11729433130047362\n",
            "Accuracytest:  11924.267428981175\n"
          ]
        },
        {
          "output_type": "stream",
          "name": "stderr",
          "text": [
            "100%|██████████| 2434/2434 [00:00<00:00, 6947.66it/s]\n"
          ]
        },
        {
          "output_type": "stream",
          "name": "stdout",
          "text": [
            "Scoretrain:  0.23490143049013346\n",
            "Accuracytrain:  26500.514345074836\n",
            "Epoch 8- Training... \n"
          ]
        },
        {
          "output_type": "stream",
          "name": "stderr",
          "text": [
            "100%|██████████| 2434/2434 [00:01<00:00, 1290.92it/s]\n"
          ]
        },
        {
          "output_type": "stream",
          "name": "stdout",
          "text": [
            "Epoch 8- Evaluating... \n"
          ]
        },
        {
          "output_type": "stream",
          "name": "stderr",
          "text": [
            "100%|██████████| 1663/1663 [00:00<00:00, 4138.91it/s]\n"
          ]
        },
        {
          "output_type": "stream",
          "name": "stdout",
          "text": [
            "Scoretest:  0.11767766608111718\n",
            "Accuracytest:  11978.33251474441\n"
          ]
        },
        {
          "output_type": "stream",
          "name": "stderr",
          "text": [
            "100%|██████████| 2434/2434 [00:00<00:00, 4622.57it/s]\n"
          ]
        },
        {
          "output_type": "stream",
          "name": "stdout",
          "text": [
            "Scoretrain:  0.2384665842114192\n",
            "Accuracytrain:  26597.414849021457\n",
            "Epoch 9- Training... \n"
          ]
        },
        {
          "output_type": "stream",
          "name": "stderr",
          "text": [
            "100%|██████████| 2434/2434 [00:02<00:00, 883.57it/s]\n"
          ]
        },
        {
          "output_type": "stream",
          "name": "stdout",
          "text": [
            "Epoch 9- Evaluating... \n"
          ]
        },
        {
          "output_type": "stream",
          "name": "stderr",
          "text": [
            "100%|██████████| 1663/1663 [00:00<00:00, 7162.17it/s]\n"
          ]
        },
        {
          "output_type": "stream",
          "name": "stdout",
          "text": [
            "Scoretest:  0.11758782106433296\n",
            "Accuracytest:  12019.824466757776\n"
          ]
        },
        {
          "output_type": "stream",
          "name": "stderr",
          "text": [
            "100%|██████████| 2434/2434 [00:00<00:00, 6988.21it/s]\n"
          ]
        },
        {
          "output_type": "stream",
          "name": "stdout",
          "text": [
            "Scoretrain:  0.24137571302560112\n",
            "Accuracytrain:  26666.523982736926\n",
            "Epoch 10- Training... \n"
          ]
        },
        {
          "output_type": "stream",
          "name": "stderr",
          "text": [
            "100%|██████████| 2434/2434 [00:01<00:00, 1443.10it/s]\n"
          ]
        },
        {
          "output_type": "stream",
          "name": "stdout",
          "text": [
            "Epoch 10- Evaluating... \n"
          ]
        },
        {
          "output_type": "stream",
          "name": "stderr",
          "text": [
            "100%|██████████| 1663/1663 [00:00<00:00, 6673.52it/s]\n"
          ]
        },
        {
          "output_type": "stream",
          "name": "stdout",
          "text": [
            "Scoretest:  0.11730288627346874\n",
            "Accuracytest:  12060.253808995965\n"
          ]
        },
        {
          "output_type": "stream",
          "name": "stderr",
          "text": [
            "100%|██████████| 2434/2434 [00:00<00:00, 7182.66it/s]\n"
          ]
        },
        {
          "output_type": "stream",
          "name": "stdout",
          "text": [
            "Scoretrain:  0.24385836341038714\n",
            "Accuracytrain:  26734.4230501825\n",
            "Epoch 11- Training... \n"
          ]
        },
        {
          "output_type": "stream",
          "name": "stderr",
          "text": [
            "100%|██████████| 2434/2434 [00:01<00:00, 1377.65it/s]\n"
          ]
        },
        {
          "output_type": "stream",
          "name": "stdout",
          "text": [
            "Epoch 11- Evaluating... \n"
          ]
        },
        {
          "output_type": "stream",
          "name": "stderr",
          "text": [
            "100%|██████████| 1663/1663 [00:00<00:00, 7038.18it/s]\n"
          ]
        },
        {
          "output_type": "stream",
          "name": "stdout",
          "text": [
            "Scoretest:  0.11717463708401898\n",
            "Accuracytest:  12083.203180864373\n"
          ]
        },
        {
          "output_type": "stream",
          "name": "stderr",
          "text": [
            "100%|██████████| 2434/2434 [00:00<00:00, 7393.74it/s]\n"
          ]
        },
        {
          "output_type": "stream",
          "name": "stdout",
          "text": [
            "Scoretrain:  0.2459834809035093\n",
            "Accuracytrain:  26767.426888953916\n",
            "Epoch 12- Training... \n"
          ]
        },
        {
          "output_type": "stream",
          "name": "stderr",
          "text": [
            "100%|██████████| 2434/2434 [00:01<00:00, 1342.52it/s]\n"
          ]
        },
        {
          "output_type": "stream",
          "name": "stdout",
          "text": [
            "Epoch 12- Evaluating... \n"
          ]
        },
        {
          "output_type": "stream",
          "name": "stderr",
          "text": [
            "100%|██████████| 1663/1663 [00:00<00:00, 7260.71it/s]\n"
          ]
        },
        {
          "output_type": "stream",
          "name": "stdout",
          "text": [
            "Scoretest:  0.11677574752966635\n",
            "Accuracytest:  12111.275970188737\n"
          ]
        },
        {
          "output_type": "stream",
          "name": "stderr",
          "text": [
            "100%|██████████| 2434/2434 [00:00<00:00, 6911.63it/s]\n"
          ]
        },
        {
          "output_type": "stream",
          "name": "stdout",
          "text": [
            "Scoretrain:  0.24792021304011225\n",
            "Accuracytrain:  26813.821230544727\n",
            "Epoch 13- Training... \n"
          ]
        },
        {
          "output_type": "stream",
          "name": "stderr",
          "text": [
            "100%|██████████| 2434/2434 [00:01<00:00, 1380.34it/s]\n"
          ]
        },
        {
          "output_type": "stream",
          "name": "stdout",
          "text": [
            "Epoch 13- Evaluating... \n"
          ]
        },
        {
          "output_type": "stream",
          "name": "stderr",
          "text": [
            "100%|██████████| 1663/1663 [00:00<00:00, 6968.12it/s]\n"
          ]
        },
        {
          "output_type": "stream",
          "name": "stdout",
          "text": [
            "Scoretest:  0.11642139257989803\n",
            "Accuracytest:  12130.004750038006\n"
          ]
        },
        {
          "output_type": "stream",
          "name": "stderr",
          "text": [
            "100%|██████████| 2434/2434 [00:00<00:00, 6877.62it/s]\n"
          ]
        },
        {
          "output_type": "stream",
          "name": "stdout",
          "text": [
            "Scoretrain:  0.2496070936340009\n",
            "Accuracytrain:  26841.943435113826\n",
            "Epoch 14- Training... \n"
          ]
        },
        {
          "output_type": "stream",
          "name": "stderr",
          "text": [
            "100%|██████████| 2434/2434 [00:01<00:00, 1377.81it/s]\n"
          ]
        },
        {
          "output_type": "stream",
          "name": "stdout",
          "text": [
            "Epoch 14- Evaluating... \n"
          ]
        },
        {
          "output_type": "stream",
          "name": "stderr",
          "text": [
            "100%|██████████| 1663/1663 [00:00<00:00, 4315.60it/s]\n"
          ]
        },
        {
          "output_type": "stream",
          "name": "stdout",
          "text": [
            "Scoretest:  0.11589378094723402\n",
            "Accuracytest:  12151.534741282501\n"
          ]
        },
        {
          "output_type": "stream",
          "name": "stderr",
          "text": [
            "100%|██████████| 2434/2434 [00:00<00:00, 6811.32it/s]\n"
          ]
        },
        {
          "output_type": "stream",
          "name": "stdout",
          "text": [
            "Scoretrain:  0.25113706077794085\n",
            "Accuracytrain:  26872.455203258698\n",
            "Epoch 15- Training... \n"
          ]
        },
        {
          "output_type": "stream",
          "name": "stderr",
          "text": [
            "100%|██████████| 2434/2434 [00:01<00:00, 1402.13it/s]\n"
          ]
        },
        {
          "output_type": "stream",
          "name": "stdout",
          "text": [
            "Epoch 15- Evaluating... \n"
          ]
        },
        {
          "output_type": "stream",
          "name": "stderr",
          "text": [
            "100%|██████████| 1663/1663 [00:00<00:00, 6769.64it/s]\n"
          ]
        },
        {
          "output_type": "stream",
          "name": "stdout",
          "text": [
            "Scoretest:  0.1155836049095531\n",
            "Accuracytest:  12158.70555860668\n"
          ]
        },
        {
          "output_type": "stream",
          "name": "stderr",
          "text": [
            "100%|██████████| 2434/2434 [00:00<00:00, 7472.00it/s]\n"
          ]
        },
        {
          "output_type": "stream",
          "name": "stdout",
          "text": [
            "Scoretrain:  0.25252789634637873\n",
            "Accuracytrain:  26882.229310601364\n",
            "Epoch 16- Training... \n"
          ]
        },
        {
          "output_type": "stream",
          "name": "stderr",
          "text": [
            "100%|██████████| 2434/2434 [00:01<00:00, 1389.69it/s]\n"
          ]
        },
        {
          "output_type": "stream",
          "name": "stdout",
          "text": [
            "Epoch 16- Evaluating... \n"
          ]
        },
        {
          "output_type": "stream",
          "name": "stderr",
          "text": [
            "100%|██████████| 1663/1663 [00:00<00:00, 6676.99it/s]\n"
          ]
        },
        {
          "output_type": "stream",
          "name": "stdout",
          "text": [
            "Scoretest:  0.11503491871857807\n",
            "Accuracytest:  12180.079824204613\n"
          ]
        },
        {
          "output_type": "stream",
          "name": "stderr",
          "text": [
            "100%|██████████| 2434/2434 [00:00<00:00, 6450.26it/s]\n"
          ]
        },
        {
          "output_type": "stream",
          "name": "stdout",
          "text": [
            "Scoretrain:  0.2538153728616346\n",
            "Accuracytrain:  26920.842367160618\n",
            "Epoch 17- Training... \n"
          ]
        },
        {
          "output_type": "stream",
          "name": "stderr",
          "text": [
            "100%|██████████| 2434/2434 [00:01<00:00, 1336.87it/s]\n"
          ]
        },
        {
          "output_type": "stream",
          "name": "stdout",
          "text": [
            "Epoch 17- Evaluating... \n"
          ]
        },
        {
          "output_type": "stream",
          "name": "stderr",
          "text": [
            "100%|██████████| 1663/1663 [00:00<00:00, 6497.57it/s]\n"
          ]
        },
        {
          "output_type": "stream",
          "name": "stdout",
          "text": [
            "Scoretest:  0.11427639537475598\n",
            "Accuracytest:  12189.673256861455\n"
          ]
        },
        {
          "output_type": "stream",
          "name": "stderr",
          "text": [
            "100%|██████████| 2434/2434 [00:00<00:00, 6765.52it/s]\n"
          ]
        },
        {
          "output_type": "stream",
          "name": "stdout",
          "text": [
            "Scoretrain:  0.25504242592358484\n",
            "Accuracytrain:  26939.213611268337\n",
            "Epoch 18- Training... \n"
          ]
        },
        {
          "output_type": "stream",
          "name": "stderr",
          "text": [
            "100%|██████████| 2434/2434 [00:01<00:00, 1390.79it/s]\n"
          ]
        },
        {
          "output_type": "stream",
          "name": "stdout",
          "text": [
            "Epoch 18- Evaluating... \n"
          ]
        },
        {
          "output_type": "stream",
          "name": "stderr",
          "text": [
            "100%|██████████| 1663/1663 [00:00<00:00, 6929.55it/s]\n"
          ]
        },
        {
          "output_type": "stream",
          "name": "stdout",
          "text": [
            "Scoretest:  0.11405354701899517\n",
            "Accuracytest:  12199.889935861216\n"
          ]
        },
        {
          "output_type": "stream",
          "name": "stderr",
          "text": [
            "100%|██████████| 2434/2434 [00:00<00:00, 7354.65it/s]\n"
          ]
        },
        {
          "output_type": "stream",
          "name": "stdout",
          "text": [
            "Scoretrain:  0.25618261912316476\n",
            "Accuracytrain:  26963.937955162688\n",
            "Epoch 19- Training... \n"
          ]
        },
        {
          "output_type": "stream",
          "name": "stderr",
          "text": [
            "100%|██████████| 2434/2434 [00:01<00:00, 1393.23it/s]\n"
          ]
        },
        {
          "output_type": "stream",
          "name": "stdout",
          "text": [
            "Epoch 19- Evaluating... \n"
          ]
        },
        {
          "output_type": "stream",
          "name": "stderr",
          "text": [
            "100%|██████████| 1663/1663 [00:00<00:00, 6776.47it/s]\n"
          ]
        },
        {
          "output_type": "stream",
          "name": "stdout",
          "text": [
            "Scoretest:  0.11371342213539581\n",
            "Accuracytest:  12212.095104071857\n"
          ]
        },
        {
          "output_type": "stream",
          "name": "stderr",
          "text": [
            "100%|██████████| 2434/2434 [00:00<00:00, 6978.04it/s]\n"
          ]
        },
        {
          "output_type": "stream",
          "name": "stdout",
          "text": [
            "Scoretrain:  0.2573171545663989\n",
            "Accuracytrain:  26979.353954873335\n",
            "Epoch 20- Training... \n"
          ]
        },
        {
          "output_type": "stream",
          "name": "stderr",
          "text": [
            "100%|██████████| 2434/2434 [00:01<00:00, 1388.25it/s]\n"
          ]
        },
        {
          "output_type": "stream",
          "name": "stdout",
          "text": [
            "Epoch 20- Evaluating... \n"
          ]
        },
        {
          "output_type": "stream",
          "name": "stderr",
          "text": [
            "100%|██████████| 1663/1663 [00:00<00:00, 7062.86it/s]\n"
          ]
        },
        {
          "output_type": "stream",
          "name": "stdout",
          "text": [
            "Scoretest:  0.11290933361451627\n",
            "Accuracytest:  12225.918581394992\n"
          ]
        },
        {
          "output_type": "stream",
          "name": "stderr",
          "text": [
            "100%|██████████| 2434/2434 [00:00<00:00, 6914.13it/s]\n"
          ]
        },
        {
          "output_type": "stream",
          "name": "stdout",
          "text": [
            "Scoretrain:  0.2583741239355134\n",
            "Accuracytrain:  27008.162541510024\n",
            "Epoch 21- Training... \n"
          ]
        },
        {
          "output_type": "stream",
          "name": "stderr",
          "text": [
            "100%|██████████| 2434/2434 [00:01<00:00, 1407.08it/s]\n"
          ]
        },
        {
          "output_type": "stream",
          "name": "stdout",
          "text": [
            "Epoch 21- Evaluating... \n"
          ]
        },
        {
          "output_type": "stream",
          "name": "stderr",
          "text": [
            "100%|██████████| 1663/1663 [00:00<00:00, 7157.43it/s]\n"
          ]
        },
        {
          "output_type": "stream",
          "name": "stdout",
          "text": [
            "Scoretest:  0.11229085264050431\n",
            "Accuracytest:  12244.21642769395\n"
          ]
        },
        {
          "output_type": "stream",
          "name": "stderr",
          "text": [
            "100%|██████████| 2434/2434 [00:00<00:00, 4927.11it/s]\n"
          ]
        },
        {
          "output_type": "stream",
          "name": "stdout",
          "text": [
            "Scoretrain:  0.2594367284473732\n",
            "Accuracytrain:  27040.294022701917\n",
            "Epoch 22- Training... \n"
          ]
        },
        {
          "output_type": "stream",
          "name": "stderr",
          "text": [
            "100%|██████████| 2434/2434 [00:01<00:00, 1359.30it/s]\n"
          ]
        },
        {
          "output_type": "stream",
          "name": "stdout",
          "text": [
            "Epoch 22- Evaluating... \n"
          ]
        },
        {
          "output_type": "stream",
          "name": "stderr",
          "text": [
            "100%|██████████| 1663/1663 [00:00<00:00, 6553.06it/s]\n"
          ]
        },
        {
          "output_type": "stream",
          "name": "stdout",
          "text": [
            "Scoretest:  0.11144746120946991\n",
            "Accuracytest:  12255.748392110478\n"
          ]
        },
        {
          "output_type": "stream",
          "name": "stderr",
          "text": [
            "100%|██████████| 2434/2434 [00:00<00:00, 7095.11it/s]\n"
          ]
        },
        {
          "output_type": "stream",
          "name": "stdout",
          "text": [
            "Scoretrain:  0.2604731956784935\n",
            "Accuracytrain:  27063.721790095136\n",
            "Epoch 23- Training... \n"
          ]
        },
        {
          "output_type": "stream",
          "name": "stderr",
          "text": [
            "100%|██████████| 2434/2434 [00:01<00:00, 1380.30it/s]\n"
          ]
        },
        {
          "output_type": "stream",
          "name": "stdout",
          "text": [
            "Epoch 23- Evaluating... \n"
          ]
        },
        {
          "output_type": "stream",
          "name": "stderr",
          "text": [
            "100%|██████████| 1663/1663 [00:00<00:00, 6601.65it/s]\n"
          ]
        },
        {
          "output_type": "stream",
          "name": "stdout",
          "text": [
            "Scoretest:  0.11054581153707843\n",
            "Accuracytest:  12262.77003753905\n"
          ]
        },
        {
          "output_type": "stream",
          "name": "stderr",
          "text": [
            "100%|██████████| 2434/2434 [00:00<00:00, 6912.16it/s]\n"
          ]
        },
        {
          "output_type": "stream",
          "name": "stdout",
          "text": [
            "Scoretrain:  0.2614770828903814\n",
            "Accuracytrain:  27074.50906494426\n",
            "Epoch 24- Training... \n"
          ]
        },
        {
          "output_type": "stream",
          "name": "stderr",
          "text": [
            "100%|██████████| 2434/2434 [00:01<00:00, 1393.97it/s]\n"
          ]
        },
        {
          "output_type": "stream",
          "name": "stdout",
          "text": [
            "Epoch 24- Evaluating... \n"
          ]
        },
        {
          "output_type": "stream",
          "name": "stderr",
          "text": [
            "100%|██████████| 1663/1663 [00:00<00:00, 6616.80it/s]\n"
          ]
        },
        {
          "output_type": "stream",
          "name": "stdout",
          "text": [
            "Scoretest:  0.11032391470712577\n",
            "Accuracytest:  12271.536702242302\n"
          ]
        },
        {
          "output_type": "stream",
          "name": "stderr",
          "text": [
            "100%|██████████| 2434/2434 [00:00<00:00, 7058.77it/s]\n"
          ]
        },
        {
          "output_type": "stream",
          "name": "stdout",
          "text": [
            "Scoretrain:  0.2623792371648006\n",
            "Accuracytrain:  27088.523185843314\n",
            "Epoch 25- Training... \n"
          ]
        },
        {
          "output_type": "stream",
          "name": "stderr",
          "text": [
            "100%|██████████| 2434/2434 [00:01<00:00, 1390.25it/s]\n"
          ]
        },
        {
          "output_type": "stream",
          "name": "stdout",
          "text": [
            "Epoch 25- Evaluating... \n"
          ]
        },
        {
          "output_type": "stream",
          "name": "stderr",
          "text": [
            "100%|██████████| 1663/1663 [00:00<00:00, 6747.59it/s]\n"
          ]
        },
        {
          "output_type": "stream",
          "name": "stdout",
          "text": [
            "Scoretest:  0.1093939429145322\n",
            "Accuracytest:  12294.559444862152\n"
          ]
        },
        {
          "output_type": "stream",
          "name": "stderr",
          "text": [
            "100%|██████████| 2434/2434 [00:00<00:00, 7082.64it/s]\n"
          ]
        },
        {
          "output_type": "stream",
          "name": "stdout",
          "text": [
            "Scoretrain:  0.2634027471096848\n",
            "Accuracytrain:  27134.617910539615\n",
            "Epoch 26- Training... \n"
          ]
        },
        {
          "output_type": "stream",
          "name": "stderr",
          "text": [
            "100%|██████████| 2434/2434 [00:01<00:00, 1324.69it/s]\n"
          ]
        },
        {
          "output_type": "stream",
          "name": "stdout",
          "text": [
            "Epoch 26- Evaluating... \n"
          ]
        },
        {
          "output_type": "stream",
          "name": "stderr",
          "text": [
            "100%|██████████| 1663/1663 [00:00<00:00, 6584.05it/s]\n"
          ]
        },
        {
          "output_type": "stream",
          "name": "stdout",
          "text": [
            "Scoretest:  0.10820277473341311\n",
            "Accuracytest:  12296.120353552998\n"
          ]
        },
        {
          "output_type": "stream",
          "name": "stderr",
          "text": [
            "100%|██████████| 2434/2434 [00:00<00:00, 6746.77it/s]\n"
          ]
        },
        {
          "output_type": "stream",
          "name": "stdout",
          "text": [
            "Scoretrain:  0.26439652189219864\n",
            "Accuracytrain:  27138.616784512524\n",
            "Epoch 27- Training... \n"
          ]
        },
        {
          "output_type": "stream",
          "name": "stderr",
          "text": [
            "100%|██████████| 2434/2434 [00:01<00:00, 1358.80it/s]\n"
          ]
        },
        {
          "output_type": "stream",
          "name": "stdout",
          "text": [
            "Epoch 27- Evaluating... \n"
          ]
        },
        {
          "output_type": "stream",
          "name": "stderr",
          "text": [
            "100%|██████████| 1663/1663 [00:00<00:00, 6419.02it/s]\n"
          ]
        },
        {
          "output_type": "stream",
          "name": "stdout",
          "text": [
            "Scoretest:  0.10720743686109879\n",
            "Accuracytest:  12304.11958816065\n"
          ]
        },
        {
          "output_type": "stream",
          "name": "stderr",
          "text": [
            "100%|██████████| 2434/2434 [00:00<00:00, 7112.81it/s]\n"
          ]
        },
        {
          "output_type": "stream",
          "name": "stdout",
          "text": [
            "Scoretrain:  0.26538713071965214\n",
            "Accuracytrain:  27158.809838148838\n",
            "Epoch 28- Training... \n"
          ]
        },
        {
          "output_type": "stream",
          "name": "stderr",
          "text": [
            "100%|██████████| 2434/2434 [00:01<00:00, 1407.15it/s]\n"
          ]
        },
        {
          "output_type": "stream",
          "name": "stdout",
          "text": [
            "Epoch 28- Evaluating... \n"
          ]
        },
        {
          "output_type": "stream",
          "name": "stderr",
          "text": [
            "100%|██████████| 1663/1663 [00:00<00:00, 6515.89it/s]\n"
          ]
        },
        {
          "output_type": "stream",
          "name": "stdout",
          "text": [
            "Scoretest:  0.1066017933098321\n",
            "Accuracytest:  12315.204168089633\n"
          ]
        },
        {
          "output_type": "stream",
          "name": "stderr",
          "text": [
            "100%|██████████| 2434/2434 [00:00<00:00, 6926.18it/s]\n"
          ]
        },
        {
          "output_type": "stream",
          "name": "stdout",
          "text": [
            "Scoretrain:  0.26631964621719273\n",
            "Accuracytrain:  27176.627794583215\n",
            "Epoch 29- Training... \n"
          ]
        },
        {
          "output_type": "stream",
          "name": "stderr",
          "text": [
            "100%|██████████| 2434/2434 [00:01<00:00, 1347.93it/s]\n"
          ]
        },
        {
          "output_type": "stream",
          "name": "stdout",
          "text": [
            "Epoch 29- Evaluating... \n"
          ]
        },
        {
          "output_type": "stream",
          "name": "stderr",
          "text": [
            "100%|██████████| 1663/1663 [00:00<00:00, 6378.85it/s]\n"
          ]
        },
        {
          "output_type": "stream",
          "name": "stdout",
          "text": [
            "Scoretest:  0.10559739043866379\n",
            "Accuracytest:  12327.209086780731\n"
          ]
        },
        {
          "output_type": "stream",
          "name": "stderr",
          "text": [
            "100%|██████████| 2434/2434 [00:00<00:00, 7075.71it/s]\n"
          ]
        },
        {
          "output_type": "stream",
          "name": "stdout",
          "text": [
            "Scoretrain:  0.26727107378717085\n",
            "Accuracytrain:  27204.859662214152\n",
            "Epoch 30- Training... \n"
          ]
        },
        {
          "output_type": "stream",
          "name": "stderr",
          "text": [
            "100%|██████████| 2434/2434 [00:01<00:00, 1361.38it/s]\n"
          ]
        },
        {
          "output_type": "stream",
          "name": "stdout",
          "text": [
            "Epoch 30- Evaluating... \n"
          ]
        },
        {
          "output_type": "stream",
          "name": "stderr",
          "text": [
            "100%|██████████| 1663/1663 [00:00<00:00, 7125.24it/s]\n"
          ]
        },
        {
          "output_type": "stream",
          "name": "stdout",
          "text": [
            "Scoretest:  0.10492192611765216\n",
            "Accuracytest:  12335.382967844222\n"
          ]
        },
        {
          "output_type": "stream",
          "name": "stderr",
          "text": [
            "100%|██████████| 2434/2434 [00:00<00:00, 7066.74it/s]\n"
          ]
        },
        {
          "output_type": "stream",
          "name": "stdout",
          "text": [
            "Scoretrain:  0.26823088166274767\n",
            "Accuracytrain:  27219.769639502647\n",
            "Epoch 31- Training... \n"
          ]
        },
        {
          "output_type": "stream",
          "name": "stderr",
          "text": [
            "100%|██████████| 2434/2434 [00:01<00:00, 1391.15it/s]\n"
          ]
        },
        {
          "output_type": "stream",
          "name": "stdout",
          "text": [
            "Epoch 31- Evaluating... \n"
          ]
        },
        {
          "output_type": "stream",
          "name": "stderr",
          "text": [
            "100%|██████████| 1663/1663 [00:00<00:00, 6407.72it/s]\n"
          ]
        },
        {
          "output_type": "stream",
          "name": "stdout",
          "text": [
            "Scoretest:  0.10420330623009111\n",
            "Accuracytest:  12338.972042412319\n"
          ]
        },
        {
          "output_type": "stream",
          "name": "stderr",
          "text": [
            "100%|██████████| 2434/2434 [00:00<00:00, 7076.34it/s]\n"
          ]
        },
        {
          "output_type": "stream",
          "name": "stdout",
          "text": [
            "Scoretrain:  0.269120308838632\n",
            "Accuracytrain:  27228.337737527447\n",
            "Epoch 32- Training... \n"
          ]
        },
        {
          "output_type": "stream",
          "name": "stderr",
          "text": [
            "100%|██████████| 2434/2434 [00:01<00:00, 1366.14it/s]\n"
          ]
        },
        {
          "output_type": "stream",
          "name": "stdout",
          "text": [
            "Epoch 32- Evaluating... \n"
          ]
        },
        {
          "output_type": "stream",
          "name": "stderr",
          "text": [
            "100%|██████████| 1663/1663 [00:00<00:00, 6938.22it/s]\n"
          ]
        },
        {
          "output_type": "stream",
          "name": "stdout",
          "text": [
            "Scoretest:  0.10327381403800617\n",
            "Accuracytest:  12360.59937582101\n"
          ]
        },
        {
          "output_type": "stream",
          "name": "stderr",
          "text": [
            "100%|██████████| 2434/2434 [00:00<00:00, 6885.37it/s]\n"
          ]
        },
        {
          "output_type": "stream",
          "name": "stdout",
          "text": [
            "Scoretrain:  0.2700362600436491\n",
            "Accuracytrain:  27265.475746274547\n",
            "Epoch 33- Training... \n"
          ]
        },
        {
          "output_type": "stream",
          "name": "stderr",
          "text": [
            "100%|██████████| 2434/2434 [00:01<00:00, 1402.59it/s]\n"
          ]
        },
        {
          "output_type": "stream",
          "name": "stdout",
          "text": [
            "Epoch 33- Evaluating... \n"
          ]
        },
        {
          "output_type": "stream",
          "name": "stderr",
          "text": [
            "100%|██████████| 1663/1663 [00:00<00:00, 6833.16it/s]\n"
          ]
        },
        {
          "output_type": "stream",
          "name": "stdout",
          "text": [
            "Scoretest:  0.10282674289360061\n",
            "Accuracytest:  12363.288439110853\n"
          ]
        },
        {
          "output_type": "stream",
          "name": "stderr",
          "text": [
            "100%|██████████| 2434/2434 [00:00<00:00, 7022.09it/s]\n"
          ]
        },
        {
          "output_type": "stream",
          "name": "stdout",
          "text": [
            "Scoretrain:  0.27097675178719305\n",
            "Accuracytrain:  27272.123920296275\n",
            "Epoch 34- Training... \n"
          ]
        },
        {
          "output_type": "stream",
          "name": "stderr",
          "text": [
            "100%|██████████| 2434/2434 [00:01<00:00, 1423.70it/s]\n"
          ]
        },
        {
          "output_type": "stream",
          "name": "stdout",
          "text": [
            "Epoch 34- Evaluating... \n"
          ]
        },
        {
          "output_type": "stream",
          "name": "stderr",
          "text": [
            "100%|██████████| 1663/1663 [00:00<00:00, 6035.22it/s]\n"
          ]
        },
        {
          "output_type": "stream",
          "name": "stdout",
          "text": [
            "Scoretest:  0.10131064135779533\n",
            "Accuracytest:  12385.922574499473\n"
          ]
        },
        {
          "output_type": "stream",
          "name": "stderr",
          "text": [
            "100%|██████████| 2434/2434 [00:00<00:00, 7296.44it/s]\n"
          ]
        },
        {
          "output_type": "stream",
          "name": "stdout",
          "text": [
            "Scoretrain:  0.2718899047705694\n",
            "Accuracytrain:  27316.828452702368\n",
            "Epoch 35- Training... \n"
          ]
        },
        {
          "output_type": "stream",
          "name": "stderr",
          "text": [
            "100%|██████████| 2434/2434 [00:01<00:00, 1358.33it/s]\n"
          ]
        },
        {
          "output_type": "stream",
          "name": "stdout",
          "text": [
            "Epoch 35- Evaluating... \n"
          ]
        },
        {
          "output_type": "stream",
          "name": "stderr",
          "text": [
            "100%|██████████| 1663/1663 [00:00<00:00, 7017.27it/s]\n"
          ]
        },
        {
          "output_type": "stream",
          "name": "stdout",
          "text": [
            "Scoretest:  0.10042029332833113\n",
            "Accuracytest:  12397.173916112455\n"
          ]
        },
        {
          "output_type": "stream",
          "name": "stderr",
          "text": [
            "100%|██████████| 2434/2434 [00:00<00:00, 7132.41it/s]\n"
          ]
        },
        {
          "output_type": "stream",
          "name": "stdout",
          "text": [
            "Scoretrain:  0.2729124081796662\n",
            "Accuracytrain:  27336.452815395747\n",
            "Epoch 36- Training... \n"
          ]
        },
        {
          "output_type": "stream",
          "name": "stderr",
          "text": [
            "100%|██████████| 2434/2434 [00:01<00:00, 1291.43it/s]\n"
          ]
        },
        {
          "output_type": "stream",
          "name": "stdout",
          "text": [
            "Epoch 36- Evaluating... \n"
          ]
        },
        {
          "output_type": "stream",
          "name": "stderr",
          "text": [
            "100%|██████████| 1663/1663 [00:00<00:00, 6414.99it/s]\n"
          ]
        },
        {
          "output_type": "stream",
          "name": "stdout",
          "text": [
            "Scoretest:  0.09964897884722423\n",
            "Accuracytest:  12397.690051012902\n"
          ]
        },
        {
          "output_type": "stream",
          "name": "stderr",
          "text": [
            "100%|██████████| 2434/2434 [00:00<00:00, 7378.94it/s]\n"
          ]
        },
        {
          "output_type": "stream",
          "name": "stdout",
          "text": [
            "Scoretrain:  0.27381717567442865\n",
            "Accuracytrain:  27350.354621978437\n",
            "Epoch 37- Training... \n"
          ]
        },
        {
          "output_type": "stream",
          "name": "stderr",
          "text": [
            "100%|██████████| 2434/2434 [00:01<00:00, 1371.04it/s]\n"
          ]
        },
        {
          "output_type": "stream",
          "name": "stdout",
          "text": [
            "Epoch 37- Evaluating... \n"
          ]
        },
        {
          "output_type": "stream",
          "name": "stderr",
          "text": [
            "100%|██████████| 1663/1663 [00:00<00:00, 6833.28it/s]\n"
          ]
        },
        {
          "output_type": "stream",
          "name": "stdout",
          "text": [
            "Scoretest:  0.09831879842440217\n",
            "Accuracytest:  12409.179829300823\n"
          ]
        },
        {
          "output_type": "stream",
          "name": "stderr",
          "text": [
            "100%|██████████| 2434/2434 [00:00<00:00, 6949.25it/s]\n"
          ]
        },
        {
          "output_type": "stream",
          "name": "stdout",
          "text": [
            "Scoretrain:  0.2746872527089478\n",
            "Accuracytrain:  27367.723852424002\n",
            "Epoch 38- Training... \n"
          ]
        },
        {
          "output_type": "stream",
          "name": "stderr",
          "text": [
            "100%|██████████| 2434/2434 [00:01<00:00, 1385.47it/s]\n"
          ]
        },
        {
          "output_type": "stream",
          "name": "stdout",
          "text": [
            "Epoch 38- Evaluating... \n"
          ]
        },
        {
          "output_type": "stream",
          "name": "stderr",
          "text": [
            "100%|██████████| 1663/1663 [00:00<00:00, 6608.19it/s]\n"
          ]
        },
        {
          "output_type": "stream",
          "name": "stdout",
          "text": [
            "Scoretest:  0.09776088695529084\n",
            "Accuracytest:  12430.714238717317\n"
          ]
        },
        {
          "output_type": "stream",
          "name": "stderr",
          "text": [
            "100%|██████████| 2434/2434 [00:00<00:00, 6466.04it/s]\n"
          ]
        },
        {
          "output_type": "stream",
          "name": "stdout",
          "text": [
            "Scoretrain:  0.2755127303861752\n",
            "Accuracytrain:  27406.981337401143\n",
            "Epoch 39- Training... \n"
          ]
        },
        {
          "output_type": "stream",
          "name": "stderr",
          "text": [
            "100%|██████████| 2434/2434 [00:01<00:00, 1366.60it/s]\n"
          ]
        },
        {
          "output_type": "stream",
          "name": "stdout",
          "text": [
            "Epoch 39- Evaluating... \n"
          ]
        },
        {
          "output_type": "stream",
          "name": "stderr",
          "text": [
            "100%|██████████| 1663/1663 [00:00<00:00, 6996.42it/s]\n"
          ]
        },
        {
          "output_type": "stream",
          "name": "stdout",
          "text": [
            "Scoretest:  0.09702652017047142\n",
            "Accuracytest:  12423.534818825847\n"
          ]
        },
        {
          "output_type": "stream",
          "name": "stderr",
          "text": [
            "100%|██████████| 2434/2434 [00:00<00:00, 7223.57it/s]\n"
          ]
        },
        {
          "output_type": "stream",
          "name": "stdout",
          "text": [
            "Scoretrain:  0.27649449072599264\n",
            "Accuracytrain:  27404.97414817501\n",
            "Epoch 40- Training... \n"
          ]
        },
        {
          "output_type": "stream",
          "name": "stderr",
          "text": [
            "100%|██████████| 2434/2434 [00:01<00:00, 1378.35it/s]\n"
          ]
        },
        {
          "output_type": "stream",
          "name": "stdout",
          "text": [
            "Epoch 40- Evaluating... \n"
          ]
        },
        {
          "output_type": "stream",
          "name": "stderr",
          "text": [
            "100%|██████████| 1663/1663 [00:00<00:00, 6389.35it/s]\n"
          ]
        },
        {
          "output_type": "stream",
          "name": "stdout",
          "text": [
            "Scoretest:  0.09637921404619665\n",
            "Accuracytest:  12445.546937160334\n"
          ]
        },
        {
          "output_type": "stream",
          "name": "stderr",
          "text": [
            "100%|██████████| 2434/2434 [00:00<00:00, 6588.16it/s]\n"
          ]
        },
        {
          "output_type": "stream",
          "name": "stdout",
          "text": [
            "Scoretrain:  0.27731228983914846\n",
            "Accuracytrain:  27440.65738174963\n",
            "Epoch 41- Training... \n"
          ]
        },
        {
          "output_type": "stream",
          "name": "stderr",
          "text": [
            "100%|██████████| 2434/2434 [00:01<00:00, 1321.85it/s]\n"
          ]
        },
        {
          "output_type": "stream",
          "name": "stdout",
          "text": [
            "Epoch 41- Evaluating... \n"
          ]
        },
        {
          "output_type": "stream",
          "name": "stderr",
          "text": [
            "100%|██████████| 1663/1663 [00:00<00:00, 6270.37it/s]\n"
          ]
        },
        {
          "output_type": "stream",
          "name": "stdout",
          "text": [
            "Scoretest:  0.09535332321386847\n",
            "Accuracytest:  12444.293690256769\n"
          ]
        },
        {
          "output_type": "stream",
          "name": "stderr",
          "text": [
            "100%|██████████| 2434/2434 [00:00<00:00, 7031.54it/s]\n"
          ]
        },
        {
          "output_type": "stream",
          "name": "stdout",
          "text": [
            "Scoretrain:  0.2782145912930172\n",
            "Accuracytrain:  27440.74324213395\n",
            "Epoch 42- Training... \n"
          ]
        },
        {
          "output_type": "stream",
          "name": "stderr",
          "text": [
            "100%|██████████| 2434/2434 [00:01<00:00, 1407.20it/s]\n"
          ]
        },
        {
          "output_type": "stream",
          "name": "stdout",
          "text": [
            "Epoch 42- Evaluating... \n"
          ]
        },
        {
          "output_type": "stream",
          "name": "stderr",
          "text": [
            "100%|██████████| 1663/1663 [00:00<00:00, 6540.66it/s]\n"
          ]
        },
        {
          "output_type": "stream",
          "name": "stdout",
          "text": [
            "Scoretest:  0.09429146185003301\n",
            "Accuracytest:  12466.10849420864\n"
          ]
        },
        {
          "output_type": "stream",
          "name": "stderr",
          "text": [
            "100%|██████████| 2434/2434 [00:00<00:00, 5155.09it/s]\n"
          ]
        },
        {
          "output_type": "stream",
          "name": "stdout",
          "text": [
            "Scoretrain:  0.27914659349348436\n",
            "Accuracytrain:  27483.13053887294\n",
            "Epoch 43- Training... \n"
          ]
        },
        {
          "output_type": "stream",
          "name": "stderr",
          "text": [
            "100%|██████████| 2434/2434 [00:01<00:00, 1372.36it/s]\n"
          ]
        },
        {
          "output_type": "stream",
          "name": "stdout",
          "text": [
            "Epoch 43- Evaluating... \n"
          ]
        },
        {
          "output_type": "stream",
          "name": "stderr",
          "text": [
            "100%|██████████| 1663/1663 [00:00<00:00, 6292.43it/s]\n"
          ]
        },
        {
          "output_type": "stream",
          "name": "stdout",
          "text": [
            "Scoretest:  0.09362465111771878\n",
            "Accuracytest:  12462.297071476585\n"
          ]
        },
        {
          "output_type": "stream",
          "name": "stderr",
          "text": [
            "100%|██████████| 2434/2434 [00:00<00:00, 7119.96it/s]\n"
          ]
        },
        {
          "output_type": "stream",
          "name": "stdout",
          "text": [
            "Scoretrain:  0.28011911471962536\n",
            "Accuracytrain:  27482.834224462866\n",
            "Epoch 44- Training... \n"
          ]
        },
        {
          "output_type": "stream",
          "name": "stderr",
          "text": [
            "100%|██████████| 2434/2434 [00:01<00:00, 1407.99it/s]\n"
          ]
        },
        {
          "output_type": "stream",
          "name": "stdout",
          "text": [
            "Epoch 44- Evaluating... \n"
          ]
        },
        {
          "output_type": "stream",
          "name": "stderr",
          "text": [
            "100%|██████████| 1663/1663 [00:00<00:00, 6887.80it/s]\n"
          ]
        },
        {
          "output_type": "stream",
          "name": "stdout",
          "text": [
            "Scoretest:  0.09324873016098867\n",
            "Accuracytest:  12480.381554046928\n"
          ]
        },
        {
          "output_type": "stream",
          "name": "stderr",
          "text": [
            "100%|██████████| 2434/2434 [00:00<00:00, 7125.03it/s]\n"
          ]
        },
        {
          "output_type": "stream",
          "name": "stdout",
          "text": [
            "Scoretrain:  0.2810056338883691\n",
            "Accuracytrain:  27518.115583891296\n",
            "Epoch 45- Training... \n"
          ]
        },
        {
          "output_type": "stream",
          "name": "stderr",
          "text": [
            "100%|██████████| 2434/2434 [00:01<00:00, 1380.61it/s]\n"
          ]
        },
        {
          "output_type": "stream",
          "name": "stdout",
          "text": [
            "Epoch 45- Evaluating... \n"
          ]
        },
        {
          "output_type": "stream",
          "name": "stderr",
          "text": [
            "100%|██████████| 1663/1663 [00:00<00:00, 6727.82it/s]\n"
          ]
        },
        {
          "output_type": "stream",
          "name": "stdout",
          "text": [
            "Scoretest:  0.09193386893743938\n",
            "Accuracytest:  12486.830392755148\n"
          ]
        },
        {
          "output_type": "stream",
          "name": "stderr",
          "text": [
            "100%|██████████| 2434/2434 [00:00<00:00, 6076.39it/s]\n"
          ]
        },
        {
          "output_type": "stream",
          "name": "stdout",
          "text": [
            "Scoretrain:  0.282064708955999\n",
            "Accuracytrain:  27528.670144083153\n",
            "Epoch 46- Training... \n"
          ]
        },
        {
          "output_type": "stream",
          "name": "stderr",
          "text": [
            "100%|██████████| 2434/2434 [00:01<00:00, 1347.20it/s]\n"
          ]
        },
        {
          "output_type": "stream",
          "name": "stdout",
          "text": [
            "Epoch 46- Evaluating... \n"
          ]
        },
        {
          "output_type": "stream",
          "name": "stderr",
          "text": [
            "100%|██████████| 1663/1663 [00:00<00:00, 6291.50it/s]\n"
          ]
        },
        {
          "output_type": "stream",
          "name": "stdout",
          "text": [
            "Scoretest:  0.09160198491319571\n",
            "Accuracytest:  12498.70698319854\n"
          ]
        },
        {
          "output_type": "stream",
          "name": "stderr",
          "text": [
            "100%|██████████| 2434/2434 [00:00<00:00, 6823.77it/s]\n"
          ]
        },
        {
          "output_type": "stream",
          "name": "stdout",
          "text": [
            "Scoretrain:  0.2829735187230128\n",
            "Accuracytrain:  27554.019553213417\n",
            "Epoch 47- Training... \n"
          ]
        },
        {
          "output_type": "stream",
          "name": "stderr",
          "text": [
            "100%|██████████| 2434/2434 [00:01<00:00, 1330.60it/s]\n"
          ]
        },
        {
          "output_type": "stream",
          "name": "stdout",
          "text": [
            "Epoch 47- Evaluating... \n"
          ]
        },
        {
          "output_type": "stream",
          "name": "stderr",
          "text": [
            "100%|██████████| 1663/1663 [00:00<00:00, 6538.79it/s]\n"
          ]
        },
        {
          "output_type": "stream",
          "name": "stdout",
          "text": [
            "Scoretest:  0.09017157792959274\n",
            "Accuracytest:  12508.47928224422\n"
          ]
        },
        {
          "output_type": "stream",
          "name": "stderr",
          "text": [
            "100%|██████████| 2434/2434 [00:00<00:00, 6698.08it/s]\n"
          ]
        },
        {
          "output_type": "stream",
          "name": "stdout",
          "text": [
            "Scoretrain:  0.2839426060681698\n",
            "Accuracytrain:  27573.541594595623\n",
            "Epoch 48- Training... \n"
          ]
        },
        {
          "output_type": "stream",
          "name": "stderr",
          "text": [
            "100%|██████████| 2434/2434 [00:01<00:00, 1373.68it/s]\n"
          ]
        },
        {
          "output_type": "stream",
          "name": "stdout",
          "text": [
            "Epoch 48- Evaluating... \n"
          ]
        },
        {
          "output_type": "stream",
          "name": "stderr",
          "text": [
            "100%|██████████| 1663/1663 [00:00<00:00, 6245.08it/s]\n"
          ]
        },
        {
          "output_type": "stream",
          "name": "stdout",
          "text": [
            "Scoretest:  0.08979851085946478\n",
            "Accuracytest:  12509.48028606491\n"
          ]
        },
        {
          "output_type": "stream",
          "name": "stderr",
          "text": [
            "100%|██████████| 2434/2434 [00:00<00:00, 7167.71it/s]\n"
          ]
        },
        {
          "output_type": "stream",
          "name": "stdout",
          "text": [
            "Scoretrain:  0.28479360248973495\n",
            "Accuracytrain:  27580.704155073025\n",
            "Epoch 49- Training... \n"
          ]
        },
        {
          "output_type": "stream",
          "name": "stderr",
          "text": [
            "100%|██████████| 2434/2434 [00:01<00:00, 1364.54it/s]\n"
          ]
        },
        {
          "output_type": "stream",
          "name": "stdout",
          "text": [
            "Epoch 49- Evaluating... \n"
          ]
        },
        {
          "output_type": "stream",
          "name": "stderr",
          "text": [
            "100%|██████████| 1663/1663 [00:00<00:00, 6311.26it/s]\n"
          ]
        },
        {
          "output_type": "stream",
          "name": "stdout",
          "text": [
            "Scoretest:  0.08871404458801035\n",
            "Accuracytest:  12534.34340752833\n"
          ]
        },
        {
          "output_type": "stream",
          "name": "stderr",
          "text": [
            "100%|██████████| 2434/2434 [00:00<00:00, 6597.81it/s]\n"
          ]
        },
        {
          "output_type": "stream",
          "name": "stdout",
          "text": [
            "Scoretrain:  0.28578760070390596\n",
            "Accuracytrain:  27627.34876435809\n",
            "Epoch 50- Training... \n"
          ]
        },
        {
          "output_type": "stream",
          "name": "stderr",
          "text": [
            "100%|██████████| 2434/2434 [00:01<00:00, 1417.36it/s]\n"
          ]
        },
        {
          "output_type": "stream",
          "name": "stdout",
          "text": [
            "Epoch 50- Evaluating... \n"
          ]
        },
        {
          "output_type": "stream",
          "name": "stderr",
          "text": [
            "100%|██████████| 1663/1663 [00:00<00:00, 5800.15it/s]\n"
          ]
        },
        {
          "output_type": "stream",
          "name": "stdout",
          "text": [
            "Scoretest:  0.08855821721101009\n",
            "Accuracytest:  12528.071338630976\n"
          ]
        },
        {
          "output_type": "stream",
          "name": "stderr",
          "text": [
            "100%|██████████| 2434/2434 [00:00<00:00, 4844.16it/s]\n"
          ]
        },
        {
          "output_type": "stream",
          "name": "stdout",
          "text": [
            "Scoretrain:  0.28660056080055707\n",
            "Accuracytrain:  27628.281269229698\n",
            "Epoch 51- Training... \n"
          ]
        },
        {
          "output_type": "stream",
          "name": "stderr",
          "text": [
            "100%|██████████| 2434/2434 [00:01<00:00, 1361.53it/s]\n"
          ]
        },
        {
          "output_type": "stream",
          "name": "stdout",
          "text": [
            "Epoch 51- Evaluating... \n"
          ]
        },
        {
          "output_type": "stream",
          "name": "stderr",
          "text": [
            "100%|██████████| 1663/1663 [00:00<00:00, 6906.72it/s]\n"
          ]
        },
        {
          "output_type": "stream",
          "name": "stdout",
          "text": [
            "Scoretest:  0.08667490215718787\n",
            "Accuracytest:  12554.094511088491\n"
          ]
        },
        {
          "output_type": "stream",
          "name": "stderr",
          "text": [
            "100%|██████████| 2434/2434 [00:00<00:00, 7059.51it/s]\n"
          ]
        },
        {
          "output_type": "stream",
          "name": "stdout",
          "text": [
            "Scoretrain:  0.28744590949622584\n",
            "Accuracytrain:  27672.516145793485\n",
            "Epoch 52- Training... \n"
          ]
        },
        {
          "output_type": "stream",
          "name": "stderr",
          "text": [
            "100%|██████████| 2434/2434 [00:01<00:00, 1410.45it/s]\n"
          ]
        },
        {
          "output_type": "stream",
          "name": "stdout",
          "text": [
            "Epoch 52- Evaluating... \n"
          ]
        },
        {
          "output_type": "stream",
          "name": "stderr",
          "text": [
            "100%|██████████| 1663/1663 [00:00<00:00, 6530.83it/s]\n"
          ]
        },
        {
          "output_type": "stream",
          "name": "stdout",
          "text": [
            "Scoretest:  0.08713327864914322\n",
            "Accuracytest:  12532.15506530477\n"
          ]
        },
        {
          "output_type": "stream",
          "name": "stderr",
          "text": [
            "100%|██████████| 2434/2434 [00:00<00:00, 6635.51it/s]\n"
          ]
        },
        {
          "output_type": "stream",
          "name": "stdout",
          "text": [
            "Scoretrain:  0.28839710924901285\n",
            "Accuracytrain:  27639.725498055417\n",
            "Epoch 53- Training... \n"
          ]
        },
        {
          "output_type": "stream",
          "name": "stderr",
          "text": [
            "100%|██████████| 2434/2434 [00:01<00:00, 1342.39it/s]\n"
          ]
        },
        {
          "output_type": "stream",
          "name": "stdout",
          "text": [
            "Epoch 53- Evaluating... \n"
          ]
        },
        {
          "output_type": "stream",
          "name": "stderr",
          "text": [
            "100%|██████████| 1663/1663 [00:00<00:00, 6391.36it/s]\n"
          ]
        },
        {
          "output_type": "stream",
          "name": "stdout",
          "text": [
            "Scoretest:  0.08520130610893828\n",
            "Accuracytest:  12579.205976998863\n"
          ]
        },
        {
          "output_type": "stream",
          "name": "stderr",
          "text": [
            "100%|██████████| 2434/2434 [00:00<00:00, 6738.70it/s]\n"
          ]
        },
        {
          "output_type": "stream",
          "name": "stdout",
          "text": [
            "Scoretrain:  0.28935751614700067\n",
            "Accuracytrain:  27724.198618265313\n",
            "Epoch 54- Training... \n"
          ]
        },
        {
          "output_type": "stream",
          "name": "stderr",
          "text": [
            "100%|██████████| 2434/2434 [00:01<00:00, 1406.24it/s]\n"
          ]
        },
        {
          "output_type": "stream",
          "name": "stdout",
          "text": [
            "Epoch 54- Evaluating... \n"
          ]
        },
        {
          "output_type": "stream",
          "name": "stderr",
          "text": [
            "100%|██████████| 1663/1663 [00:00<00:00, 6570.00it/s]\n"
          ]
        },
        {
          "output_type": "stream",
          "name": "stdout",
          "text": [
            "Scoretest:  0.08517478670498624\n",
            "Accuracytest:  12558.944508146873\n"
          ]
        },
        {
          "output_type": "stream",
          "name": "stderr",
          "text": [
            "100%|██████████| 2434/2434 [00:00<00:00, 7204.26it/s]\n"
          ]
        },
        {
          "output_type": "stream",
          "name": "stdout",
          "text": [
            "Scoretrain:  0.2901908035912183\n",
            "Accuracytrain:  27695.88350021509\n",
            "Epoch 55- Training... \n"
          ]
        },
        {
          "output_type": "stream",
          "name": "stderr",
          "text": [
            "100%|██████████| 2434/2434 [00:01<00:00, 1386.06it/s]\n"
          ]
        },
        {
          "output_type": "stream",
          "name": "stdout",
          "text": [
            "Epoch 55- Evaluating... \n"
          ]
        },
        {
          "output_type": "stream",
          "name": "stderr",
          "text": [
            "100%|██████████| 1663/1663 [00:00<00:00, 6193.57it/s]\n"
          ]
        },
        {
          "output_type": "stream",
          "name": "stdout",
          "text": [
            "Scoretest:  0.08368772102356137\n",
            "Accuracytest:  12573.725004643737\n"
          ]
        },
        {
          "output_type": "stream",
          "name": "stderr",
          "text": [
            "100%|██████████| 2434/2434 [00:00<00:00, 7097.87it/s]\n"
          ]
        },
        {
          "output_type": "stream",
          "name": "stdout",
          "text": [
            "Scoretrain:  0.2912263351390566\n",
            "Accuracytrain:  27716.558685188294\n",
            "Epoch 56- Training... \n"
          ]
        },
        {
          "output_type": "stream",
          "name": "stderr",
          "text": [
            "100%|██████████| 2434/2434 [00:01<00:00, 1398.94it/s]\n"
          ]
        },
        {
          "output_type": "stream",
          "name": "stdout",
          "text": [
            "Epoch 56- Evaluating... \n"
          ]
        },
        {
          "output_type": "stream",
          "name": "stderr",
          "text": [
            "100%|██████████| 1663/1663 [00:00<00:00, 7105.55it/s]\n"
          ]
        },
        {
          "output_type": "stream",
          "name": "stdout",
          "text": [
            "Scoretest:  0.08240007776116776\n",
            "Accuracytest:  12593.627488213273\n"
          ]
        },
        {
          "output_type": "stream",
          "name": "stderr",
          "text": [
            "100%|██████████| 2434/2434 [00:00<00:00, 7061.07it/s]\n"
          ]
        },
        {
          "output_type": "stream",
          "name": "stdout",
          "text": [
            "Scoretrain:  0.2920758286289248\n",
            "Accuracytrain:  27772.111711728943\n",
            "Epoch 57- Training... \n"
          ]
        },
        {
          "output_type": "stream",
          "name": "stderr",
          "text": [
            "100%|██████████| 2434/2434 [00:01<00:00, 1390.95it/s]\n"
          ]
        },
        {
          "output_type": "stream",
          "name": "stdout",
          "text": [
            "Epoch 57- Evaluating... \n"
          ]
        },
        {
          "output_type": "stream",
          "name": "stderr",
          "text": [
            "100%|██████████| 1663/1663 [00:00<00:00, 6408.11it/s]\n"
          ]
        },
        {
          "output_type": "stream",
          "name": "stdout",
          "text": [
            "Scoretest:  0.08157970010535132\n",
            "Accuracytest:  12581.84998026645\n"
          ]
        },
        {
          "output_type": "stream",
          "name": "stderr",
          "text": [
            "100%|██████████| 2434/2434 [00:00<00:00, 4793.43it/s]\n"
          ]
        },
        {
          "output_type": "stream",
          "name": "stdout",
          "text": [
            "Scoretrain:  0.2931206754492487\n",
            "Accuracytrain:  27744.214402927926\n",
            "Epoch 58- Training... \n"
          ]
        },
        {
          "output_type": "stream",
          "name": "stderr",
          "text": [
            "100%|██████████| 2434/2434 [00:01<00:00, 1369.38it/s]\n"
          ]
        },
        {
          "output_type": "stream",
          "name": "stdout",
          "text": [
            "Epoch 58- Evaluating... \n"
          ]
        },
        {
          "output_type": "stream",
          "name": "stderr",
          "text": [
            "100%|██████████| 1663/1663 [00:00<00:00, 6582.59it/s]\n"
          ]
        },
        {
          "output_type": "stream",
          "name": "stdout",
          "text": [
            "Scoretest:  0.08152370968711309\n",
            "Accuracytest:  12596.311734757512\n"
          ]
        },
        {
          "output_type": "stream",
          "name": "stderr",
          "text": [
            "100%|██████████| 2434/2434 [00:00<00:00, 6827.72it/s]\n"
          ]
        },
        {
          "output_type": "stream",
          "name": "stdout",
          "text": [
            "Scoretrain:  0.2942248977166241\n",
            "Accuracytrain:  27771.571016132286\n",
            "Epoch 59- Training... \n"
          ]
        },
        {
          "output_type": "stream",
          "name": "stderr",
          "text": [
            "100%|██████████| 2434/2434 [00:01<00:00, 1330.88it/s]\n"
          ]
        },
        {
          "output_type": "stream",
          "name": "stdout",
          "text": [
            "Epoch 59- Evaluating... \n"
          ]
        },
        {
          "output_type": "stream",
          "name": "stderr",
          "text": [
            "100%|██████████| 1663/1663 [00:00<00:00, 6218.94it/s]\n"
          ]
        },
        {
          "output_type": "stream",
          "name": "stdout",
          "text": [
            "Scoretest:  0.07924318185708878\n",
            "Accuracytest:  12622.442304271688\n"
          ]
        },
        {
          "output_type": "stream",
          "name": "stderr",
          "text": [
            "100%|██████████| 2434/2434 [00:00<00:00, 6510.85it/s]\n"
          ]
        },
        {
          "output_type": "stream",
          "name": "stdout",
          "text": [
            "Scoretrain:  0.2952969973437799\n",
            "Accuracytrain:  27820.242779380907\n",
            "Epoch 60- Training... \n"
          ]
        },
        {
          "output_type": "stream",
          "name": "stderr",
          "text": [
            "100%|██████████| 2434/2434 [00:01<00:00, 1353.40it/s]\n"
          ]
        },
        {
          "output_type": "stream",
          "name": "stdout",
          "text": [
            "Epoch 60- Evaluating... \n"
          ]
        },
        {
          "output_type": "stream",
          "name": "stderr",
          "text": [
            "100%|██████████| 1663/1663 [00:00<00:00, 6771.98it/s]\n"
          ]
        },
        {
          "output_type": "stream",
          "name": "stdout",
          "text": [
            "Scoretest:  0.0797638225541959\n",
            "Accuracytest:  12607.127757111599\n"
          ]
        },
        {
          "output_type": "stream",
          "name": "stderr",
          "text": [
            "100%|██████████| 2434/2434 [00:00<00:00, 6927.16it/s]\n"
          ]
        },
        {
          "output_type": "stream",
          "name": "stdout",
          "text": [
            "Scoretrain:  0.29649290137879547\n",
            "Accuracytrain:  27801.139715037567\n",
            "Epoch 61- Training... \n"
          ]
        },
        {
          "output_type": "stream",
          "name": "stderr",
          "text": [
            "100%|██████████| 2434/2434 [00:01<00:00, 1387.76it/s]\n"
          ]
        },
        {
          "output_type": "stream",
          "name": "stdout",
          "text": [
            "Epoch 61- Evaluating... \n"
          ]
        },
        {
          "output_type": "stream",
          "name": "stderr",
          "text": [
            "100%|██████████| 1663/1663 [00:00<00:00, 6513.53it/s]\n"
          ]
        },
        {
          "output_type": "stream",
          "name": "stdout",
          "text": [
            "Scoretest:  0.0771733306591681\n",
            "Accuracytest:  12665.861715758852\n"
          ]
        },
        {
          "output_type": "stream",
          "name": "stderr",
          "text": [
            "100%|██████████| 2434/2434 [00:00<00:00, 6855.82it/s]\n"
          ]
        },
        {
          "output_type": "stream",
          "name": "stdout",
          "text": [
            "Scoretrain:  0.29743237118782984\n",
            "Accuracytrain:  27912.55833536747\n",
            "Epoch 62- Training... \n"
          ]
        },
        {
          "output_type": "stream",
          "name": "stderr",
          "text": [
            "100%|██████████| 2434/2434 [00:01<00:00, 1351.21it/s]\n"
          ]
        },
        {
          "output_type": "stream",
          "name": "stdout",
          "text": [
            "Epoch 62- Evaluating... \n"
          ]
        },
        {
          "output_type": "stream",
          "name": "stderr",
          "text": [
            "100%|██████████| 1663/1663 [00:00<00:00, 6788.71it/s]\n"
          ]
        },
        {
          "output_type": "stream",
          "name": "stdout",
          "text": [
            "Scoretest:  0.07832326812499646\n",
            "Accuracytest:  12619.813015934598\n"
          ]
        },
        {
          "output_type": "stream",
          "name": "stderr",
          "text": [
            "100%|██████████| 2434/2434 [00:00<00:00, 6647.19it/s]\n"
          ]
        },
        {
          "output_type": "stream",
          "name": "stdout",
          "text": [
            "Scoretrain:  0.2986132477750326\n",
            "Accuracytrain:  27827.792098334066\n",
            "Epoch 63- Training... \n"
          ]
        },
        {
          "output_type": "stream",
          "name": "stderr",
          "text": [
            "100%|██████████| 2434/2434 [00:01<00:00, 1356.97it/s]\n"
          ]
        },
        {
          "output_type": "stream",
          "name": "stdout",
          "text": [
            "Epoch 63- Evaluating... \n"
          ]
        },
        {
          "output_type": "stream",
          "name": "stderr",
          "text": [
            "100%|██████████| 1663/1663 [00:00<00:00, 6663.80it/s]\n"
          ]
        },
        {
          "output_type": "stream",
          "name": "stdout",
          "text": [
            "Scoretest:  0.07608368913458674\n",
            "Accuracytest:  12656.077644579022\n"
          ]
        },
        {
          "output_type": "stream",
          "name": "stderr",
          "text": [
            "100%|██████████| 2434/2434 [00:00<00:00, 6859.15it/s]\n"
          ]
        },
        {
          "output_type": "stream",
          "name": "stdout",
          "text": [
            "Scoretrain:  0.2995855903722826\n",
            "Accuracytrain:  27900.066198611767\n",
            "Epoch 64- Training... \n"
          ]
        },
        {
          "output_type": "stream",
          "name": "stderr",
          "text": [
            "100%|██████████| 2434/2434 [00:01<00:00, 1332.55it/s]\n"
          ]
        },
        {
          "output_type": "stream",
          "name": "stdout",
          "text": [
            "Epoch 64- Evaluating... \n"
          ]
        },
        {
          "output_type": "stream",
          "name": "stderr",
          "text": [
            "100%|██████████| 1663/1663 [00:00<00:00, 6709.36it/s]\n"
          ]
        },
        {
          "output_type": "stream",
          "name": "stdout",
          "text": [
            "Scoretest:  0.07537867518831742\n",
            "Accuracytest:  12655.868402598015\n"
          ]
        },
        {
          "output_type": "stream",
          "name": "stderr",
          "text": [
            "100%|██████████| 2434/2434 [00:00<00:00, 6692.48it/s]\n"
          ]
        },
        {
          "output_type": "stream",
          "name": "stdout",
          "text": [
            "Scoretrain:  0.30078424100047496\n",
            "Accuracytrain:  27912.08710011491\n",
            "Epoch 65- Training... \n"
          ]
        },
        {
          "output_type": "stream",
          "name": "stderr",
          "text": [
            "100%|██████████| 2434/2434 [00:01<00:00, 1274.18it/s]\n"
          ]
        },
        {
          "output_type": "stream",
          "name": "stdout",
          "text": [
            "Epoch 65- Evaluating... \n"
          ]
        },
        {
          "output_type": "stream",
          "name": "stderr",
          "text": [
            "100%|██████████| 1663/1663 [00:00<00:00, 6285.26it/s]\n"
          ]
        },
        {
          "output_type": "stream",
          "name": "stdout",
          "text": [
            "Scoretest:  0.07442897752880129\n",
            "Accuracytest:  12678.606258412925\n"
          ]
        },
        {
          "output_type": "stream",
          "name": "stderr",
          "text": [
            "100%|██████████| 2434/2434 [00:00<00:00, 6911.89it/s]\n"
          ]
        },
        {
          "output_type": "stream",
          "name": "stdout",
          "text": [
            "Scoretrain:  0.3021788084554695\n",
            "Accuracytrain:  27957.211252577046\n",
            "Epoch 66- Training... \n"
          ]
        },
        {
          "output_type": "stream",
          "name": "stderr",
          "text": [
            "100%|██████████| 2434/2434 [00:01<00:00, 1357.49it/s]\n"
          ]
        },
        {
          "output_type": "stream",
          "name": "stdout",
          "text": [
            "Epoch 66- Evaluating... \n"
          ]
        },
        {
          "output_type": "stream",
          "name": "stderr",
          "text": [
            "100%|██████████| 1663/1663 [00:00<00:00, 6623.77it/s]\n"
          ]
        },
        {
          "output_type": "stream",
          "name": "stdout",
          "text": [
            "Scoretest:  0.07060821684018515\n",
            "Accuracytest:  12718.46183592349\n"
          ]
        },
        {
          "output_type": "stream",
          "name": "stderr",
          "text": [
            "100%|██████████| 2434/2434 [00:00<00:00, 6789.08it/s]\n"
          ]
        },
        {
          "output_type": "stream",
          "name": "stdout",
          "text": [
            "Scoretrain:  0.30320672532328397\n",
            "Accuracytrain:  28045.86457468512\n",
            "Epoch 67- Training... \n"
          ]
        },
        {
          "output_type": "stream",
          "name": "stderr",
          "text": [
            "100%|██████████| 2434/2434 [00:01<00:00, 1376.18it/s]\n"
          ]
        },
        {
          "output_type": "stream",
          "name": "stdout",
          "text": [
            "Epoch 67- Evaluating... \n"
          ]
        },
        {
          "output_type": "stream",
          "name": "stderr",
          "text": [
            "100%|██████████| 1663/1663 [00:00<00:00, 5991.16it/s]\n"
          ]
        },
        {
          "output_type": "stream",
          "name": "stdout",
          "text": [
            "Scoretest:  0.07128161076694772\n",
            "Accuracytest:  12713.093765972026\n"
          ]
        },
        {
          "output_type": "stream",
          "name": "stderr",
          "text": [
            "100%|██████████| 2434/2434 [00:00<00:00, 7148.37it/s]\n"
          ]
        },
        {
          "output_type": "stream",
          "name": "stdout",
          "text": [
            "Scoretrain:  0.3042576125856187\n",
            "Accuracytrain:  28036.89729613065\n",
            "Epoch 68- Training... \n"
          ]
        },
        {
          "output_type": "stream",
          "name": "stderr",
          "text": [
            "100%|██████████| 2434/2434 [00:01<00:00, 1299.54it/s]\n"
          ]
        },
        {
          "output_type": "stream",
          "name": "stdout",
          "text": [
            "Epoch 68- Evaluating... \n"
          ]
        },
        {
          "output_type": "stream",
          "name": "stderr",
          "text": [
            "100%|██████████| 1663/1663 [00:00<00:00, 6604.11it/s]\n"
          ]
        },
        {
          "output_type": "stream",
          "name": "stdout",
          "text": [
            "Scoretest:  0.07028004314113434\n",
            "Accuracytest:  12735.661006745599\n"
          ]
        },
        {
          "output_type": "stream",
          "name": "stderr",
          "text": [
            "100%|██████████| 2434/2434 [00:00<00:00, 6628.09it/s]\n"
          ]
        },
        {
          "output_type": "stream",
          "name": "stdout",
          "text": [
            "Scoretrain:  0.30575918766411236\n",
            "Accuracytrain:  28091.230297381815\n",
            "Epoch 69- Training... \n"
          ]
        },
        {
          "output_type": "stream",
          "name": "stderr",
          "text": [
            "100%|██████████| 2434/2434 [00:01<00:00, 1313.45it/s]\n"
          ]
        },
        {
          "output_type": "stream",
          "name": "stdout",
          "text": [
            "Epoch 69- Evaluating... \n"
          ]
        },
        {
          "output_type": "stream",
          "name": "stderr",
          "text": [
            "100%|██████████| 1663/1663 [00:00<00:00, 6216.29it/s]\n"
          ]
        },
        {
          "output_type": "stream",
          "name": "stdout",
          "text": [
            "Scoretest:  0.06868752628753805\n",
            "Accuracytest:  12756.51195017001\n"
          ]
        },
        {
          "output_type": "stream",
          "name": "stderr",
          "text": [
            "100%|██████████| 2434/2434 [00:00<00:00, 6653.31it/s]\n"
          ]
        },
        {
          "output_type": "stream",
          "name": "stdout",
          "text": [
            "Scoretrain:  0.30625516502833283\n",
            "Accuracytrain:  28142.4499752597\n",
            "Epoch 70- Training... \n"
          ]
        },
        {
          "output_type": "stream",
          "name": "stderr",
          "text": [
            "100%|██████████| 2434/2434 [00:01<00:00, 1296.45it/s]\n"
          ]
        },
        {
          "output_type": "stream",
          "name": "stdout",
          "text": [
            "Epoch 70- Evaluating... \n"
          ]
        },
        {
          "output_type": "stream",
          "name": "stderr",
          "text": [
            "100%|██████████| 1663/1663 [00:00<00:00, 6596.23it/s]\n"
          ]
        },
        {
          "output_type": "stream",
          "name": "stdout",
          "text": [
            "Scoretest:  0.06785188602154002\n",
            "Accuracytest:  12771.669191198236\n"
          ]
        },
        {
          "output_type": "stream",
          "name": "stderr",
          "text": [
            "100%|██████████| 2434/2434 [00:00<00:00, 6492.26it/s]\n"
          ]
        },
        {
          "output_type": "stream",
          "name": "stdout",
          "text": [
            "Scoretrain:  0.3080388108900475\n",
            "Accuracytrain:  28167.1011401926\n",
            "Epoch 71- Training... \n"
          ]
        },
        {
          "output_type": "stream",
          "name": "stderr",
          "text": [
            "100%|██████████| 2434/2434 [00:02<00:00, 1180.99it/s]\n"
          ]
        },
        {
          "output_type": "stream",
          "name": "stdout",
          "text": [
            "Epoch 71- Evaluating... \n"
          ]
        },
        {
          "output_type": "stream",
          "name": "stderr",
          "text": [
            "100%|██████████| 1663/1663 [00:00<00:00, 5597.89it/s]\n"
          ]
        },
        {
          "output_type": "stream",
          "name": "stdout",
          "text": [
            "Scoretest:  0.0682755777149775\n",
            "Accuracytest:  12748.431832826645\n"
          ]
        },
        {
          "output_type": "stream",
          "name": "stderr",
          "text": [
            "100%|██████████| 2434/2434 [00:00<00:00, 6261.33it/s]\n"
          ]
        },
        {
          "output_type": "stream",
          "name": "stdout",
          "text": [
            "Scoretrain:  0.30889446793734443\n",
            "Accuracytrain:  28146.131332745288\n",
            "Epoch 72- Training... \n"
          ]
        },
        {
          "output_type": "stream",
          "name": "stderr",
          "text": [
            "100%|██████████| 2434/2434 [00:02<00:00, 1083.67it/s]\n"
          ]
        },
        {
          "output_type": "stream",
          "name": "stdout",
          "text": [
            "Epoch 72- Evaluating... \n"
          ]
        },
        {
          "output_type": "stream",
          "name": "stderr",
          "text": [
            "100%|██████████| 1663/1663 [00:00<00:00, 5703.53it/s]\n"
          ]
        },
        {
          "output_type": "stream",
          "name": "stdout",
          "text": [
            "Scoretest:  0.06624758259410635\n",
            "Accuracytest:  12784.245567199909\n"
          ]
        },
        {
          "output_type": "stream",
          "name": "stderr",
          "text": [
            "100%|██████████| 2434/2434 [00:00<00:00, 5549.28it/s]\n"
          ]
        },
        {
          "output_type": "stream",
          "name": "stdout",
          "text": [
            "Scoretrain:  0.31010194811852165\n",
            "Accuracytrain:  28200.362040270225\n",
            "Epoch 73- Training... \n"
          ]
        },
        {
          "output_type": "stream",
          "name": "stderr",
          "text": [
            "100%|██████████| 2434/2434 [00:02<00:00, 1007.51it/s]\n"
          ]
        },
        {
          "output_type": "stream",
          "name": "stdout",
          "text": [
            "Epoch 73- Evaluating... \n"
          ]
        },
        {
          "output_type": "stream",
          "name": "stderr",
          "text": [
            "100%|██████████| 1663/1663 [00:00<00:00, 3890.94it/s]\n"
          ]
        },
        {
          "output_type": "stream",
          "name": "stdout",
          "text": [
            "Scoretest:  0.06748832742499733\n",
            "Accuracytest:  12744.3793437118\n"
          ]
        },
        {
          "output_type": "stream",
          "name": "stderr",
          "text": [
            "100%|██████████| 2434/2434 [00:00<00:00, 5216.84it/s]\n"
          ]
        },
        {
          "output_type": "stream",
          "name": "stdout",
          "text": [
            "Scoretrain:  0.3115598688790493\n",
            "Accuracytrain:  28141.04823939671\n",
            "Epoch 74- Training... \n"
          ]
        },
        {
          "output_type": "stream",
          "name": "stderr",
          "text": [
            "100%|██████████| 2434/2434 [00:02<00:00, 886.43it/s]\n"
          ]
        },
        {
          "output_type": "stream",
          "name": "stdout",
          "text": [
            "Epoch 74- Evaluating... \n"
          ]
        },
        {
          "output_type": "stream",
          "name": "stderr",
          "text": [
            "100%|██████████| 1663/1663 [00:00<00:00, 3441.73it/s]\n"
          ]
        },
        {
          "output_type": "stream",
          "name": "stdout",
          "text": [
            "Scoretest:  0.06410477628391331\n",
            "Accuracytest:  12798.488017324054\n"
          ]
        },
        {
          "output_type": "stream",
          "name": "stderr",
          "text": [
            "100%|██████████| 2434/2434 [00:00<00:00, 3937.90it/s]\n"
          ]
        },
        {
          "output_type": "stream",
          "name": "stdout",
          "text": [
            "Scoretrain:  0.31269792363445437\n",
            "Accuracytrain:  28239.16615131624\n",
            "Epoch 75- Training... \n"
          ]
        },
        {
          "output_type": "stream",
          "name": "stderr",
          "text": [
            "100%|██████████| 2434/2434 [00:03<00:00, 775.69it/s]\n"
          ]
        },
        {
          "output_type": "stream",
          "name": "stdout",
          "text": [
            "Epoch 75- Evaluating... \n"
          ]
        },
        {
          "output_type": "stream",
          "name": "stderr",
          "text": [
            "100%|██████████| 1663/1663 [00:00<00:00, 5831.66it/s]\n"
          ]
        },
        {
          "output_type": "stream",
          "name": "stdout",
          "text": [
            "Scoretest:  0.06462512907900209\n",
            "Accuracytest:  12796.376935713097\n"
          ]
        },
        {
          "output_type": "stream",
          "name": "stderr",
          "text": [
            "100%|██████████| 2434/2434 [00:00<00:00, 5508.33it/s]\n"
          ]
        },
        {
          "output_type": "stream",
          "name": "stdout",
          "text": [
            "Scoretrain:  0.3139567277191947\n",
            "Accuracytrain:  28251.855761589388\n",
            "Epoch 76- Training... \n"
          ]
        },
        {
          "output_type": "stream",
          "name": "stderr",
          "text": [
            "100%|██████████| 2434/2434 [00:02<00:00, 1048.43it/s]\n"
          ]
        },
        {
          "output_type": "stream",
          "name": "stdout",
          "text": [
            "Epoch 76- Evaluating... \n"
          ]
        },
        {
          "output_type": "stream",
          "name": "stderr",
          "text": [
            "100%|██████████| 1663/1663 [00:00<00:00, 5883.75it/s]\n"
          ]
        },
        {
          "output_type": "stream",
          "name": "stdout",
          "text": [
            "Scoretest:  0.06358945563087803\n",
            "Accuracytest:  12827.44224337839\n"
          ]
        },
        {
          "output_type": "stream",
          "name": "stderr",
          "text": [
            "100%|██████████| 2434/2434 [00:00<00:00, 6054.05it/s]\n"
          ]
        },
        {
          "output_type": "stream",
          "name": "stdout",
          "text": [
            "Scoretrain:  0.3153857864951467\n",
            "Accuracytrain:  28288.8755013307\n",
            "Epoch 77- Training... \n"
          ]
        },
        {
          "output_type": "stream",
          "name": "stderr",
          "text": [
            "100%|██████████| 2434/2434 [00:01<00:00, 1230.03it/s]\n"
          ]
        },
        {
          "output_type": "stream",
          "name": "stdout",
          "text": [
            "Epoch 77- Evaluating... \n"
          ]
        },
        {
          "output_type": "stream",
          "name": "stderr",
          "text": [
            "100%|██████████| 1663/1663 [00:00<00:00, 5848.41it/s]\n"
          ]
        },
        {
          "output_type": "stream",
          "name": "stdout",
          "text": [
            "Scoretest:  0.06292407166754788\n",
            "Accuracytest:  12800.220250047576\n"
          ]
        },
        {
          "output_type": "stream",
          "name": "stderr",
          "text": [
            "100%|██████████| 2434/2434 [00:00<00:00, 6324.12it/s]\n"
          ]
        },
        {
          "output_type": "stream",
          "name": "stdout",
          "text": [
            "Scoretrain:  0.31633107720505704\n",
            "Accuracytrain:  28276.774293034345\n",
            "Epoch 78- Training... \n"
          ]
        },
        {
          "output_type": "stream",
          "name": "stderr",
          "text": [
            "100%|██████████| 2434/2434 [00:02<00:00, 1199.84it/s]\n"
          ]
        },
        {
          "output_type": "stream",
          "name": "stdout",
          "text": [
            "Epoch 78- Evaluating... \n"
          ]
        },
        {
          "output_type": "stream",
          "name": "stderr",
          "text": [
            "100%|██████████| 1663/1663 [00:00<00:00, 6045.03it/s]\n"
          ]
        },
        {
          "output_type": "stream",
          "name": "stdout",
          "text": [
            "Scoretest:  0.05980292102832385\n",
            "Accuracytest:  12862.098631490906\n"
          ]
        },
        {
          "output_type": "stream",
          "name": "stderr",
          "text": [
            "100%|██████████| 2434/2434 [00:00<00:00, 6581.60it/s]\n"
          ]
        },
        {
          "output_type": "stream",
          "name": "stdout",
          "text": [
            "Scoretrain:  0.317460531172852\n",
            "Accuracytrain:  28378.422577686295\n",
            "Epoch 79- Training... \n"
          ]
        },
        {
          "output_type": "stream",
          "name": "stderr",
          "text": [
            "100%|██████████| 2434/2434 [00:01<00:00, 1316.98it/s]\n"
          ]
        },
        {
          "output_type": "stream",
          "name": "stdout",
          "text": [
            "Epoch 79- Evaluating... \n"
          ]
        },
        {
          "output_type": "stream",
          "name": "stderr",
          "text": [
            "100%|██████████| 1663/1663 [00:00<00:00, 6465.78it/s]\n"
          ]
        },
        {
          "output_type": "stream",
          "name": "stdout",
          "text": [
            "Scoretest:  0.059767539707486717\n",
            "Accuracytest:  12865.774823746857\n"
          ]
        },
        {
          "output_type": "stream",
          "name": "stderr",
          "text": [
            "100%|██████████| 2434/2434 [00:00<00:00, 6797.87it/s]\n"
          ]
        },
        {
          "output_type": "stream",
          "name": "stdout",
          "text": [
            "Scoretrain:  0.31869508993273066\n",
            "Accuracytrain:  28409.69960255798\n",
            "Epoch 80- Training... \n"
          ]
        },
        {
          "output_type": "stream",
          "name": "stderr",
          "text": [
            "100%|██████████| 2434/2434 [00:02<00:00, 1185.11it/s]\n"
          ]
        },
        {
          "output_type": "stream",
          "name": "stdout",
          "text": [
            "Epoch 80- Evaluating... \n"
          ]
        },
        {
          "output_type": "stream",
          "name": "stderr",
          "text": [
            "100%|██████████| 1663/1663 [00:00<00:00, 5786.85it/s]\n"
          ]
        },
        {
          "output_type": "stream",
          "name": "stdout",
          "text": [
            "Scoretest:  0.059208604573601886\n",
            "Accuracytest:  12858.063006186392\n"
          ]
        },
        {
          "output_type": "stream",
          "name": "stderr",
          "text": [
            "100%|██████████| 2434/2434 [00:00<00:00, 6396.21it/s]\n"
          ]
        },
        {
          "output_type": "stream",
          "name": "stdout",
          "text": [
            "Scoretrain:  0.32021168487271123\n",
            "Accuracytrain:  28408.058928697028\n",
            "Epoch 81- Training... \n"
          ]
        },
        {
          "output_type": "stream",
          "name": "stderr",
          "text": [
            "100%|██████████| 2434/2434 [00:01<00:00, 1237.07it/s]\n"
          ]
        },
        {
          "output_type": "stream",
          "name": "stdout",
          "text": [
            "Epoch 81- Evaluating... \n"
          ]
        },
        {
          "output_type": "stream",
          "name": "stderr",
          "text": [
            "100%|██████████| 1663/1663 [00:00<00:00, 6547.68it/s]\n"
          ]
        },
        {
          "output_type": "stream",
          "name": "stdout",
          "text": [
            "Scoretest:  0.05737055157395321\n",
            "Accuracytest:  12866.510132943706\n"
          ]
        },
        {
          "output_type": "stream",
          "name": "stderr",
          "text": [
            "100%|██████████| 2434/2434 [00:00<00:00, 6489.74it/s]\n"
          ]
        },
        {
          "output_type": "stream",
          "name": "stdout",
          "text": [
            "Scoretrain:  0.3212753458487513\n",
            "Accuracytrain:  28417.561445881198\n",
            "Epoch 82- Training... \n"
          ]
        },
        {
          "output_type": "stream",
          "name": "stderr",
          "text": [
            "100%|██████████| 2434/2434 [00:01<00:00, 1236.88it/s]\n"
          ]
        },
        {
          "output_type": "stream",
          "name": "stdout",
          "text": [
            "Epoch 82- Evaluating... \n"
          ]
        },
        {
          "output_type": "stream",
          "name": "stderr",
          "text": [
            "100%|██████████| 1663/1663 [00:00<00:00, 5646.60it/s]\n"
          ]
        },
        {
          "output_type": "stream",
          "name": "stdout",
          "text": [
            "Scoretest:  0.056261301638311556\n",
            "Accuracytest:  12868.504238553453\n"
          ]
        },
        {
          "output_type": "stream",
          "name": "stderr",
          "text": [
            "100%|██████████| 2434/2434 [00:00<00:00, 6167.01it/s]\n"
          ]
        },
        {
          "output_type": "stream",
          "name": "stdout",
          "text": [
            "Scoretrain:  0.32273526927766283\n",
            "Accuracytrain:  28450.001028371884\n",
            "Epoch 83- Training... \n"
          ]
        },
        {
          "output_type": "stream",
          "name": "stderr",
          "text": [
            "100%|██████████| 2434/2434 [00:01<00:00, 1282.70it/s]\n"
          ]
        },
        {
          "output_type": "stream",
          "name": "stdout",
          "text": [
            "Epoch 83- Evaluating... \n"
          ]
        },
        {
          "output_type": "stream",
          "name": "stderr",
          "text": [
            "100%|██████████| 1663/1663 [00:00<00:00, 5239.99it/s]\n"
          ]
        },
        {
          "output_type": "stream",
          "name": "stdout",
          "text": [
            "Scoretest:  0.05835636455235038\n",
            "Accuracytest:  12850.2051341567\n"
          ]
        },
        {
          "output_type": "stream",
          "name": "stderr",
          "text": [
            "100%|██████████| 2434/2434 [00:00<00:00, 6804.46it/s]\n"
          ]
        },
        {
          "output_type": "stream",
          "name": "stdout",
          "text": [
            "Scoretrain:  0.3238779212221442\n",
            "Accuracytrain:  28400.878947255485\n",
            "Epoch 84- Training... \n"
          ]
        },
        {
          "output_type": "stream",
          "name": "stderr",
          "text": [
            "100%|██████████| 2434/2434 [00:01<00:00, 1295.41it/s]\n"
          ]
        },
        {
          "output_type": "stream",
          "name": "stdout",
          "text": [
            "Epoch 84- Evaluating... \n"
          ]
        },
        {
          "output_type": "stream",
          "name": "stderr",
          "text": [
            "100%|██████████| 1663/1663 [00:00<00:00, 7147.53it/s]\n"
          ]
        },
        {
          "output_type": "stream",
          "name": "stdout",
          "text": [
            "Scoretest:  0.05536243282854958\n",
            "Accuracytest:  12871.136779176644\n"
          ]
        },
        {
          "output_type": "stream",
          "name": "stderr",
          "text": [
            "100%|██████████| 2434/2434 [00:00<00:00, 6483.28it/s]\n"
          ]
        },
        {
          "output_type": "stream",
          "name": "stdout",
          "text": [
            "Scoretrain:  0.3257226550011231\n",
            "Accuracytrain:  28419.905874080545\n",
            "Epoch 85- Training... \n"
          ]
        },
        {
          "output_type": "stream",
          "name": "stderr",
          "text": [
            "100%|██████████| 2434/2434 [00:01<00:00, 1305.37it/s]\n"
          ]
        },
        {
          "output_type": "stream",
          "name": "stdout",
          "text": [
            "Epoch 85- Evaluating... \n"
          ]
        },
        {
          "output_type": "stream",
          "name": "stderr",
          "text": [
            "100%|██████████| 1663/1663 [00:00<00:00, 6109.54it/s]\n"
          ]
        },
        {
          "output_type": "stream",
          "name": "stdout",
          "text": [
            "Scoretest:  0.0532370041496224\n",
            "Accuracytest:  12882.286354100926\n"
          ]
        },
        {
          "output_type": "stream",
          "name": "stderr",
          "text": [
            "100%|██████████| 2434/2434 [00:00<00:00, 5562.17it/s]\n"
          ]
        },
        {
          "output_type": "stream",
          "name": "stdout",
          "text": [
            "Scoretrain:  0.3271158737727483\n",
            "Accuracytrain:  28457.89163732829\n",
            "Epoch 86- Training... \n"
          ]
        },
        {
          "output_type": "stream",
          "name": "stderr",
          "text": [
            "100%|██████████| 2434/2434 [00:02<00:00, 1175.11it/s]\n"
          ]
        },
        {
          "output_type": "stream",
          "name": "stdout",
          "text": [
            "Epoch 86- Evaluating... \n"
          ]
        },
        {
          "output_type": "stream",
          "name": "stderr",
          "text": [
            "100%|██████████| 1663/1663 [00:00<00:00, 5959.73it/s]\n"
          ]
        },
        {
          "output_type": "stream",
          "name": "stdout",
          "text": [
            "Scoretest:  0.053495749828082584\n",
            "Accuracytest:  12889.484857359026\n"
          ]
        },
        {
          "output_type": "stream",
          "name": "stderr",
          "text": [
            "100%|██████████| 2434/2434 [00:00<00:00, 6532.16it/s]\n"
          ]
        },
        {
          "output_type": "stream",
          "name": "stdout",
          "text": [
            "Scoretrain:  0.32809716692264324\n",
            "Accuracytrain:  28462.585535515598\n",
            "Epoch 87- Training... \n"
          ]
        },
        {
          "output_type": "stream",
          "name": "stderr",
          "text": [
            "100%|██████████| 2434/2434 [00:03<00:00, 698.80it/s]\n"
          ]
        },
        {
          "output_type": "stream",
          "name": "stdout",
          "text": [
            "Epoch 87- Evaluating... \n"
          ]
        },
        {
          "output_type": "stream",
          "name": "stderr",
          "text": [
            "100%|██████████| 1663/1663 [00:00<00:00, 6142.68it/s]\n"
          ]
        },
        {
          "output_type": "stream",
          "name": "stdout",
          "text": [
            "Scoretest:  0.050013777076357346\n",
            "Accuracytest:  12934.007568682042\n"
          ]
        },
        {
          "output_type": "stream",
          "name": "stderr",
          "text": [
            "100%|██████████| 2434/2434 [00:00<00:00, 7023.96it/s]\n"
          ]
        },
        {
          "output_type": "stream",
          "name": "stdout",
          "text": [
            "Scoretrain:  0.3297640953764488\n",
            "Accuracytrain:  28551.825119751895\n",
            "Epoch 88- Training... \n"
          ]
        },
        {
          "output_type": "stream",
          "name": "stderr",
          "text": [
            "100%|██████████| 2434/2434 [00:01<00:00, 1317.83it/s]\n"
          ]
        },
        {
          "output_type": "stream",
          "name": "stdout",
          "text": [
            "Epoch 88- Evaluating... \n"
          ]
        },
        {
          "output_type": "stream",
          "name": "stderr",
          "text": [
            "100%|██████████| 1663/1663 [00:00<00:00, 6393.43it/s]\n"
          ]
        },
        {
          "output_type": "stream",
          "name": "stdout",
          "text": [
            "Scoretest:  0.051743479742162535\n",
            "Accuracytest:  12938.896859489803\n"
          ]
        },
        {
          "output_type": "stream",
          "name": "stderr",
          "text": [
            "100%|██████████| 2434/2434 [00:00<00:00, 4916.12it/s]\n"
          ]
        },
        {
          "output_type": "stream",
          "name": "stdout",
          "text": [
            "Scoretrain:  0.3309485734619656\n",
            "Accuracytrain:  28579.313238752504\n",
            "Epoch 89- Training... \n"
          ]
        },
        {
          "output_type": "stream",
          "name": "stderr",
          "text": [
            "100%|██████████| 2434/2434 [00:01<00:00, 1332.45it/s]\n"
          ]
        },
        {
          "output_type": "stream",
          "name": "stdout",
          "text": [
            "Epoch 89- Evaluating... \n"
          ]
        },
        {
          "output_type": "stream",
          "name": "stderr",
          "text": [
            "100%|██████████| 1663/1663 [00:00<00:00, 6685.80it/s]\n"
          ]
        },
        {
          "output_type": "stream",
          "name": "stdout",
          "text": [
            "Scoretest:  0.050321660723336104\n",
            "Accuracytest:  12922.639830973756\n"
          ]
        },
        {
          "output_type": "stream",
          "name": "stderr",
          "text": [
            "100%|██████████| 2434/2434 [00:00<00:00, 6437.27it/s]\n"
          ]
        },
        {
          "output_type": "stream",
          "name": "stdout",
          "text": [
            "Scoretrain:  0.33225857205235354\n",
            "Accuracytrain:  28548.875073476593\n",
            "Epoch 90- Training... \n"
          ]
        },
        {
          "output_type": "stream",
          "name": "stderr",
          "text": [
            "100%|██████████| 2434/2434 [00:01<00:00, 1309.07it/s]\n"
          ]
        },
        {
          "output_type": "stream",
          "name": "stdout",
          "text": [
            "Epoch 90- Evaluating... \n"
          ]
        },
        {
          "output_type": "stream",
          "name": "stderr",
          "text": [
            "100%|██████████| 1663/1663 [00:00<00:00, 6238.09it/s]\n"
          ]
        },
        {
          "output_type": "stream",
          "name": "stdout",
          "text": [
            "Scoretest:  0.04936301008355026\n",
            "Accuracytest:  12915.912687316706\n"
          ]
        },
        {
          "output_type": "stream",
          "name": "stderr",
          "text": [
            "100%|██████████| 2434/2434 [00:00<00:00, 6729.64it/s]\n"
          ]
        },
        {
          "output_type": "stream",
          "name": "stdout",
          "text": [
            "Scoretrain:  0.33381533996406343\n",
            "Accuracytrain:  28545.095555875865\n",
            "Epoch 91- Training... \n"
          ]
        },
        {
          "output_type": "stream",
          "name": "stderr",
          "text": [
            "100%|██████████| 2434/2434 [00:01<00:00, 1273.38it/s]\n"
          ]
        },
        {
          "output_type": "stream",
          "name": "stdout",
          "text": [
            "Epoch 91- Evaluating... \n"
          ]
        },
        {
          "output_type": "stream",
          "name": "stderr",
          "text": [
            "100%|██████████| 1663/1663 [00:00<00:00, 6211.81it/s]\n"
          ]
        },
        {
          "output_type": "stream",
          "name": "stdout",
          "text": [
            "Scoretest:  0.04765663271488063\n",
            "Accuracytest:  12963.607990279448\n"
          ]
        },
        {
          "output_type": "stream",
          "name": "stderr",
          "text": [
            "100%|██████████| 2434/2434 [00:00<00:00, 6566.58it/s]\n"
          ]
        },
        {
          "output_type": "stream",
          "name": "stdout",
          "text": [
            "Scoretrain:  0.3352674691758787\n",
            "Accuracytrain:  28604.196653736908\n",
            "Epoch 92- Training... \n"
          ]
        },
        {
          "output_type": "stream",
          "name": "stderr",
          "text": [
            "100%|██████████| 2434/2434 [00:01<00:00, 1349.18it/s]\n"
          ]
        },
        {
          "output_type": "stream",
          "name": "stdout",
          "text": [
            "Epoch 92- Evaluating... \n"
          ]
        },
        {
          "output_type": "stream",
          "name": "stderr",
          "text": [
            "100%|██████████| 1663/1663 [00:00<00:00, 6629.69it/s]\n"
          ]
        },
        {
          "output_type": "stream",
          "name": "stdout",
          "text": [
            "Scoretest:  0.04741517073044499\n",
            "Accuracytest:  12944.577402773091\n"
          ]
        },
        {
          "output_type": "stream",
          "name": "stderr",
          "text": [
            "100%|██████████| 2434/2434 [00:00<00:00, 6627.06it/s]\n"
          ]
        },
        {
          "output_type": "stream",
          "name": "stdout",
          "text": [
            "Scoretrain:  0.3364684334112118\n",
            "Accuracytrain:  28594.986671885556\n",
            "Epoch 93- Training... \n"
          ]
        },
        {
          "output_type": "stream",
          "name": "stderr",
          "text": [
            "100%|██████████| 2434/2434 [00:01<00:00, 1350.94it/s]\n"
          ]
        },
        {
          "output_type": "stream",
          "name": "stdout",
          "text": [
            "Epoch 93- Evaluating... \n"
          ]
        },
        {
          "output_type": "stream",
          "name": "stderr",
          "text": [
            "100%|██████████| 1663/1663 [00:00<00:00, 6204.29it/s]\n"
          ]
        },
        {
          "output_type": "stream",
          "name": "stdout",
          "text": [
            "Scoretest:  0.046275774172179096\n",
            "Accuracytest:  12940.31153633196\n"
          ]
        },
        {
          "output_type": "stream",
          "name": "stderr",
          "text": [
            "100%|██████████| 2434/2434 [00:00<00:00, 7193.26it/s]\n"
          ]
        },
        {
          "output_type": "stream",
          "name": "stdout",
          "text": [
            "Scoretrain:  0.3371344840886621\n",
            "Accuracytrain:  28616.014394919166\n",
            "Epoch 94- Training... \n"
          ]
        },
        {
          "output_type": "stream",
          "name": "stderr",
          "text": [
            "100%|██████████| 2434/2434 [00:01<00:00, 1286.75it/s]\n"
          ]
        },
        {
          "output_type": "stream",
          "name": "stdout",
          "text": [
            "Epoch 94- Evaluating... \n"
          ]
        },
        {
          "output_type": "stream",
          "name": "stderr",
          "text": [
            "100%|██████████| 1663/1663 [00:00<00:00, 6444.66it/s]\n"
          ]
        },
        {
          "output_type": "stream",
          "name": "stdout",
          "text": [
            "Scoretest:  0.04496784337514648\n",
            "Accuracytest:  12962.773587432594\n"
          ]
        },
        {
          "output_type": "stream",
          "name": "stderr",
          "text": [
            "100%|██████████| 2434/2434 [00:00<00:00, 6580.27it/s]\n"
          ]
        },
        {
          "output_type": "stream",
          "name": "stdout",
          "text": [
            "Scoretrain:  0.3386497218236224\n",
            "Accuracytrain:  28621.831192319907\n",
            "Epoch 95- Training... \n"
          ]
        },
        {
          "output_type": "stream",
          "name": "stderr",
          "text": [
            "100%|██████████| 2434/2434 [00:03<00:00, 758.82it/s]\n"
          ]
        },
        {
          "output_type": "stream",
          "name": "stdout",
          "text": [
            "Epoch 95- Evaluating... \n"
          ]
        },
        {
          "output_type": "stream",
          "name": "stderr",
          "text": [
            "100%|██████████| 1663/1663 [00:00<00:00, 6301.42it/s]\n"
          ]
        },
        {
          "output_type": "stream",
          "name": "stdout",
          "text": [
            "Scoretest:  0.04355324489912582\n",
            "Accuracytest:  12985.320294704754\n"
          ]
        },
        {
          "output_type": "stream",
          "name": "stderr",
          "text": [
            "100%|██████████| 2434/2434 [00:00<00:00, 6142.82it/s]\n"
          ]
        },
        {
          "output_type": "stream",
          "name": "stdout",
          "text": [
            "Scoretrain:  0.3402962538365508\n",
            "Accuracytrain:  28679.381832600222\n",
            "Epoch 96- Training... \n"
          ]
        },
        {
          "output_type": "stream",
          "name": "stderr",
          "text": [
            "100%|██████████| 2434/2434 [00:02<00:00, 1136.28it/s]\n"
          ]
        },
        {
          "output_type": "stream",
          "name": "stdout",
          "text": [
            "Epoch 96- Evaluating... \n"
          ]
        },
        {
          "output_type": "stream",
          "name": "stderr",
          "text": [
            "100%|██████████| 1663/1663 [00:00<00:00, 6096.49it/s]\n"
          ]
        },
        {
          "output_type": "stream",
          "name": "stdout",
          "text": [
            "Scoretest:  0.042292713346367417\n",
            "Accuracytest:  12995.083520322887\n"
          ]
        },
        {
          "output_type": "stream",
          "name": "stderr",
          "text": [
            "100%|██████████| 2434/2434 [00:01<00:00, 2264.22it/s]\n"
          ]
        },
        {
          "output_type": "stream",
          "name": "stdout",
          "text": [
            "Scoretrain:  0.3416475798390698\n",
            "Accuracytrain:  28698.390335081967\n",
            "Epoch 97- Training... \n"
          ]
        },
        {
          "output_type": "stream",
          "name": "stderr",
          "text": [
            "100%|██████████| 2434/2434 [00:03<00:00, 684.35it/s]\n"
          ]
        },
        {
          "output_type": "stream",
          "name": "stdout",
          "text": [
            "Epoch 97- Evaluating... \n"
          ]
        },
        {
          "output_type": "stream",
          "name": "stderr",
          "text": [
            "100%|██████████| 1663/1663 [00:00<00:00, 3158.42it/s]\n"
          ]
        },
        {
          "output_type": "stream",
          "name": "stdout",
          "text": [
            "Scoretest:  0.04302843780530208\n",
            "Accuracytest:  12944.82189858679\n"
          ]
        },
        {
          "output_type": "stream",
          "name": "stderr",
          "text": [
            "100%|██████████| 2434/2434 [00:00<00:00, 5343.05it/s]\n"
          ]
        },
        {
          "output_type": "stream",
          "name": "stdout",
          "text": [
            "Scoretrain:  0.3432514376744874\n",
            "Accuracytrain:  28611.52992787073\n",
            "Epoch 98- Training... \n"
          ]
        },
        {
          "output_type": "stream",
          "name": "stderr",
          "text": [
            "100%|██████████| 2434/2434 [00:01<00:00, 1302.87it/s]\n"
          ]
        },
        {
          "output_type": "stream",
          "name": "stdout",
          "text": [
            "Epoch 98- Evaluating... \n"
          ]
        },
        {
          "output_type": "stream",
          "name": "stderr",
          "text": [
            "100%|██████████| 1663/1663 [00:00<00:00, 6131.68it/s]\n"
          ]
        },
        {
          "output_type": "stream",
          "name": "stdout",
          "text": [
            "Scoretest:  0.03963335873300844\n",
            "Accuracytest:  13058.813820827576\n"
          ]
        },
        {
          "output_type": "stream",
          "name": "stderr",
          "text": [
            "100%|██████████| 2434/2434 [00:00<00:00, 6945.32it/s]\n"
          ]
        },
        {
          "output_type": "stream",
          "name": "stdout",
          "text": [
            "Scoretrain:  0.34497700352596405\n",
            "Accuracytrain:  28807.984338706054\n",
            "Epoch 99- Training... \n"
          ]
        },
        {
          "output_type": "stream",
          "name": "stderr",
          "text": [
            "100%|██████████| 2434/2434 [00:01<00:00, 1385.26it/s]\n"
          ]
        },
        {
          "output_type": "stream",
          "name": "stdout",
          "text": [
            "Epoch 99- Evaluating... \n"
          ]
        },
        {
          "output_type": "stream",
          "name": "stderr",
          "text": [
            "100%|██████████| 1663/1663 [00:00<00:00, 6543.71it/s]\n"
          ]
        },
        {
          "output_type": "stream",
          "name": "stdout",
          "text": [
            "Scoretest:  0.04109748863151652\n",
            "Accuracytest:  12984.549949904716\n"
          ]
        },
        {
          "output_type": "stream",
          "name": "stderr",
          "text": [
            "100%|██████████| 2434/2434 [00:00<00:00, 6266.80it/s]\n"
          ]
        },
        {
          "output_type": "stream",
          "name": "stdout",
          "text": [
            "Scoretrain:  0.34653463673140306\n",
            "Accuracytrain:  28695.501791825678\n"
          ]
        }
      ],
      "source": [
        "#model.cuda()     move model to GPU for faster computation in parallel\n",
        "n_epochs = 100    # you should change to larger value\n",
        "#print(X_tensor)\n",
        "for epoch in range(n_epochs):\n",
        "  #print(X_tensor)\n",
        "  print(f'Epoch {epoch}- Training... ')\n",
        "  for idx, player in enumerate(tqdm(X_tensor)):\n",
        "    #print(model.parameters)\n",
        "    optimizer.zero_grad()   # by default, Pytorch's optimizer retains gradient after apply Gradient Descent. We need to call this function to clear gradients explicitly.\n",
        "    preds = model(player)     # pass data through the model. \n",
        "    loss = loss_function(preds, Y_tensor[idx])   # compute loss \n",
        "    loss.backward()         # compute gradient by running backpropgation algorithm\n",
        "    optimizer.step()        # apply Gradient Descent\n",
        "    #print(loss)\n",
        "  \n",
        "  # evaluate \n",
        "  print(f'Epoch {epoch}- Evaluating... ')\n",
        "  mse = 0\n",
        "  predictions = []\n",
        "  for idx, player in enumerate(tqdm(X_test_tensor)):\n",
        "    preds = model(player)\n",
        "    predictions.append(preds.data[0])\n",
        "  preds = np.array(predictions)\n",
        "  mse = np.sum((preds-Y_test)**2)/len(X)\n",
        "  print(\"Scoretest: \", r2_score(Y_test,preds))\n",
        "  print(\"Accuracytest: \", mse)\n",
        "  mse = 0\n",
        "  predictions = []\n",
        "  for idx, player in enumerate(tqdm(X_tensor)):\n",
        "    preds = model(player)\n",
        "    predictions.append(preds.data[0])\n",
        "  preds = np.array(predictions)\n",
        "  mse = np.sum((preds-Y)**2)/len(X)\n",
        "  print(\"Scoretrain: \", r2_score(Y,preds))\n",
        "  print(\"Accuracytrain: \", mse)"
      ]
    },
    {
      "cell_type": "code",
      "execution_count": 66,
      "metadata": {
        "colab": {
          "base_uri": "https://localhost:8080/"
        },
        "id": "ly-ukZXCDZiK",
        "outputId": "d932ac03-2584-48df-ebd7-ae4fe505ca06"
      },
      "outputs": [
        {
          "output_type": "stream",
          "name": "stderr",
          "text": [
            "100%|██████████| 1663/1663 [00:00<00:00, 7009.07it/s]"
          ]
        },
        {
          "output_type": "stream",
          "name": "stdout",
          "text": [
            "mse :  8.103609668793192\n",
            "mae 1.9653192557130172\n",
            "r2 0.04109748863151652\n"
          ]
        },
        {
          "output_type": "stream",
          "name": "stderr",
          "text": [
            "\n"
          ]
        }
      ],
      "source": [
        "predictions = []\n",
        "for idx, player in enumerate(tqdm(X_test_tensor)):\n",
        "  preds = model(player)\n",
        "  predictions.append(preds.data[0])\n",
        "prediction = np.array(predictions)\n",
        "mse = mean_squared_error(Y_test, prediction)\n",
        "mae = mean_absolute_error(Y_test, prediction)\n",
        "r2 = r2_score(Y_test, prediction)\n",
        "#print(sorted(prediction,reverse=True))\n",
        "print(\"mse : \", mse)\n",
        "print('mae',mae)\n",
        "print('r2',r2)"
      ]
    },
    {
      "cell_type": "code",
      "source": [
        "nxt_wk = []\n",
        "for player in X_next_week_tensor:\n",
        "  pred = model(player)\n",
        "  nxt_wk.append(pred.data[0])\n",
        "\n",
        "next_week_prediction = np.array(nxt_wk)\n",
        "nwpdf = pd.DataFrame(next_week_prediction)\n",
        "nwpdf.to_csv('nnpred.csv')\n",
        "files.download('nnpred.csv')"
      ],
      "metadata": {
        "colab": {
          "base_uri": "https://localhost:8080/",
          "height": 17
        },
        "id": "1iYHmNcvQaY9",
        "outputId": "b6bd3d85-01be-488a-977c-9de757fad9c0"
      },
      "execution_count": 67,
      "outputs": [
        {
          "output_type": "display_data",
          "data": {
            "text/plain": [
              "<IPython.core.display.Javascript object>"
            ],
            "application/javascript": [
              "\n",
              "    async function download(id, filename, size) {\n",
              "      if (!google.colab.kernel.accessAllowed) {\n",
              "        return;\n",
              "      }\n",
              "      const div = document.createElement('div');\n",
              "      const label = document.createElement('label');\n",
              "      label.textContent = `Downloading \"${filename}\": `;\n",
              "      div.appendChild(label);\n",
              "      const progress = document.createElement('progress');\n",
              "      progress.max = size;\n",
              "      div.appendChild(progress);\n",
              "      document.body.appendChild(div);\n",
              "\n",
              "      const buffers = [];\n",
              "      let downloaded = 0;\n",
              "\n",
              "      const channel = await google.colab.kernel.comms.open(id);\n",
              "      // Send a message to notify the kernel that we're ready.\n",
              "      channel.send({})\n",
              "\n",
              "      for await (const message of channel.messages) {\n",
              "        // Send a message to notify the kernel that we're ready.\n",
              "        channel.send({})\n",
              "        if (message.buffers) {\n",
              "          for (const buffer of message.buffers) {\n",
              "            buffers.push(buffer);\n",
              "            downloaded += buffer.byteLength;\n",
              "            progress.value = downloaded;\n",
              "          }\n",
              "        }\n",
              "      }\n",
              "      const blob = new Blob(buffers, {type: 'application/binary'});\n",
              "      const a = document.createElement('a');\n",
              "      a.href = window.URL.createObjectURL(blob);\n",
              "      a.download = filename;\n",
              "      div.appendChild(a);\n",
              "      a.click();\n",
              "      div.remove();\n",
              "    }\n",
              "  "
            ]
          },
          "metadata": {}
        },
        {
          "output_type": "display_data",
          "data": {
            "text/plain": [
              "<IPython.core.display.Javascript object>"
            ],
            "application/javascript": [
              "download(\"download_25278eb3-a5be-4ac8-9a82-e61542b4d547\", \"nnpred.csv\", 12642)"
            ]
          },
          "metadata": {}
        }
      ]
    }
  ],
  "metadata": {
    "colab": {
      "provenance": [],
      "authorship_tag": "ABX9TyOd0B1CCHGi5fIWBOjQ1zmE",
      "include_colab_link": true
    },
    "kernelspec": {
      "display_name": "Python 3",
      "name": "python3"
    },
    "language_info": {
      "name": "python"
    }
  },
  "nbformat": 4,
  "nbformat_minor": 0
}